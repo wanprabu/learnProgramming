{
 "cells": [
  {
   "cell_type": "markdown",
   "id": "1d19c5ab-6fb4-4e2a-bb45-5474c1976230",
   "metadata": {},
   "source": [
    "# Multinomial Logit Models\n",
    "Multinomial logit models (MNL) are well known for its use in discrete choice problem. For instance, the choice of favourable places in the city by travellers. They might choose museum, cafe, exhibition, park, etc. Their choice could be influenced by visit duration, cost, distance, etc. MNL allows us to build such models to estimate the probability of choice.\n",
    "\n",
    "## Description\n",
    "This notebook is built based on a website in the reference. This is also part of my learning activities to better understand about MNL. Hopefuly, it will enable me finishing my manuscript regarding the MNL.\n",
    "\n",
    "## References\n",
    "https://library.virginia.edu/data/articles/getting-started-with-multinomial-logit-models"
   ]
  },
  {
   "cell_type": "markdown",
   "id": "d44f2d5d-5d5f-4834-810b-4a70bcb31c32",
   "metadata": {},
   "source": [
    "## Data Description\n",
    "The data used in this notebook is alligator food choice taken from the text An Introduction to Categorical Data Analysis by Alan Agresti (1996, p. 207). The data contain information on 59 alligators sampled from a lake in Florida. It has the length of the alligator in meters and the primary food type found in the alligator’s stomach. The food type was classified into three categories: \"Fish\", \"Invertebrate\", and \"Other\".\n",
    "\n",
    "We put additional `food` column as a factor and set the reference (or baseline) level to “Other” by placing it first in the `levels` and `labels` arguments to `factor()`."
   ]
  },
  {
   "cell_type": "code",
   "execution_count": 46,
   "id": "72b2687d-a613-4238-88b9-2a0b65ea772f",
   "metadata": {},
   "outputs": [
    {
     "data": {
      "text/html": [
       "<table class=\"dataframe\">\n",
       "<caption>A data.frame: 10 × 2</caption>\n",
       "<thead>\n",
       "\t<tr><th></th><th scope=col>length</th><th scope=col>food</th></tr>\n",
       "\t<tr><th></th><th scope=col>&lt;dbl&gt;</th><th scope=col>&lt;fct&gt;</th></tr>\n",
       "</thead>\n",
       "<tbody>\n",
       "\t<tr><th scope=row>1</th><td>1.24</td><td>Invertebrates</td></tr>\n",
       "\t<tr><th scope=row>2</th><td>1.45</td><td>Invertebrates</td></tr>\n",
       "\t<tr><th scope=row>3</th><td>1.63</td><td>Invertebrates</td></tr>\n",
       "\t<tr><th scope=row>4</th><td>1.78</td><td>Invertebrates</td></tr>\n",
       "\t<tr><th scope=row>5</th><td>1.98</td><td>Invertebrates</td></tr>\n",
       "\t<tr><th scope=row>6</th><td>2.36</td><td>Fish         </td></tr>\n",
       "\t<tr><th scope=row>7</th><td>2.79</td><td>Fish         </td></tr>\n",
       "\t<tr><th scope=row>8</th><td>3.68</td><td>Other        </td></tr>\n",
       "\t<tr><th scope=row>9</th><td>1.30</td><td>Invertebrates</td></tr>\n",
       "\t<tr><th scope=row>10</th><td>1.45</td><td>Other        </td></tr>\n",
       "</tbody>\n",
       "</table>\n"
      ],
      "text/latex": [
       "A data.frame: 10 × 2\n",
       "\\begin{tabular}{r|ll}\n",
       "  & length & food\\\\\n",
       "  & <dbl> & <fct>\\\\\n",
       "\\hline\n",
       "\t1 & 1.24 & Invertebrates\\\\\n",
       "\t2 & 1.45 & Invertebrates\\\\\n",
       "\t3 & 1.63 & Invertebrates\\\\\n",
       "\t4 & 1.78 & Invertebrates\\\\\n",
       "\t5 & 1.98 & Invertebrates\\\\\n",
       "\t6 & 2.36 & Fish         \\\\\n",
       "\t7 & 2.79 & Fish         \\\\\n",
       "\t8 & 3.68 & Other        \\\\\n",
       "\t9 & 1.30 & Invertebrates\\\\\n",
       "\t10 & 1.45 & Other        \\\\\n",
       "\\end{tabular}\n"
      ],
      "text/markdown": [
       "\n",
       "A data.frame: 10 × 2\n",
       "\n",
       "| <!--/--> | length &lt;dbl&gt; | food &lt;fct&gt; |\n",
       "|---|---|---|\n",
       "| 1 | 1.24 | Invertebrates |\n",
       "| 2 | 1.45 | Invertebrates |\n",
       "| 3 | 1.63 | Invertebrates |\n",
       "| 4 | 1.78 | Invertebrates |\n",
       "| 5 | 1.98 | Invertebrates |\n",
       "| 6 | 2.36 | Fish          |\n",
       "| 7 | 2.79 | Fish          |\n",
       "| 8 | 3.68 | Other         |\n",
       "| 9 | 1.30 | Invertebrates |\n",
       "| 10 | 1.45 | Other         |\n",
       "\n"
      ],
      "text/plain": [
       "   length food         \n",
       "1  1.24   Invertebrates\n",
       "2  1.45   Invertebrates\n",
       "3  1.63   Invertebrates\n",
       "4  1.78   Invertebrates\n",
       "5  1.98   Invertebrates\n",
       "6  2.36   Fish         \n",
       "7  2.79   Fish         \n",
       "8  3.68   Other        \n",
       "9  1.30   Invertebrates\n",
       "10 1.45   Other        "
      ]
     },
     "metadata": {},
     "output_type": "display_data"
    }
   ],
   "source": [
    "gators <- read.csv('https://static.lib.virginia.edu/statlab/materials/data/table_8-1.csv')\n",
    "gators$food <- factor(gators$food, \n",
    "                      levels = c(\"O\", \"F\", \"I\"), \n",
    "                      labels = c(\"Other\", \"Fish\", \"Invertebrates\"))\n",
    "head(gators, 10)"
   ]
  },
  {
   "cell_type": "code",
   "execution_count": 3,
   "id": "229210ab-77e4-4b77-826e-4aaaf6f3a8cf",
   "metadata": {},
   "outputs": [
    {
     "data": {
      "text/plain": [
       "\n",
       "        Other          Fish Invertebrates \n",
       "            8            31            20 "
      ]
     },
     "metadata": {},
     "output_type": "display_data"
    }
   ],
   "source": [
    "# counts\n",
    "table(gators$food)"
   ]
  },
  {
   "cell_type": "code",
   "execution_count": 4,
   "id": "b4868072-8084-4357-a35e-49c20d9bdfcc",
   "metadata": {},
   "outputs": [
    {
     "data": {
      "text/plain": [
       "\n",
       "        Other          Fish Invertebrates \n",
       "    0.1355932     0.5254237     0.3389831 "
      ]
     },
     "metadata": {},
     "output_type": "display_data"
    }
   ],
   "source": [
    "# proportions\n",
    "prop.table(table(gators$food))"
   ]
  },
  {
   "cell_type": "code",
   "execution_count": 5,
   "id": "c35afb07-9912-4d4b-b6bc-324317c6d7aa",
   "metadata": {},
   "outputs": [
    {
     "data": {
      "image/png": "[encoded data removed]",
      "text/plain": [
       "plot without title"
      ]
     },
     "metadata": {
      "image/png": {
       "height": 420,
       "width": 420
      }
     },
     "output_type": "display_data"
    }
   ],
   "source": [
    "library(ggplot2)\n",
    "ggplot(gators) +\n",
    "  aes(x = food, y = length) +\n",
    "  geom_boxplot()"
   ]
  },
  {
   "cell_type": "markdown",
   "id": "eb62af30-e842-4a48-bd61-50c17cd74037",
   "metadata": {},
   "source": [
    "## Modelling the choice\n",
    "There many R packages available for modelling MNL. In this notebook we will try to use `nnet` and `mlogit`.\n",
    "\n",
    "### Using multinom from nnet\n",
    "To fit our model, we specify food to be modeled as a function of `length` using `food ~ length`. We specify `data = gators` so the function knows where to find the food and length variables. Finally, we specify `Hess = TRUE` to save something called the Hessian matrix, which is required to calculate coefficient standard errors, and we set `trace = FALSE` to suppress the printing of convergence progress."
   ]
  },
  {
   "cell_type": "code",
   "execution_count": 4,
   "id": "189f6aae-43fa-403d-9df1-16d2b5c17e48",
   "metadata": {},
   "outputs": [
    {
     "name": "stdout",
     "output_type": "stream",
     "text": [
      "# weights:  9 (4 variable)\n",
      "initial  value 64.818125 \n",
      "iter  10 value 49.170785\n",
      "final  value 49.170622 \n",
      "converged\n"
     ]
    }
   ],
   "source": [
    "library(nnet)\n",
    "m <- multinom(food ~ length, data = gators, Hess = TRUE, trace = TRUE)"
   ]
  },
  {
   "cell_type": "code",
   "execution_count": 5,
   "id": "d80efc9d-1dbb-4a93-8f25-b9144e67c9be",
   "metadata": {},
   "outputs": [
    {
     "data": {
      "text/plain": [
       "Call:\n",
       "multinom(formula = food ~ length, data = gators, Hess = TRUE, \n",
       "    trace = TRUE)\n",
       "\n",
       "Coefficients:\n",
       "              (Intercept)     length\n",
       "Fish             1.617952 -0.1101836\n",
       "Invertebrates    5.697543 -2.4654695\n",
       "\n",
       "Std. Errors:\n",
       "              (Intercept)    length\n",
       "Fish             1.307291 0.5170838\n",
       "Invertebrates    1.793820 0.8996485\n",
       "\n",
       "Value/SE (Wald statistics):\n",
       "              (Intercept)     length\n",
       "Fish             1.237637 -0.2130865\n",
       "Invertebrates    3.176206 -2.7404808\n",
       "\n",
       "Residual Deviance: 98.34124 \n",
       "AIC: 106.3412 "
      ]
     },
     "metadata": {},
     "output_type": "display_data"
    }
   ],
   "source": [
    "# get the model summary\n",
    "summary(m, Wald.ratios = TRUE)"
   ]
  },
  {
   "cell_type": "markdown",
   "id": "898489ba-f5b5-483e-8e96-5d0344952c3b",
   "metadata": {},
   "source": [
    "### Output interpretation\n",
    "In the \"Coefficients\" section, we're basically seeing two models:\n",
    "1. one modeling the predictive effect of length on the log odds that an alligator prefers fish to other\n",
    "2. the predictive effect of length on the log odds that an alligator prefers invertebrates to other.\n",
    "\n",
    "In the \"Coefficients\" section, we're basically seeing two models, one modeling the predictive effect of length on the log odds that an alligator prefers fish to other, and the other modeling the predictive effect of length on the log odds that an alligator prefers invertebrates to other. \n",
    "\n",
    "> The smaller the standard error in relation to the coefficient, the more precise the estimate\n",
    "\n",
    "Wald statistics, presents the ratio of the coefficients to the standard errors. \n",
    "\n",
    "> The farther away the ratio is from 0, the more precise the estimate and the more likely it’s either positive or negative.\n",
    "\n",
    "This is no different from the output of other regression models. It’s just presented differently due to the fact we’re summarizing two models. Wald statistics larger than 2 provide evidence that effects are reliably positive or negative. If you must report p-values, you’ll have to calculate them manually. Here’s one way using the standard normal approximation:"
   ]
  },
  {
   "cell_type": "code",
   "execution_count": 11,
   "id": "2b75a783-c0e8-4fc7-948c-f3bcb43d8d0b",
   "metadata": {},
   "outputs": [
    {
     "data": {
      "text/html": [
       "<table class=\"dataframe\">\n",
       "<caption>A matrix: 2 × 2 of type dbl</caption>\n",
       "<thead>\n",
       "\t<tr><th></th><th scope=col>(Intercept)</th><th scope=col>length</th></tr>\n",
       "</thead>\n",
       "<tbody>\n",
       "\t<tr><th scope=row>Fish</th><td>0.215850665</td><td>0.831259475</td></tr>\n",
       "\t<tr><th scope=row>Invertebrates</th><td>0.001492149</td><td>0.006134937</td></tr>\n",
       "</tbody>\n",
       "</table>\n"
      ],
      "text/latex": [
       "A matrix: 2 × 2 of type dbl\n",
       "\\begin{tabular}{r|ll}\n",
       "  & (Intercept) & length\\\\\n",
       "\\hline\n",
       "\tFish & 0.215850665 & 0.831259475\\\\\n",
       "\tInvertebrates & 0.001492149 & 0.006134937\\\\\n",
       "\\end{tabular}\n"
      ],
      "text/markdown": [
       "\n",
       "A matrix: 2 × 2 of type dbl\n",
       "\n",
       "| <!--/--> | (Intercept) | length |\n",
       "|---|---|---|\n",
       "| Fish | 0.215850665 | 0.831259475 |\n",
       "| Invertebrates | 0.001492149 | 0.006134937 |\n",
       "\n"
      ],
      "text/plain": [
       "              (Intercept) length     \n",
       "Fish          0.215850665 0.831259475\n",
       "Invertebrates 0.001492149 0.006134937"
      ]
     },
     "metadata": {},
     "output_type": "display_data"
    }
   ],
   "source": [
    "s <- summary(m, Wald.ratios = TRUE)\n",
    "p <- 2 * pnorm(abs(s$Wald.ratios), lower.tail = FALSE)\n",
    "p"
   ]
  },
  {
   "cell_type": "markdown",
   "id": "a26029ec-49b6-4e45-88a0-61816351fde5",
   "metadata": {},
   "source": [
    "The `length` coefficient for the \"Invertebrates\" model is negative (-2.46) and has a large Wald statistic (greater than 2). It appears that the longer an alligator is, the less likely it is to eat invertebrates instead of \"other.\""
   ]
  },
  {
   "cell_type": "code",
   "execution_count": 13,
   "id": "53f5ce6e-f7dc-4263-83e5-411ed02fbc52",
   "metadata": {},
   "outputs": [
    {
     "data": {
      "text/html": [
       "<style>\n",
       ".list-inline {list-style: none; margin:0; padding: 0}\n",
       ".list-inline>li {display: inline-block}\n",
       ".list-inline>li:not(:last-child)::after {content: \"\\00b7\"; padding: 0 .5ex}\n",
       "</style>\n",
       "<ol class=list-inline><li>-0.944291747381735</li><li>-1.123649237828</li><li>4.18019625245569</li><li>0.903282053660303</li><li>2.1817199581815</li><li>-4.22874821789507</li><li>9.21336674199464</li><li>-0.702190786174728</li></ol>\n"
      ],
      "text/latex": [
       "\\begin{enumerate*}\n",
       "\\item -0.944291747381735\n",
       "\\item -1.123649237828\n",
       "\\item 4.18019625245569\n",
       "\\item 0.903282053660303\n",
       "\\item 2.1817199581815\n",
       "\\item -4.22874821789507\n",
       "\\item 9.21336674199464\n",
       "\\item -0.702190786174728\n",
       "\\end{enumerate*}\n"
      ],
      "text/markdown": [
       "1. -0.944291747381735\n",
       "2. -1.123649237828\n",
       "3. 4.18019625245569\n",
       "4. 0.903282053660303\n",
       "5. 2.1817199581815\n",
       "6. -4.22874821789507\n",
       "7. 9.21336674199464\n",
       "8. -0.702190786174728\n",
       "\n",
       "\n"
      ],
      "text/plain": [
       ", , Fish\n",
       "\n",
       "                 2.5 %    97.5 %\n",
       "(Intercept) -0.9442917 4.1801963\n",
       "length      -1.1236492 0.9032821\n",
       "\n",
       ", , Invertebrates\n",
       "\n",
       "                2.5 %     97.5 %\n",
       "(Intercept)  2.181720  9.2133667\n",
       "length      -4.228748 -0.7021908\n"
      ]
     },
     "metadata": {},
     "output_type": "display_data"
    }
   ],
   "source": [
    "# calculate confidence intervals\n",
    "confint(m)"
   ]
  },
  {
   "cell_type": "code",
   "execution_count": 15,
   "id": "8b8c07f7-7761-4cb7-a7b8-b390a6a80c43",
   "metadata": {},
   "outputs": [
    {
     "name": "stderr",
     "output_type": "stream",
     "text": [
      "Loading required package: carData\n",
      "\n"
     ]
    },
    {
     "name": "stdout",
     "output_type": "stream",
     "text": [
      "# weights:  6 (2 variable)\n",
      "initial  value 64.818125 \n",
      "final  value 57.570928 \n",
      "converged\n"
     ]
    },
    {
     "data": {
      "text/html": [
       "<table class=\"dataframe\">\n",
       "<caption>A anova: 1 × 3</caption>\n",
       "<thead>\n",
       "\t<tr><th></th><th scope=col>LR Chisq</th><th scope=col>Df</th><th scope=col>Pr(&gt;Chisq)</th></tr>\n",
       "\t<tr><th></th><th scope=col>&lt;dbl&gt;</th><th scope=col>&lt;dbl&gt;</th><th scope=col>&lt;dbl&gt;</th></tr>\n",
       "</thead>\n",
       "<tbody>\n",
       "\t<tr><th scope=row>length</th><td>16.80061</td><td>2</td><td>0.0002247985</td></tr>\n",
       "</tbody>\n",
       "</table>\n"
      ],
      "text/latex": [
       "A anova: 1 × 3\n",
       "\\begin{tabular}{r|lll}\n",
       "  & LR Chisq & Df & Pr(>Chisq)\\\\\n",
       "  & <dbl> & <dbl> & <dbl>\\\\\n",
       "\\hline\n",
       "\tlength & 16.80061 & 2 & 0.0002247985\\\\\n",
       "\\end{tabular}\n"
      ],
      "text/markdown": [
       "\n",
       "A anova: 1 × 3\n",
       "\n",
       "| <!--/--> | LR Chisq &lt;dbl&gt; | Df &lt;dbl&gt; | Pr(&gt;Chisq) &lt;dbl&gt; |\n",
       "|---|---|---|---|\n",
       "| length | 16.80061 | 2 | 0.0002247985 |\n",
       "\n"
      ],
      "text/plain": [
       "       LR Chisq Df Pr(>Chisq)  \n",
       "length 16.80061 2  0.0002247985"
      ]
     },
     "metadata": {},
     "output_type": "display_data"
    }
   ],
   "source": [
    "library(car)\n",
    "Anova(m)"
   ]
  },
  {
   "cell_type": "markdown",
   "id": "5c763ab6-9f27-460a-8443-54c2b20ce07c",
   "metadata": {},
   "source": [
    "The result is a test of whether or not the `length` coefficient in both baseline logit models is plausibly 0. The null is that a model with just an intercept is equally as good as a model with an intercept and length. (An intercept-only model is the same as simply using the observed proportions in each food category as a basis for making predictions about an alligator’s food choice.) The small $p$-value (p = 0.0002248) provides evidence against the null and leads us to keep `length` in our model."
   ]
  },
  {
   "cell_type": "markdown",
   "id": "3492c5ca-ccb5-4ae9-a1f7-d25714592bf8",
   "metadata": {},
   "source": [
    "### Using mlogit package\n",
    "This library "
   ]
  },
  {
   "cell_type": "code",
   "execution_count": 1,
   "id": "2dccc7a0-c279-4518-9d8c-ee1dc3de51bb",
   "metadata": {},
   "outputs": [
    {
     "name": "stderr",
     "output_type": "stream",
     "text": [
      "Loading required package: dfidx\n",
      "\n",
      "\n",
      "Attaching package: ‘dfidx’\n",
      "\n",
      "\n",
      "The following object is masked from ‘package:stats’:\n",
      "\n",
      "    filter\n",
      "\n",
      "\n"
     ]
    }
   ],
   "source": [
    "library(mlogit) "
   ]
  },
  {
   "cell_type": "code",
   "execution_count": 8,
   "id": "304af8b0-1f65-431e-b300-823143612d58",
   "metadata": {},
   "outputs": [
    {
     "name": "stdout",
     "output_type": "stream",
     "text": [
      "~~~~~~~\n",
      " first 10 observations out of 177 \n",
      "~~~~~~~\n",
      "   length  food chid           alt    idx\n",
      "1    1.24 FALSE    1          Fish 1:Fish\n",
      "2    1.24  TRUE    1 Invertebrates 1:ates\n",
      "3    1.24 FALSE    1         Other 1:ther\n",
      "4    1.45 FALSE    2          Fish 2:Fish\n",
      "5    1.45  TRUE    2 Invertebrates 2:ates\n",
      "6    1.45 FALSE    2         Other 2:ther\n",
      "7    1.63 FALSE    3          Fish 3:Fish\n",
      "8    1.63  TRUE    3 Invertebrates 3:ates\n",
      "9    1.63 FALSE    3         Other 3:ther\n",
      "10   1.78 FALSE    4          Fish 4:Fish\n",
      "\n",
      "~~~ indexes ~~~~\n",
      "   chid           alt\n",
      "1     1          Fish\n",
      "2     1 Invertebrates\n",
      "3     1         Other\n",
      "4     2          Fish\n",
      "5     2 Invertebrates\n",
      "6     2         Other\n",
      "7     3          Fish\n",
      "8     3 Invertebrates\n",
      "9     3         Other\n",
      "10    4          Fish\n",
      "indexes:  1, 2 \n"
     ]
    }
   ],
   "source": [
    "longGators = mlogit.data(gators, shape=\"wide\", choice = \"food\")\n",
    "head(longGators)\n",
    "#m2 = mlogit(food ~ 0 | length, data = gators)"
   ]
  },
  {
   "cell_type": "code",
   "execution_count": 28,
   "id": "158bb347-6465-4475-8676-966e1b5e3689",
   "metadata": {},
   "outputs": [
    {
     "data": {
      "text/plain": [
       "\n",
       "Call:\n",
       "mlogit(formula = food ~ 0 | length, data = longGators, method = \"nr\")\n",
       "\n",
       "Frequencies of alternatives:choice\n",
       "         Fish Invertebrates         Other \n",
       "      0.52542       0.33898       0.13559 \n",
       "\n",
       "nr method\n",
       "5 iterations, 0h:0m:0s \n",
       "g'(-H)^-1g = 6.55E-08 \n",
       "gradient close to zero \n",
       "\n",
       "Coefficients :\n",
       "                          Estimate Std. Error z-value Pr(>|z|)   \n",
       "(Intercept):Invertebrates  4.07971    1.46864  2.7779 0.005471 **\n",
       "(Intercept):Other         -1.61773    1.30727 -1.2375 0.215908   \n",
       "length:Invertebrates      -2.35534    0.80329 -2.9321 0.003367 **\n",
       "length:Other               0.11011    0.51708  0.2129 0.831371   \n",
       "---\n",
       "Signif. codes:  0 ‘***’ 0.001 ‘**’ 0.01 ‘*’ 0.05 ‘.’ 0.1 ‘ ’ 1\n",
       "\n",
       "Log-Likelihood: -49.171\n",
       "McFadden R^2:  0.14591 \n",
       "Likelihood ratio test : chisq = 16.801 (p.value = 0.0002248)"
      ]
     },
     "metadata": {},
     "output_type": "display_data"
    }
   ],
   "source": [
    "m2 = mlogit(food ~ 0 | length, data = longGators)\n",
    "summary(m2)"
   ]
  },
  {
   "cell_type": "code",
   "execution_count": 13,
   "id": "ad8abac5-2f8f-4439-8d7b-93a364caa415",
   "metadata": {},
   "outputs": [
    {
     "data": {
      "text/html": [
       "<table class=\"dataframe\">\n",
       "<caption>A anova: 2 × 5</caption>\n",
       "<thead>\n",
       "\t<tr><th></th><th scope=col>#Df</th><th scope=col>LogLik</th><th scope=col>Df</th><th scope=col>Chisq</th><th scope=col>Pr(&gt;Chisq)</th></tr>\n",
       "\t<tr><th></th><th scope=col>&lt;dbl&gt;</th><th scope=col>&lt;dbl&gt;</th><th scope=col>&lt;dbl&gt;</th><th scope=col>&lt;dbl&gt;</th><th scope=col>&lt;dbl&gt;</th></tr>\n",
       "</thead>\n",
       "<tbody>\n",
       "\t<tr><th scope=row>1</th><td>4</td><td>-49.17062</td><td>NA</td><td>NA</td><td>NA</td></tr>\n",
       "\t<tr><th scope=row>2</th><td>4</td><td>-49.17062</td><td> 0</td><td> 0</td><td> 1</td></tr>\n",
       "</tbody>\n",
       "</table>\n"
      ],
      "text/latex": [
       "A anova: 2 × 5\n",
       "\\begin{tabular}{r|lllll}\n",
       "  & \\#Df & LogLik & Df & Chisq & Pr(>Chisq)\\\\\n",
       "  & <dbl> & <dbl> & <dbl> & <dbl> & <dbl>\\\\\n",
       "\\hline\n",
       "\t1 & 4 & -49.17062 & NA & NA & NA\\\\\n",
       "\t2 & 4 & -49.17062 &  0 &  0 &  1\\\\\n",
       "\\end{tabular}\n"
      ],
      "text/markdown": [
       "\n",
       "A anova: 2 × 5\n",
       "\n",
       "| <!--/--> | #Df &lt;dbl&gt; | LogLik &lt;dbl&gt; | Df &lt;dbl&gt; | Chisq &lt;dbl&gt; | Pr(&gt;Chisq) &lt;dbl&gt; |\n",
       "|---|---|---|---|---|---|\n",
       "| 1 | 4 | -49.17062 | NA | NA | NA |\n",
       "| 2 | 4 | -49.17062 |  0 |  0 |  1 |\n",
       "\n"
      ],
      "text/plain": [
       "  #Df LogLik    Df Chisq Pr(>Chisq)\n",
       "1 4   -49.17062 NA NA    NA        \n",
       "2 4   -49.17062  0  0     1        "
      ]
     },
     "metadata": {},
     "output_type": "display_data"
    }
   ],
   "source": [
    "lrtest(m2)"
   ]
  },
  {
   "cell_type": "code",
   "execution_count": 20,
   "id": "54e389fa-cbbe-41f2-a122-6e8d53125bc6",
   "metadata": {},
   "outputs": [
    {
     "data": {
      "text/plain": [
       "\n",
       "\tscore test\n",
       "\n",
       "data:  heterosc = TRUE\n",
       "chisq = 1.4869, df = 2, p-value = 0.4755\n",
       "alternative hypothesis: heteroscedastic model\n"
      ]
     },
     "metadata": {},
     "output_type": "display_data"
    }
   ],
   "source": [
    "scoretest(m2, heterosc = TRUE)"
   ]
  },
  {
   "cell_type": "code",
   "execution_count": 22,
   "id": "c4b32671-c01a-4006-86fe-ab96c7cb6174",
   "metadata": {},
   "outputs": [
    {
     "ename": "ERROR",
     "evalue": "Error in waldtest.mlogit(m2, heterosc = TRUE): object 'su' not found\n",
     "output_type": "error",
     "traceback": [
      "Error in waldtest.mlogit(m2, heterosc = TRUE): object 'su' not found\nTraceback:\n",
      "1. waldtest(m2, heterosc = TRUE)",
      "2. waldtest.mlogit(m2, heterosc = TRUE)"
     ]
    }
   ],
   "source": [
    "waldtest(m2, heterosc = TRUE)"
   ]
  },
  {
   "cell_type": "code",
   "execution_count": 33,
   "id": "dc52f6a9-03f0-4164-bb72-99c39135cdc0",
   "metadata": {},
   "outputs": [
    {
     "data": {
      "text/html": [
       "<table class=\"dataframe\">\n",
       "<caption>A anova: 2 × 4</caption>\n",
       "<thead>\n",
       "\t<tr><th></th><th scope=col>Res.Df</th><th scope=col>Df</th><th scope=col>Chisq</th><th scope=col>Pr(&gt;Chisq)</th></tr>\n",
       "\t<tr><th></th><th scope=col>&lt;dbl&gt;</th><th scope=col>&lt;dbl&gt;</th><th scope=col>&lt;dbl&gt;</th><th scope=col>&lt;dbl&gt;</th></tr>\n",
       "</thead>\n",
       "<tbody>\n",
       "\t<tr><th scope=row>1</th><td>57</td><td>NA</td><td>      NA</td><td>          NA</td></tr>\n",
       "\t<tr><th scope=row>2</th><td>55</td><td> 2</td><td>18.91408</td><td>7.813756e-05</td></tr>\n",
       "</tbody>\n",
       "</table>\n"
      ],
      "text/latex": [
       "A anova: 2 × 4\n",
       "\\begin{tabular}{r|llll}\n",
       "  & Res.Df & Df & Chisq & Pr(>Chisq)\\\\\n",
       "  & <dbl> & <dbl> & <dbl> & <dbl>\\\\\n",
       "\\hline\n",
       "\t1 & 57 & NA &       NA &           NA\\\\\n",
       "\t2 & 55 &  2 & 18.91408 & 7.813756e-05\\\\\n",
       "\\end{tabular}\n"
      ],
      "text/markdown": [
       "\n",
       "A anova: 2 × 4\n",
       "\n",
       "| <!--/--> | Res.Df &lt;dbl&gt; | Df &lt;dbl&gt; | Chisq &lt;dbl&gt; | Pr(&gt;Chisq) &lt;dbl&gt; |\n",
       "|---|---|---|---|---|\n",
       "| 1 | 57 | NA |       NA |           NA |\n",
       "| 2 | 55 |  2 | 18.91408 | 7.813756e-05 |\n",
       "\n"
      ],
      "text/plain": [
       "  Res.Df Df Chisq    Pr(>Chisq)  \n",
       "1 57     NA       NA           NA\n",
       "2 55      2 18.91408 7.813756e-05"
      ]
     },
     "metadata": {},
     "output_type": "display_data"
    }
   ],
   "source": [
    "linearHypothesis(m2, c(\"length:Invertebrates = 1\", \"length:Other = 1\"))"
   ]
  },
  {
   "cell_type": "code",
   "execution_count": 37,
   "id": "b258c2d6-7949-40b7-92fe-5103fd0f8228",
   "metadata": {},
   "outputs": [
    {
     "data": {
      "text/plain": [
       "\n",
       "Call:\n",
       "mlogit(formula = food ~ length | 0, data = longGators, method = \"nr\")\n",
       "\n",
       "Frequencies of alternatives:choice\n",
       "         Fish Invertebrates         Other \n",
       "      0.52542       0.33898       0.13559 \n",
       "\n",
       "nr method\n",
       "1 iterations, 0h:0m:0s \n",
       "g'(-H)^-1g = 1E+10 \n",
       "last step couldn't find higher value \n",
       "\n",
       "Coefficients :\n",
       "         Estimate Std. Error z-value Pr(>|z|)\n",
       "length 0.0000e+00 6.5004e+14       0        1\n",
       "\n",
       "Log-Likelihood: -64.818"
      ]
     },
     "metadata": {},
     "output_type": "display_data"
    }
   ],
   "source": [
    "m3 = mlogit(food ~ length | 0, data = longGators)\n",
    "summary(m3)"
   ]
  },
  {
   "cell_type": "code",
   "execution_count": 47,
   "id": "4bd41b89-4e19-4e9c-bc78-17ee8e1337ae",
   "metadata": {},
   "outputs": [
    {
     "name": "stdout",
     "output_type": "stream",
     "text": [
      "~~~~~~~\n",
      " first 10 observations out of 15 \n",
      "~~~~~~~\n",
      "   length  food chid           alt    idx\n",
      "1    1.78 FALSE    1          Fish 1:Fish\n",
      "2    1.78  TRUE    1 Invertebrates 1:ates\n",
      "3    1.78 FALSE    1         Other 1:ther\n",
      "4    1.90 FALSE    2          Fish 2:Fish\n",
      "5    1.90  TRUE    2 Invertebrates 2:ates\n",
      "6    1.90 FALSE    2         Other 2:ther\n",
      "7    2.35  TRUE    3          Fish 3:Fish\n",
      "8    2.35 FALSE    3 Invertebrates 3:ates\n",
      "9    2.35 FALSE    3         Other 3:ther\n",
      "10   2.78  TRUE    4          Fish 4:Fish\n",
      "\n",
      "~~~ indexes ~~~~\n",
      "   chid           alt\n",
      "1     1          Fish\n",
      "2     1 Invertebrates\n",
      "3     1         Other\n",
      "4     2          Fish\n",
      "5     2 Invertebrates\n",
      "6     2         Other\n",
      "7     3          Fish\n",
      "8     3 Invertebrates\n",
      "9     3         Other\n",
      "10    4          Fish\n",
      "indexes:  1, 2 \n"
     ]
    }
   ],
   "source": [
    "predictFood <- data.frame(\n",
    "    length = c(1.78, 1.9, 2.35, 2.78, 3.68),\n",
    "    food = c(\"Invertebrates\", \"Invertebrates\", \"Fish\", \"Fish\", \"Other\")\n",
    ")\n",
    "\n",
    "#predictFood\n",
    "gatorPredict = mlogit.data(predictFood, shape=\"wide\", choice = \"food\")\n",
    "head(gatorPredict)"
   ]
  },
  {
   "cell_type": "code",
   "execution_count": 48,
   "id": "0cf2c584-2cff-4db5-b87c-8df5cf67f991",
   "metadata": {},
   "outputs": [
    {
     "data": {
      "text/html": [
       "<table class=\"dataframe\">\n",
       "<caption>A matrix: 5 × 3 of type dbl</caption>\n",
       "<thead>\n",
       "\t<tr><th></th><th scope=col>Fish</th><th scope=col>Invertebrates</th><th scope=col>Other</th></tr>\n",
       "</thead>\n",
       "<tbody>\n",
       "\t<tr><th scope=row>1</th><td>0.4684641</td><td>0.41849806</td><td>0.1130378</td></tr>\n",
       "\t<tr><th scope=row>2</th><td>0.5214048</td><td>0.35110976</td><td>0.1274855</td></tr>\n",
       "\t<tr><th scope=row>3</th><td>0.6710295</td><td>0.15656694</td><td>0.1724035</td></tr>\n",
       "\t<tr><th scope=row>4</th><td>0.7384844</td><td>0.06258187</td><td>0.1989337</td></tr>\n",
       "\t<tr><th scope=row>5</th><td>0.7647495</td><td>0.00778050</td><td>0.2274700</td></tr>\n",
       "</tbody>\n",
       "</table>\n"
      ],
      "text/latex": [
       "A matrix: 5 × 3 of type dbl\n",
       "\\begin{tabular}{r|lll}\n",
       "  & Fish & Invertebrates & Other\\\\\n",
       "\\hline\n",
       "\t1 & 0.4684641 & 0.41849806 & 0.1130378\\\\\n",
       "\t2 & 0.5214048 & 0.35110976 & 0.1274855\\\\\n",
       "\t3 & 0.6710295 & 0.15656694 & 0.1724035\\\\\n",
       "\t4 & 0.7384844 & 0.06258187 & 0.1989337\\\\\n",
       "\t5 & 0.7647495 & 0.00778050 & 0.2274700\\\\\n",
       "\\end{tabular}\n"
      ],
      "text/markdown": [
       "\n",
       "A matrix: 5 × 3 of type dbl\n",
       "\n",
       "| <!--/--> | Fish | Invertebrates | Other |\n",
       "|---|---|---|---|\n",
       "| 1 | 0.4684641 | 0.41849806 | 0.1130378 |\n",
       "| 2 | 0.5214048 | 0.35110976 | 0.1274855 |\n",
       "| 3 | 0.6710295 | 0.15656694 | 0.1724035 |\n",
       "| 4 | 0.7384844 | 0.06258187 | 0.1989337 |\n",
       "| 5 | 0.7647495 | 0.00778050 | 0.2274700 |\n",
       "\n"
      ],
      "text/plain": [
       "  Fish      Invertebrates Other    \n",
       "1 0.4684641 0.41849806    0.1130378\n",
       "2 0.5214048 0.35110976    0.1274855\n",
       "3 0.6710295 0.15656694    0.1724035\n",
       "4 0.7384844 0.06258187    0.1989337\n",
       "5 0.7647495 0.00778050    0.2274700"
      ]
     },
     "metadata": {},
     "output_type": "display_data"
    }
   ],
   "source": [
    "prediction <- predict(m2, gatorPredict)\n",
    "prediction"
   ]
  },
  {
   "cell_type": "code",
   "execution_count": 68,
   "id": "2dd5d8b7-2723-42fc-8b7f-8623706e4445",
   "metadata": {},
   "outputs": [
    {
     "data": {
      "text/html": [
       "<table class=\"dataframe\">\n",
       "<caption>A matrix: 59 × 3 of type dbl</caption>\n",
       "<thead>\n",
       "\t<tr><th></th><th scope=col>Fish</th><th scope=col>Invertebrates</th><th scope=col>Other</th></tr>\n",
       "</thead>\n",
       "<tbody>\n",
       "\t<tr><th scope=row>1</th><td>0.2265307</td><td>0.721964000</td><td>0.05150528</td></tr>\n",
       "\t<tr><th scope=row>2</th><td>0.3148464</td><td>0.611893842</td><td>0.07325976</td></tr>\n",
       "\t<tr><th scope=row>3</th><td>0.3985265</td><td>0.506886522</td><td>0.09458701</td></tr>\n",
       "\t<tr><th scope=row>4</th><td>0.4684641</td><td>0.418498061</td><td>0.11303779</td></tr>\n",
       "\t<tr><th scope=row>5</th><td>0.5541973</td><td>0.309100391</td><td>0.13670226</td></tr>\n",
       "\t<tr><th scope=row>6</th><td>0.6733557</td><td>0.153452479</td><td>0.17319179</td></tr>\n",
       "\t<tr><th scope=row>7</th><td>0.7393995</td><td>0.061200822</td><td>0.19939966</td></tr>\n",
       "\t<tr><th scope=row>8</th><td>0.7647495</td><td>0.007780500</td><td>0.22746996</td></tr>\n",
       "\t<tr><th scope=row>9</th><td>0.2502564</td><td>0.692466814</td><td>0.05727683</td></tr>\n",
       "\t<tr><th scope=row>10</th><td>0.3148464</td><td>0.611893842</td><td>0.07325976</td></tr>\n",
       "\t<tr><th scope=row>11</th><td>0.4079566</td><td>0.495004741</td><td>0.09703864</td></tr>\n",
       "\t<tr><th scope=row>12</th><td>0.4684641</td><td>0.418498061</td><td>0.11303779</td></tr>\n",
       "\t<tr><th scope=row>13</th><td>0.5734571</td><td>0.284308968</td><td>0.14223392</td></tr>\n",
       "\t<tr><th scope=row>14</th><td>0.6800857</td><td>0.144412793</td><td>0.17550155</td></tr>\n",
       "\t<tr><th scope=row>15</th><td>0.7436371</td><td>0.054713390</td><td>0.20164955</td></tr>\n",
       "\t<tr><th scope=row>16</th><td>0.7645799</td><td>0.007248095</td><td>0.22817198</td></tr>\n",
       "\t<tr><th scope=row>17</th><td>0.2502564</td><td>0.692466814</td><td>0.05727683</td></tr>\n",
       "\t<tr><th scope=row>18</th><td>0.3239142</td><td>0.600549951</td><td>0.07553586</td></tr>\n",
       "\t<tr><th scope=row>19</th><td>0.4079566</td><td>0.495004741</td><td>0.09703864</td></tr>\n",
       "\t<tr><th scope=row>20</th><td>0.4684641</td><td>0.418498061</td><td>0.11303779</td></tr>\n",
       "\t<tr><th scope=row>21</th><td>0.5734571</td><td>0.284308968</td><td>0.14223392</td></tr>\n",
       "\t<tr><th scope=row>22</th><td>0.6843685</td><td>0.138635322</td><td>0.17699613</td></tr>\n",
       "\t<tr><th scope=row>23</th><td>0.7623691</td><td>0.021355258</td><td>0.21627565</td></tr>\n",
       "\t<tr><th scope=row>24</th><td>0.7630060</td><td>0.004733748</td><td>0.23226027</td></tr>\n",
       "\t<tr><th scope=row>25</th><td>0.2584591</td><td>0.682256244</td><td>0.05928463</td></tr>\n",
       "\t<tr><th scope=row>26</th><td>0.3239142</td><td>0.600549951</td><td>0.07553586</td></tr>\n",
       "\t<tr><th scope=row>27</th><td>0.4079566</td><td>0.495004741</td><td>0.09703864</td></tr>\n",
       "\t<tr><th scope=row>28</th><td>0.4775411</td><td>0.406976821</td><td>0.11548205</td></tr>\n",
       "\t<tr><th scope=row>29</th><td>0.6185745</td><td>0.225789278</td><td>0.15563626</td></tr>\n",
       "\t<tr><th scope=row>30</th><td>0.6904948</td><td>0.130333774</td><td>0.17917142</td></tr>\n",
       "\t<tr><th scope=row>31</th><td>0.7629347</td><td>0.019913133</td><td>0.21715222</td></tr>\n",
       "\t<tr><th scope=row>32</th><td>0.2584591</td><td>0.682256244</td><td>0.05928463</td></tr>\n",
       "\t<tr><th scope=row>33</th><td>0.3376640</td><td>0.583333155</td><td>0.07900282</td></tr>\n",
       "\t<tr><th scope=row>34</th><td>0.4079566</td><td>0.495004741</td><td>0.09703864</td></tr>\n",
       "\t<tr><th scope=row>35</th><td>0.4775411</td><td>0.406976821</td><td>0.11548205</td></tr>\n",
       "\t<tr><th scope=row>36</th><td>0.6481692</td><td>0.186942787</td><td>0.16488804</td></tr>\n",
       "\t<tr><th scope=row>37</th><td>0.6943849</td><td>0.125037025</td><td>0.18057807</td></tr>\n",
       "\t<tr><th scope=row>38</th><td>0.7637086</td><td>0.017718806</td><td>0.21857255</td></tr>\n",
       "\t<tr><th scope=row>39</th><td>0.2925882</td><td>0.639704923</td><td>0.06770685</td></tr>\n",
       "\t<tr><th scope=row>40</th><td>0.3469154</td><td>0.571738282</td><td>0.08134629</td></tr>\n",
       "\t<tr><th scope=row>41</th><td>0.4220745</td><td>0.477196478</td><td>0.10072899</td></tr>\n",
       "\t<tr><th scope=row>42</th><td>0.4998213</td><td>0.378641448</td><td>0.12153726</td></tr>\n",
       "\t<tr><th scope=row>43</th><td>0.6613016</td><td>0.169540873</td><td>0.16915753</td></tr>\n",
       "\t<tr><th scope=row>44</th><td>0.7116348</td><td>0.101252220</td><td>0.18711297</td></tr>\n",
       "\t<tr><th scope=row>45</th><td>0.7650896</td><td>0.010326420</td><td>0.22458397</td></tr>\n",
       "\t<tr><th scope=row>46</th><td>0.3014156</td><td>0.628681062</td><td>0.06990334</td></tr>\n",
       "\t<tr><th scope=row>47</th><td>0.3608949</td><td>0.554200799</td><td>0.08490427</td></tr>\n",
       "\t<tr><th scope=row>48</th><td>0.4314525</td><td>0.465353406</td><td>0.10319407</td></tr>\n",
       "\t<tr><th scope=row>49</th><td>0.5128631</td><td>0.362015797</td><td>0.12512114</td></tr>\n",
       "\t<tr><th scope=row>50</th><td>0.6613016</td><td>0.169540873</td><td>0.16915753</td></tr>\n",
       "\t<tr><th scope=row>51</th><td>0.7267736</td><td>0.079804325</td><td>0.19342207</td></tr>\n",
       "\t<tr><th scope=row>52</th><td>0.7650743</td><td>0.009851059</td><td>0.22507460</td></tr>\n",
       "\t<tr><th scope=row>53</th><td>0.3014156</td><td>0.628681062</td><td>0.06990334</td></tr>\n",
       "\t<tr><th scope=row>54</th><td>0.3843811</td><td>0.524690082</td><td>0.09092886</td></tr>\n",
       "\t<tr><th scope=row>55</th><td>0.4454419</td><td>0.447665543</td><td>0.10689254</td></tr>\n",
       "\t<tr><th scope=row>56</th><td>0.5339698</td><td>0.335040516</td><td>0.13098965</td></tr>\n",
       "\t<tr><th scope=row>57</th><td>0.6733557</td><td>0.153452479</td><td>0.17319179</td></tr>\n",
       "\t<tr><th scope=row>58</th><td>0.7324857</td><td>0.071495864</td><td>0.19601847</td></tr>\n",
       "\t<tr><th scope=row>59</th><td>0.7648452</td><td>0.008156804</td><td>0.22699798</td></tr>\n",
       "</tbody>\n",
       "</table>\n"
      ],
      "text/latex": [
       "A matrix: 59 × 3 of type dbl\n",
       "\\begin{tabular}{r|lll}\n",
       "  & Fish & Invertebrates & Other\\\\\n",
       "\\hline\n",
       "\t1 & 0.2265307 & 0.721964000 & 0.05150528\\\\\n",
       "\t2 & 0.3148464 & 0.611893842 & 0.07325976\\\\\n",
       "\t3 & 0.3985265 & 0.506886522 & 0.09458701\\\\\n",
       "\t4 & 0.4684641 & 0.418498061 & 0.11303779\\\\\n",
       "\t5 & 0.5541973 & 0.309100391 & 0.13670226\\\\\n",
       "\t6 & 0.6733557 & 0.153452479 & 0.17319179\\\\\n",
       "\t7 & 0.7393995 & 0.061200822 & 0.19939966\\\\\n",
       "\t8 & 0.7647495 & 0.007780500 & 0.22746996\\\\\n",
       "\t9 & 0.2502564 & 0.692466814 & 0.05727683\\\\\n",
       "\t10 & 0.3148464 & 0.611893842 & 0.07325976\\\\\n",
       "\t11 & 0.4079566 & 0.495004741 & 0.09703864\\\\\n",
       "\t12 & 0.4684641 & 0.418498061 & 0.11303779\\\\\n",
       "\t13 & 0.5734571 & 0.284308968 & 0.14223392\\\\\n",
       "\t14 & 0.6800857 & 0.144412793 & 0.17550155\\\\\n",
       "\t15 & 0.7436371 & 0.054713390 & 0.20164955\\\\\n",
       "\t16 & 0.7645799 & 0.007248095 & 0.22817198\\\\\n",
       "\t17 & 0.2502564 & 0.692466814 & 0.05727683\\\\\n",
       "\t18 & 0.3239142 & 0.600549951 & 0.07553586\\\\\n",
       "\t19 & 0.4079566 & 0.495004741 & 0.09703864\\\\\n",
       "\t20 & 0.4684641 & 0.418498061 & 0.11303779\\\\\n",
       "\t21 & 0.5734571 & 0.284308968 & 0.14223392\\\\\n",
       "\t22 & 0.6843685 & 0.138635322 & 0.17699613\\\\\n",
       "\t23 & 0.7623691 & 0.021355258 & 0.21627565\\\\\n",
       "\t24 & 0.7630060 & 0.004733748 & 0.23226027\\\\\n",
       "\t25 & 0.2584591 & 0.682256244 & 0.05928463\\\\\n",
       "\t26 & 0.3239142 & 0.600549951 & 0.07553586\\\\\n",
       "\t27 & 0.4079566 & 0.495004741 & 0.09703864\\\\\n",
       "\t28 & 0.4775411 & 0.406976821 & 0.11548205\\\\\n",
       "\t29 & 0.6185745 & 0.225789278 & 0.15563626\\\\\n",
       "\t30 & 0.6904948 & 0.130333774 & 0.17917142\\\\\n",
       "\t31 & 0.7629347 & 0.019913133 & 0.21715222\\\\\n",
       "\t32 & 0.2584591 & 0.682256244 & 0.05928463\\\\\n",
       "\t33 & 0.3376640 & 0.583333155 & 0.07900282\\\\\n",
       "\t34 & 0.4079566 & 0.495004741 & 0.09703864\\\\\n",
       "\t35 & 0.4775411 & 0.406976821 & 0.11548205\\\\\n",
       "\t36 & 0.6481692 & 0.186942787 & 0.16488804\\\\\n",
       "\t37 & 0.6943849 & 0.125037025 & 0.18057807\\\\\n",
       "\t38 & 0.7637086 & 0.017718806 & 0.21857255\\\\\n",
       "\t39 & 0.2925882 & 0.639704923 & 0.06770685\\\\\n",
       "\t40 & 0.3469154 & 0.571738282 & 0.08134629\\\\\n",
       "\t41 & 0.4220745 & 0.477196478 & 0.10072899\\\\\n",
       "\t42 & 0.4998213 & 0.378641448 & 0.12153726\\\\\n",
       "\t43 & 0.6613016 & 0.169540873 & 0.16915753\\\\\n",
       "\t44 & 0.7116348 & 0.101252220 & 0.18711297\\\\\n",
       "\t45 & 0.7650896 & 0.010326420 & 0.22458397\\\\\n",
       "\t46 & 0.3014156 & 0.628681062 & 0.06990334\\\\\n",
       "\t47 & 0.3608949 & 0.554200799 & 0.08490427\\\\\n",
       "\t48 & 0.4314525 & 0.465353406 & 0.10319407\\\\\n",
       "\t49 & 0.5128631 & 0.362015797 & 0.12512114\\\\\n",
       "\t50 & 0.6613016 & 0.169540873 & 0.16915753\\\\\n",
       "\t51 & 0.7267736 & 0.079804325 & 0.19342207\\\\\n",
       "\t52 & 0.7650743 & 0.009851059 & 0.22507460\\\\\n",
       "\t53 & 0.3014156 & 0.628681062 & 0.06990334\\\\\n",
       "\t54 & 0.3843811 & 0.524690082 & 0.09092886\\\\\n",
       "\t55 & 0.4454419 & 0.447665543 & 0.10689254\\\\\n",
       "\t56 & 0.5339698 & 0.335040516 & 0.13098965\\\\\n",
       "\t57 & 0.6733557 & 0.153452479 & 0.17319179\\\\\n",
       "\t58 & 0.7324857 & 0.071495864 & 0.19601847\\\\\n",
       "\t59 & 0.7648452 & 0.008156804 & 0.22699798\\\\\n",
       "\\end{tabular}\n"
      ],
      "text/markdown": [
       "\n",
       "A matrix: 59 × 3 of type dbl\n",
       "\n",
       "| <!--/--> | Fish | Invertebrates | Other |\n",
       "|---|---|---|---|\n",
       "| 1 | 0.2265307 | 0.721964000 | 0.05150528 |\n",
       "| 2 | 0.3148464 | 0.611893842 | 0.07325976 |\n",
       "| 3 | 0.3985265 | 0.506886522 | 0.09458701 |\n",
       "| 4 | 0.4684641 | 0.418498061 | 0.11303779 |\n",
       "| 5 | 0.5541973 | 0.309100391 | 0.13670226 |\n",
       "| 6 | 0.6733557 | 0.153452479 | 0.17319179 |\n",
       "| 7 | 0.7393995 | 0.061200822 | 0.19939966 |\n",
       "| 8 | 0.7647495 | 0.007780500 | 0.22746996 |\n",
       "| 9 | 0.2502564 | 0.692466814 | 0.05727683 |\n",
       "| 10 | 0.3148464 | 0.611893842 | 0.07325976 |\n",
       "| 11 | 0.4079566 | 0.495004741 | 0.09703864 |\n",
       "| 12 | 0.4684641 | 0.418498061 | 0.11303779 |\n",
       "| 13 | 0.5734571 | 0.284308968 | 0.14223392 |\n",
       "| 14 | 0.6800857 | 0.144412793 | 0.17550155 |\n",
       "| 15 | 0.7436371 | 0.054713390 | 0.20164955 |\n",
       "| 16 | 0.7645799 | 0.007248095 | 0.22817198 |\n",
       "| 17 | 0.2502564 | 0.692466814 | 0.05727683 |\n",
       "| 18 | 0.3239142 | 0.600549951 | 0.07553586 |\n",
       "| 19 | 0.4079566 | 0.495004741 | 0.09703864 |\n",
       "| 20 | 0.4684641 | 0.418498061 | 0.11303779 |\n",
       "| 21 | 0.5734571 | 0.284308968 | 0.14223392 |\n",
       "| 22 | 0.6843685 | 0.138635322 | 0.17699613 |\n",
       "| 23 | 0.7623691 | 0.021355258 | 0.21627565 |\n",
       "| 24 | 0.7630060 | 0.004733748 | 0.23226027 |\n",
       "| 25 | 0.2584591 | 0.682256244 | 0.05928463 |\n",
       "| 26 | 0.3239142 | 0.600549951 | 0.07553586 |\n",
       "| 27 | 0.4079566 | 0.495004741 | 0.09703864 |\n",
       "| 28 | 0.4775411 | 0.406976821 | 0.11548205 |\n",
       "| 29 | 0.6185745 | 0.225789278 | 0.15563626 |\n",
       "| 30 | 0.6904948 | 0.130333774 | 0.17917142 |\n",
       "| 31 | 0.7629347 | 0.019913133 | 0.21715222 |\n",
       "| 32 | 0.2584591 | 0.682256244 | 0.05928463 |\n",
       "| 33 | 0.3376640 | 0.583333155 | 0.07900282 |\n",
       "| 34 | 0.4079566 | 0.495004741 | 0.09703864 |\n",
       "| 35 | 0.4775411 | 0.406976821 | 0.11548205 |\n",
       "| 36 | 0.6481692 | 0.186942787 | 0.16488804 |\n",
       "| 37 | 0.6943849 | 0.125037025 | 0.18057807 |\n",
       "| 38 | 0.7637086 | 0.017718806 | 0.21857255 |\n",
       "| 39 | 0.2925882 | 0.639704923 | 0.06770685 |\n",
       "| 40 | 0.3469154 | 0.571738282 | 0.08134629 |\n",
       "| 41 | 0.4220745 | 0.477196478 | 0.10072899 |\n",
       "| 42 | 0.4998213 | 0.378641448 | 0.12153726 |\n",
       "| 43 | 0.6613016 | 0.169540873 | 0.16915753 |\n",
       "| 44 | 0.7116348 | 0.101252220 | 0.18711297 |\n",
       "| 45 | 0.7650896 | 0.010326420 | 0.22458397 |\n",
       "| 46 | 0.3014156 | 0.628681062 | 0.06990334 |\n",
       "| 47 | 0.3608949 | 0.554200799 | 0.08490427 |\n",
       "| 48 | 0.4314525 | 0.465353406 | 0.10319407 |\n",
       "| 49 | 0.5128631 | 0.362015797 | 0.12512114 |\n",
       "| 50 | 0.6613016 | 0.169540873 | 0.16915753 |\n",
       "| 51 | 0.7267736 | 0.079804325 | 0.19342207 |\n",
       "| 52 | 0.7650743 | 0.009851059 | 0.22507460 |\n",
       "| 53 | 0.3014156 | 0.628681062 | 0.06990334 |\n",
       "| 54 | 0.3843811 | 0.524690082 | 0.09092886 |\n",
       "| 55 | 0.4454419 | 0.447665543 | 0.10689254 |\n",
       "| 56 | 0.5339698 | 0.335040516 | 0.13098965 |\n",
       "| 57 | 0.6733557 | 0.153452479 | 0.17319179 |\n",
       "| 58 | 0.7324857 | 0.071495864 | 0.19601847 |\n",
       "| 59 | 0.7648452 | 0.008156804 | 0.22699798 |\n",
       "\n"
      ],
      "text/plain": [
       "   Fish      Invertebrates Other     \n",
       "1  0.2265307 0.721964000   0.05150528\n",
       "2  0.3148464 0.611893842   0.07325976\n",
       "3  0.3985265 0.506886522   0.09458701\n",
       "4  0.4684641 0.418498061   0.11303779\n",
       "5  0.5541973 0.309100391   0.13670226\n",
       "6  0.6733557 0.153452479   0.17319179\n",
       "7  0.7393995 0.061200822   0.19939966\n",
       "8  0.7647495 0.007780500   0.22746996\n",
       "9  0.2502564 0.692466814   0.05727683\n",
       "10 0.3148464 0.611893842   0.07325976\n",
       "11 0.4079566 0.495004741   0.09703864\n",
       "12 0.4684641 0.418498061   0.11303779\n",
       "13 0.5734571 0.284308968   0.14223392\n",
       "14 0.6800857 0.144412793   0.17550155\n",
       "15 0.7436371 0.054713390   0.20164955\n",
       "16 0.7645799 0.007248095   0.22817198\n",
       "17 0.2502564 0.692466814   0.05727683\n",
       "18 0.3239142 0.600549951   0.07553586\n",
       "19 0.4079566 0.495004741   0.09703864\n",
       "20 0.4684641 0.418498061   0.11303779\n",
       "21 0.5734571 0.284308968   0.14223392\n",
       "22 0.6843685 0.138635322   0.17699613\n",
       "23 0.7623691 0.021355258   0.21627565\n",
       "24 0.7630060 0.004733748   0.23226027\n",
       "25 0.2584591 0.682256244   0.05928463\n",
       "26 0.3239142 0.600549951   0.07553586\n",
       "27 0.4079566 0.495004741   0.09703864\n",
       "28 0.4775411 0.406976821   0.11548205\n",
       "29 0.6185745 0.225789278   0.15563626\n",
       "30 0.6904948 0.130333774   0.17917142\n",
       "31 0.7629347 0.019913133   0.21715222\n",
       "32 0.2584591 0.682256244   0.05928463\n",
       "33 0.3376640 0.583333155   0.07900282\n",
       "34 0.4079566 0.495004741   0.09703864\n",
       "35 0.4775411 0.406976821   0.11548205\n",
       "36 0.6481692 0.186942787   0.16488804\n",
       "37 0.6943849 0.125037025   0.18057807\n",
       "38 0.7637086 0.017718806   0.21857255\n",
       "39 0.2925882 0.639704923   0.06770685\n",
       "40 0.3469154 0.571738282   0.08134629\n",
       "41 0.4220745 0.477196478   0.10072899\n",
       "42 0.4998213 0.378641448   0.12153726\n",
       "43 0.6613016 0.169540873   0.16915753\n",
       "44 0.7116348 0.101252220   0.18711297\n",
       "45 0.7650896 0.010326420   0.22458397\n",
       "46 0.3014156 0.628681062   0.06990334\n",
       "47 0.3608949 0.554200799   0.08490427\n",
       "48 0.4314525 0.465353406   0.10319407\n",
       "49 0.5128631 0.362015797   0.12512114\n",
       "50 0.6613016 0.169540873   0.16915753\n",
       "51 0.7267736 0.079804325   0.19342207\n",
       "52 0.7650743 0.009851059   0.22507460\n",
       "53 0.3014156 0.628681062   0.06990334\n",
       "54 0.3843811 0.524690082   0.09092886\n",
       "55 0.4454419 0.447665543   0.10689254\n",
       "56 0.5339698 0.335040516   0.13098965\n",
       "57 0.6733557 0.153452479   0.17319179\n",
       "58 0.7324857 0.071495864   0.19601847\n",
       "59 0.7648452 0.008156804   0.22699798"
      ]
     },
     "metadata": {},
     "output_type": "display_data"
    }
   ],
   "source": [
    "prediction2 <- predict(m2, longGators)\n",
    "prediction2"
   ]
  }
 ],
 "metadata": {
  "kernelspec": {
   "display_name": "R",
   "language": "R",
   "name": "ir"
  },
  "language_info": {
   "codemirror_mode": "r",
   "file_extension": ".r",
   "mimetype": "text/x-r-source",
   "name": "R",
   "pygments_lexer": "r",
   "version": "4.3.1"
  }
 },
 "nbformat": 4,
 "nbformat_minor": 5
}
