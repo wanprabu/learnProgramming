{
 "cells": [
  {
   "cell_type": "markdown",
   "id": "1d19c5ab-6fb4-4e2a-bb45-5474c1976230",
   "metadata": {},
   "source": [
    "# Multinomial Logit Models\n",
    "Multinomial logit models (MNL) are well known for its use in discrete choice problem. For instance, the choice of favourable places in the city by travellers. They might choose museum, cafe, exhibition, park, etc. Their choice could be influenced by visit duration, cost, distance, etc. MNL allows us to build such models to estimate the probability of choice.\n",
    "\n",
    "## Description\n",
    "This notebook is built based on a website in the reference. This is also part of my learning activities to better understand about MNL. Hopefuly, it will enable me finishing my manuscript regarding the MNL.\n",
    "\n",
    "## References\n",
    "https://library.virginia.edu/data/articles/getting-started-with-multinomial-logit-models"
   ]
  },
  {
   "cell_type": "markdown",
   "id": "d44f2d5d-5d5f-4834-810b-4a70bcb31c32",
   "metadata": {},
   "source": [
    "## Data Description\n",
    "The data used in this notebook is alligator food choice taken from the text An Introduction to Categorical Data Analysis by Alan Agresti (1996, p. 207). The data contain information on 59 alligators sampled from a lake in Florida. It has the length of the alligator in meters and the primary food type found in the alligator’s stomach. The food type was classified into three categories: \"Fish\", \"Invertebrate\", and \"Other\".\n",
    "\n",
    "We put additional `food` column as a factor and set the reference (or baseline) level to “Other” by placing it first in the `levels` and `labels` arguments to `factor()`."
   ]
  },
  {
   "cell_type": "code",
   "execution_count": 3,
   "id": "72b2687d-a613-4238-88b9-2a0b65ea772f",
   "metadata": {},
   "outputs": [
    {
     "data": {
      "text/html": [
       "<table class=\"dataframe\">\n",
       "<caption>A data.frame: 10 × 2</caption>\n",
       "<thead>\n",
       "\t<tr><th></th><th scope=col>length</th><th scope=col>food</th></tr>\n",
       "\t<tr><th></th><th scope=col>&lt;dbl&gt;</th><th scope=col>&lt;fct&gt;</th></tr>\n",
       "</thead>\n",
       "<tbody>\n",
       "\t<tr><th scope=row>1</th><td>1.24</td><td>Invertebrates</td></tr>\n",
       "\t<tr><th scope=row>2</th><td>1.45</td><td>Invertebrates</td></tr>\n",
       "\t<tr><th scope=row>3</th><td>1.63</td><td>Invertebrates</td></tr>\n",
       "\t<tr><th scope=row>4</th><td>1.78</td><td>Invertebrates</td></tr>\n",
       "\t<tr><th scope=row>5</th><td>1.98</td><td>Invertebrates</td></tr>\n",
       "\t<tr><th scope=row>6</th><td>2.36</td><td>Fish         </td></tr>\n",
       "\t<tr><th scope=row>7</th><td>2.79</td><td>Fish         </td></tr>\n",
       "\t<tr><th scope=row>8</th><td>3.68</td><td>Other        </td></tr>\n",
       "\t<tr><th scope=row>9</th><td>1.30</td><td>Invertebrates</td></tr>\n",
       "\t<tr><th scope=row>10</th><td>1.45</td><td>Other        </td></tr>\n",
       "</tbody>\n",
       "</table>\n"
      ],
      "text/latex": [
       "A data.frame: 10 × 2\n",
       "\\begin{tabular}{r|ll}\n",
       "  & length & food\\\\\n",
       "  & <dbl> & <fct>\\\\\n",
       "\\hline\n",
       "\t1 & 1.24 & Invertebrates\\\\\n",
       "\t2 & 1.45 & Invertebrates\\\\\n",
       "\t3 & 1.63 & Invertebrates\\\\\n",
       "\t4 & 1.78 & Invertebrates\\\\\n",
       "\t5 & 1.98 & Invertebrates\\\\\n",
       "\t6 & 2.36 & Fish         \\\\\n",
       "\t7 & 2.79 & Fish         \\\\\n",
       "\t8 & 3.68 & Other        \\\\\n",
       "\t9 & 1.30 & Invertebrates\\\\\n",
       "\t10 & 1.45 & Other        \\\\\n",
       "\\end{tabular}\n"
      ],
      "text/markdown": [
       "\n",
       "A data.frame: 10 × 2\n",
       "\n",
       "| <!--/--> | length &lt;dbl&gt; | food &lt;fct&gt; |\n",
       "|---|---|---|\n",
       "| 1 | 1.24 | Invertebrates |\n",
       "| 2 | 1.45 | Invertebrates |\n",
       "| 3 | 1.63 | Invertebrates |\n",
       "| 4 | 1.78 | Invertebrates |\n",
       "| 5 | 1.98 | Invertebrates |\n",
       "| 6 | 2.36 | Fish          |\n",
       "| 7 | 2.79 | Fish          |\n",
       "| 8 | 3.68 | Other         |\n",
       "| 9 | 1.30 | Invertebrates |\n",
       "| 10 | 1.45 | Other         |\n",
       "\n"
      ],
      "text/plain": [
       "   length food         \n",
       "1  1.24   Invertebrates\n",
       "2  1.45   Invertebrates\n",
       "3  1.63   Invertebrates\n",
       "4  1.78   Invertebrates\n",
       "5  1.98   Invertebrates\n",
       "6  2.36   Fish         \n",
       "7  2.79   Fish         \n",
       "8  3.68   Other        \n",
       "9  1.30   Invertebrates\n",
       "10 1.45   Other        "
      ]
     },
     "metadata": {},
     "output_type": "display_data"
    }
   ],
   "source": [
    "gators <- read.csv('https://static.lib.virginia.edu/statlab/materials/data/table_8-1.csv')\n",
    "gators$food <- factor(gators$food, \n",
    "                      levels = c(\"O\", \"F\", \"I\"), \n",
    "                      labels = c(\"Other\", \"Fish\", \"Invertebrates\"))\n",
    "head(gators, 10)"
   ]
  },
  {
   "cell_type": "code",
   "execution_count": 3,
   "id": "229210ab-77e4-4b77-826e-4aaaf6f3a8cf",
   "metadata": {},
   "outputs": [
    {
     "data": {
      "text/plain": [
       "\n",
       "        Other          Fish Invertebrates \n",
       "            8            31            20 "
      ]
     },
     "metadata": {},
     "output_type": "display_data"
    }
   ],
   "source": [
    "# counts\n",
    "table(gators$food)"
   ]
  },
  {
   "cell_type": "code",
   "execution_count": 4,
   "id": "b4868072-8084-4357-a35e-49c20d9bdfcc",
   "metadata": {},
   "outputs": [
    {
     "data": {
      "text/plain": [
       "\n",
       "        Other          Fish Invertebrates \n",
       "    0.1355932     0.5254237     0.3389831 "
      ]
     },
     "metadata": {},
     "output_type": "display_data"
    }
   ],
   "source": [
    "# proportions\n",
    "prop.table(table(gators$food))"
   ]
  },
  {
   "cell_type": "code",
   "execution_count": 5,
   "id": "c35afb07-9912-4d4b-b6bc-324317c6d7aa",
   "metadata": {},
   "outputs": [
    {
     "data": {
      "image/png": "[encoded data removed]",
      "text/plain": [
       "plot without title"
      ]
     },
     "metadata": {
      "image/png": {
       "height": 420,
       "width": 420
      }
     },
     "output_type": "display_data"
    }
   ],
   "source": [
    "library(ggplot2)\n",
    "ggplot(gators) +\n",
    "  aes(x = food, y = length) +\n",
    "  geom_boxplot()"
   ]
  },
  {
   "cell_type": "markdown",
   "id": "eb62af30-e842-4a48-bd61-50c17cd74037",
   "metadata": {},
   "source": [
    "## Modelling the choice\n",
    "There many R packages available for modelling MNL. In this notebook we will try to use `nnet` and `mlogit`.\n",
    "\n",
    "### Using multinom from nnet\n",
    "To fit our model, we specify food to be modeled as a function of `length` using `food ~ length`. We specify `data = gators` so the function knows where to find the food and length variables. Finally, we specify `Hess = TRUE` to save something called the Hessian matrix, which is required to calculate coefficient standard errors, and we set `trace = FALSE` to suppress the printing of convergence progress."
   ]
  },
  {
   "cell_type": "code",
   "execution_count": 4,
   "id": "189f6aae-43fa-403d-9df1-16d2b5c17e48",
   "metadata": {},
   "outputs": [
    {
     "name": "stdout",
     "output_type": "stream",
     "text": [
      "# weights:  9 (4 variable)\n",
      "initial  value 64.818125 \n",
      "iter  10 value 49.170785\n",
      "final  value 49.170622 \n",
      "converged\n"
     ]
    }
   ],
   "source": [
    "library(nnet)\n",
    "m <- multinom(food ~ length, data = gators, Hess = TRUE, trace = TRUE)"
   ]
  },
  {
   "cell_type": "code",
   "execution_count": 5,
   "id": "d80efc9d-1dbb-4a93-8f25-b9144e67c9be",
   "metadata": {},
   "outputs": [
    {
     "data": {
      "text/plain": [
       "Call:\n",
       "multinom(formula = food ~ length, data = gators, Hess = TRUE, \n",
       "    trace = TRUE)\n",
       "\n",
       "Coefficients:\n",
       "              (Intercept)     length\n",
       "Fish             1.617952 -0.1101836\n",
       "Invertebrates    5.697543 -2.4654695\n",
       "\n",
       "Std. Errors:\n",
       "              (Intercept)    length\n",
       "Fish             1.307291 0.5170838\n",
       "Invertebrates    1.793820 0.8996485\n",
       "\n",
       "Value/SE (Wald statistics):\n",
       "              (Intercept)     length\n",
       "Fish             1.237637 -0.2130865\n",
       "Invertebrates    3.176206 -2.7404808\n",
       "\n",
       "Residual Deviance: 98.34124 \n",
       "AIC: 106.3412 "
      ]
     },
     "metadata": {},
     "output_type": "display_data"
    }
   ],
   "source": [
    "# get the model summary\n",
    "summary(m, Wald.ratios = TRUE)"
   ]
  },
  {
   "cell_type": "markdown",
   "id": "898489ba-f5b5-483e-8e96-5d0344952c3b",
   "metadata": {},
   "source": [
    "### Output interpretation\n",
    "In the \"Coefficients\" section, we're basically seeing two models:\n",
    "1. one modeling the predictive effect of length on the log odds that an alligator prefers fish to other\n",
    "2. the predictive effect of length on the log odds that an alligator prefers invertebrates to other.\n",
    "\n",
    "In the \"Coefficients\" section, we're basically seeing two models, one modeling the predictive effect of length on the log odds that an alligator prefers fish to other, and the other modeling the predictive effect of length on the log odds that an alligator prefers invertebrates to other. \n",
    "\n",
    "> The smaller the standard error in relation to the coefficient, the more precise the estimate\n",
    "\n",
    "Wald statistics, presents the ratio of the coefficients to the standard errors. \n",
    "\n",
    "> The farther away the ratio is from 0, the more precise the estimate and the more likely it’s either positive or negative.\n",
    "\n",
    "This is no different from the output of other regression models. It’s just presented differently due to the fact we’re summarizing two models. Wald statistics larger than 2 provide evidence that effects are reliably positive or negative. If you must report p-values, you’ll have to calculate them manually. Here’s one way using the standard normal approximation:"
   ]
  },
  {
   "cell_type": "code",
   "execution_count": 5,
   "id": "2b75a783-c0e8-4fc7-948c-f3bcb43d8d0b",
   "metadata": {},
   "outputs": [
    {
     "data": {
      "text/html": [
       "<table class=\"dataframe\">\n",
       "<caption>A matrix: 2 × 2 of type dbl</caption>\n",
       "<thead>\n",
       "\t<tr><th></th><th scope=col>(Intercept)</th><th scope=col>length</th></tr>\n",
       "</thead>\n",
       "<tbody>\n",
       "\t<tr><th scope=row>Fish</th><td>0.215850665</td><td>0.831259475</td></tr>\n",
       "\t<tr><th scope=row>Invertebrates</th><td>0.001492149</td><td>0.006134937</td></tr>\n",
       "</tbody>\n",
       "</table>\n"
      ],
      "text/latex": [
       "A matrix: 2 × 2 of type dbl\n",
       "\\begin{tabular}{r|ll}\n",
       "  & (Intercept) & length\\\\\n",
       "\\hline\n",
       "\tFish & 0.215850665 & 0.831259475\\\\\n",
       "\tInvertebrates & 0.001492149 & 0.006134937\\\\\n",
       "\\end{tabular}\n"
      ],
      "text/markdown": [
       "\n",
       "A matrix: 2 × 2 of type dbl\n",
       "\n",
       "| <!--/--> | (Intercept) | length |\n",
       "|---|---|---|\n",
       "| Fish | 0.215850665 | 0.831259475 |\n",
       "| Invertebrates | 0.001492149 | 0.006134937 |\n",
       "\n"
      ],
      "text/plain": [
       "              (Intercept) length     \n",
       "Fish          0.215850665 0.831259475\n",
       "Invertebrates 0.001492149 0.006134937"
      ]
     },
     "metadata": {},
     "output_type": "display_data"
    }
   ],
   "source": [
    "s <- summary(m, Wald.ratios = TRUE)\n",
    "p <- 2 * pnorm(abs(s$Wald.ratios), lower.tail = FALSE)\n",
    "p"
   ]
  },
  {
   "cell_type": "markdown",
   "id": "a26029ec-49b6-4e45-88a0-61816351fde5",
   "metadata": {},
   "source": [
    "The `length` coefficient for the \"Invertebrates\" model is negative (-2.46) and has a large Wald statistic (greater than 2). It appears that the longer an alligator is, the less likely it is to eat invertebrates instead of \"other.\""
   ]
  },
  {
   "cell_type": "code",
   "execution_count": 13,
   "id": "53f5ce6e-f7dc-4263-83e5-411ed02fbc52",
   "metadata": {},
   "outputs": [
    {
     "data": {
      "text/html": [
       "<style>\n",
       ".list-inline {list-style: none; margin:0; padding: 0}\n",
       ".list-inline>li {display: inline-block}\n",
       ".list-inline>li:not(:last-child)::after {content: \"\\00b7\"; padding: 0 .5ex}\n",
       "</style>\n",
       "<ol class=list-inline><li>-0.944291747381735</li><li>-1.123649237828</li><li>4.18019625245569</li><li>0.903282053660303</li><li>2.1817199581815</li><li>-4.22874821789507</li><li>9.21336674199464</li><li>-0.702190786174728</li></ol>\n"
      ],
      "text/latex": [
       "\\begin{enumerate*}\n",
       "\\item -0.944291747381735\n",
       "\\item -1.123649237828\n",
       "\\item 4.18019625245569\n",
       "\\item 0.903282053660303\n",
       "\\item 2.1817199581815\n",
       "\\item -4.22874821789507\n",
       "\\item 9.21336674199464\n",
       "\\item -0.702190786174728\n",
       "\\end{enumerate*}\n"
      ],
      "text/markdown": [
       "1. -0.944291747381735\n",
       "2. -1.123649237828\n",
       "3. 4.18019625245569\n",
       "4. 0.903282053660303\n",
       "5. 2.1817199581815\n",
       "6. -4.22874821789507\n",
       "7. 9.21336674199464\n",
       "8. -0.702190786174728\n",
       "\n",
       "\n"
      ],
      "text/plain": [
       ", , Fish\n",
       "\n",
       "                 2.5 %    97.5 %\n",
       "(Intercept) -0.9442917 4.1801963\n",
       "length      -1.1236492 0.9032821\n",
       "\n",
       ", , Invertebrates\n",
       "\n",
       "                2.5 %     97.5 %\n",
       "(Intercept)  2.181720  9.2133667\n",
       "length      -4.228748 -0.7021908\n"
      ]
     },
     "metadata": {},
     "output_type": "display_data"
    }
   ],
   "source": [
    "# calculate confidence intervals\n",
    "confint(m)"
   ]
  },
  {
   "cell_type": "code",
   "execution_count": 2,
   "id": "8b8c07f7-7761-4cb7-a7b8-b390a6a80c43",
   "metadata": {},
   "outputs": [
    {
     "name": "stderr",
     "output_type": "stream",
     "text": [
      "Loading required package: carData\n",
      "\n"
     ]
    },
    {
     "ename": "ERROR",
     "evalue": "Error in eval(expr, envir, enclos): object 'm' not found\n",
     "output_type": "error",
     "traceback": [
      "Error in eval(expr, envir, enclos): object 'm' not found\nTraceback:\n",
      "1. Anova(m)"
     ]
    }
   ],
   "source": [
    "library(car)\n",
    "Anova(m)"
   ]
  },
  {
   "cell_type": "markdown",
   "id": "5c763ab6-9f27-460a-8443-54c2b20ce07c",
   "metadata": {},
   "source": [
    "The result is a test of whether or not the `length` coefficient in both baseline logit models is plausibly 0. The null is that a model with just an intercept is equally as good as a model with an intercept and length. (An intercept-only model is the same as simply using the observed proportions in each food category as a basis for making predictions about an alligator’s food choice.) The small $p$-value (p = 0.0002248) provides evidence against the null and leads us to keep `length` in our model."
   ]
  },
  {
   "cell_type": "markdown",
   "id": "3492c5ca-ccb5-4ae9-a1f7-d25714592bf8",
   "metadata": {},
   "source": [
    "### Using mlogit package\n",
    "This library "
   ]
  },
  {
   "cell_type": "code",
   "execution_count": 6,
   "id": "2dccc7a0-c279-4518-9d8c-ee1dc3de51bb",
   "metadata": {},
   "outputs": [
    {
     "name": "stderr",
     "output_type": "stream",
     "text": [
      "Loading required package: dfidx\n",
      "\n",
      "\n",
      "Attaching package: ‘dfidx’\n",
      "\n",
      "\n",
      "The following object is masked from ‘package:stats’:\n",
      "\n",
      "    filter\n",
      "\n",
      "\n"
     ]
    }
   ],
   "source": [
    "library(mlogit) "
   ]
  },
  {
   "cell_type": "code",
   "execution_count": 7,
   "id": "304af8b0-1f65-431e-b300-823143612d58",
   "metadata": {},
   "outputs": [
    {
     "name": "stdout",
     "output_type": "stream",
     "text": [
      "~~~~~~~\n",
      " first 10 observations out of 177 \n",
      "~~~~~~~\n",
      "   length  food chid           alt    idx\n",
      "1    1.24 FALSE    1          Fish 1:Fish\n",
      "2    1.24  TRUE    1 Invertebrates 1:ates\n",
      "3    1.24 FALSE    1         Other 1:ther\n",
      "4    1.45 FALSE    2          Fish 2:Fish\n",
      "5    1.45  TRUE    2 Invertebrates 2:ates\n",
      "6    1.45 FALSE    2         Other 2:ther\n",
      "7    1.63 FALSE    3          Fish 3:Fish\n",
      "8    1.63  TRUE    3 Invertebrates 3:ates\n",
      "9    1.63 FALSE    3         Other 3:ther\n",
      "10   1.78 FALSE    4          Fish 4:Fish\n",
      "\n",
      "~~~ indexes ~~~~\n",
      "   chid           alt\n",
      "1     1          Fish\n",
      "2     1 Invertebrates\n",
      "3     1         Other\n",
      "4     2          Fish\n",
      "5     2 Invertebrates\n",
      "6     2         Other\n",
      "7     3          Fish\n",
      "8     3 Invertebrates\n",
      "9     3         Other\n",
      "10    4          Fish\n",
      "indexes:  1, 2 \n"
     ]
    }
   ],
   "source": [
    "longGators = mlogit.data(gators, shape=\"wide\", choice = \"food\")\n",
    "head(longGators)\n",
    "#m2 = mlogit(food ~ 0 | length, data = gators)"
   ]
  },
  {
   "cell_type": "code",
   "execution_count": 8,
   "id": "158bb347-6465-4475-8676-966e1b5e3689",
   "metadata": {},
   "outputs": [
    {
     "data": {
      "text/plain": [
       "\n",
       "Call:\n",
       "mlogit(formula = food ~ 0 | length, data = longGators, method = \"nr\")\n",
       "\n",
       "Frequencies of alternatives:choice\n",
       "         Fish Invertebrates         Other \n",
       "      0.52542       0.33898       0.13559 \n",
       "\n",
       "nr method\n",
       "5 iterations, 0h:0m:0s \n",
       "g'(-H)^-1g = 6.55E-08 \n",
       "gradient close to zero \n",
       "\n",
       "Coefficients :\n",
       "                          Estimate Std. Error z-value Pr(>|z|)   \n",
       "(Intercept):Invertebrates  4.07971    1.46864  2.7779 0.005471 **\n",
       "(Intercept):Other         -1.61773    1.30727 -1.2375 0.215908   \n",
       "length:Invertebrates      -2.35534    0.80329 -2.9321 0.003367 **\n",
       "length:Other               0.11011    0.51708  0.2129 0.831371   \n",
       "---\n",
       "Signif. codes:  0 ‘***’ 0.001 ‘**’ 0.01 ‘*’ 0.05 ‘.’ 0.1 ‘ ’ 1\n",
       "\n",
       "Log-Likelihood: -49.171\n",
       "McFadden R^2:  0.14591 \n",
       "Likelihood ratio test : chisq = 16.801 (p.value = 0.0002248)"
      ]
     },
     "metadata": {},
     "output_type": "display_data"
    }
   ],
   "source": [
    "m2 = mlogit(food ~ 0 | length, data = longGators)\n",
    "summary(m2)"
   ]
  },
  {
   "cell_type": "code",
   "execution_count": 9,
   "id": "ad8abac5-2f8f-4439-8d7b-93a364caa415",
   "metadata": {},
   "outputs": [
    {
     "data": {
      "text/html": [
       "<table class=\"dataframe\">\n",
       "<caption>A anova: 2 × 5</caption>\n",
       "<thead>\n",
       "\t<tr><th></th><th scope=col>#Df</th><th scope=col>LogLik</th><th scope=col>Df</th><th scope=col>Chisq</th><th scope=col>Pr(&gt;Chisq)</th></tr>\n",
       "\t<tr><th></th><th scope=col>&lt;dbl&gt;</th><th scope=col>&lt;dbl&gt;</th><th scope=col>&lt;dbl&gt;</th><th scope=col>&lt;dbl&gt;</th><th scope=col>&lt;dbl&gt;</th></tr>\n",
       "</thead>\n",
       "<tbody>\n",
       "\t<tr><th scope=row>1</th><td>4</td><td>-49.17062</td><td>NA</td><td>NA</td><td>NA</td></tr>\n",
       "\t<tr><th scope=row>2</th><td>4</td><td>-49.17062</td><td> 0</td><td> 0</td><td> 1</td></tr>\n",
       "</tbody>\n",
       "</table>\n"
      ],
      "text/latex": [
       "A anova: 2 × 5\n",
       "\\begin{tabular}{r|lllll}\n",
       "  & \\#Df & LogLik & Df & Chisq & Pr(>Chisq)\\\\\n",
       "  & <dbl> & <dbl> & <dbl> & <dbl> & <dbl>\\\\\n",
       "\\hline\n",
       "\t1 & 4 & -49.17062 & NA & NA & NA\\\\\n",
       "\t2 & 4 & -49.17062 &  0 &  0 &  1\\\\\n",
       "\\end{tabular}\n"
      ],
      "text/markdown": [
       "\n",
       "A anova: 2 × 5\n",
       "\n",
       "| <!--/--> | #Df &lt;dbl&gt; | LogLik &lt;dbl&gt; | Df &lt;dbl&gt; | Chisq &lt;dbl&gt; | Pr(&gt;Chisq) &lt;dbl&gt; |\n",
       "|---|---|---|---|---|---|\n",
       "| 1 | 4 | -49.17062 | NA | NA | NA |\n",
       "| 2 | 4 | -49.17062 |  0 |  0 |  1 |\n",
       "\n"
      ],
      "text/plain": [
       "  #Df LogLik    Df Chisq Pr(>Chisq)\n",
       "1 4   -49.17062 NA NA    NA        \n",
       "2 4   -49.17062  0  0     1        "
      ]
     },
     "metadata": {},
     "output_type": "display_data"
    }
   ],
   "source": [
    "lrtest(m2)"
   ]
  },
  {
   "cell_type": "code",
   "execution_count": 20,
   "id": "54e389fa-cbbe-41f2-a122-6e8d53125bc6",
   "metadata": {},
   "outputs": [
    {
     "data": {
      "text/plain": [
       "\n",
       "\tscore test\n",
       "\n",
       "data:  heterosc = TRUE\n",
       "chisq = 1.4869, df = 2, p-value = 0.4755\n",
       "alternative hypothesis: heteroscedastic model\n"
      ]
     },
     "metadata": {},
     "output_type": "display_data"
    }
   ],
   "source": [
    "scoretest(m2, heterosc = TRUE)"
   ]
  },
  {
   "cell_type": "code",
   "execution_count": 22,
   "id": "c4b32671-c01a-4006-86fe-ab96c7cb6174",
   "metadata": {},
   "outputs": [
    {
     "ename": "ERROR",
     "evalue": "Error in waldtest.mlogit(m2, heterosc = TRUE): object 'su' not found\n",
     "output_type": "error",
     "traceback": [
      "Error in waldtest.mlogit(m2, heterosc = TRUE): object 'su' not found\nTraceback:\n",
      "1. waldtest(m2, heterosc = TRUE)",
      "2. waldtest.mlogit(m2, heterosc = TRUE)"
     ]
    }
   ],
   "source": [
    "waldtest(m2, heterosc = TRUE)"
   ]
  },
  {
   "cell_type": "code",
   "execution_count": 33,
   "id": "dc52f6a9-03f0-4164-bb72-99c39135cdc0",
   "metadata": {},
   "outputs": [
    {
     "data": {
      "text/html": [
       "<table class=\"dataframe\">\n",
       "<caption>A anova: 2 × 4</caption>\n",
       "<thead>\n",
       "\t<tr><th></th><th scope=col>Res.Df</th><th scope=col>Df</th><th scope=col>Chisq</th><th scope=col>Pr(&gt;Chisq)</th></tr>\n",
       "\t<tr><th></th><th scope=col>&lt;dbl&gt;</th><th scope=col>&lt;dbl&gt;</th><th scope=col>&lt;dbl&gt;</th><th scope=col>&lt;dbl&gt;</th></tr>\n",
       "</thead>\n",
       "<tbody>\n",
       "\t<tr><th scope=row>1</th><td>57</td><td>NA</td><td>      NA</td><td>          NA</td></tr>\n",
       "\t<tr><th scope=row>2</th><td>55</td><td> 2</td><td>18.91408</td><td>7.813756e-05</td></tr>\n",
       "</tbody>\n",
       "</table>\n"
      ],
      "text/latex": [
       "A anova: 2 × 4\n",
       "\\begin{tabular}{r|llll}\n",
       "  & Res.Df & Df & Chisq & Pr(>Chisq)\\\\\n",
       "  & <dbl> & <dbl> & <dbl> & <dbl>\\\\\n",
       "\\hline\n",
       "\t1 & 57 & NA &       NA &           NA\\\\\n",
       "\t2 & 55 &  2 & 18.91408 & 7.813756e-05\\\\\n",
       "\\end{tabular}\n"
      ],
      "text/markdown": [
       "\n",
       "A anova: 2 × 4\n",
       "\n",
       "| <!--/--> | Res.Df &lt;dbl&gt; | Df &lt;dbl&gt; | Chisq &lt;dbl&gt; | Pr(&gt;Chisq) &lt;dbl&gt; |\n",
       "|---|---|---|---|---|\n",
       "| 1 | 57 | NA |       NA |           NA |\n",
       "| 2 | 55 |  2 | 18.91408 | 7.813756e-05 |\n",
       "\n"
      ],
      "text/plain": [
       "  Res.Df Df Chisq    Pr(>Chisq)  \n",
       "1 57     NA       NA           NA\n",
       "2 55      2 18.91408 7.813756e-05"
      ]
     },
     "metadata": {},
     "output_type": "display_data"
    }
   ],
   "source": [
    "linearHypothesis(m2, c(\"length:Invertebrates = 1\", \"length:Other = 1\"))"
   ]
  },
  {
   "cell_type": "code",
   "execution_count": 37,
   "id": "b258c2d6-7949-40b7-92fe-5103fd0f8228",
   "metadata": {},
   "outputs": [
    {
     "data": {
      "text/plain": [
       "\n",
       "Call:\n",
       "mlogit(formula = food ~ length | 0, data = longGators, method = \"nr\")\n",
       "\n",
       "Frequencies of alternatives:choice\n",
       "         Fish Invertebrates         Other \n",
       "      0.52542       0.33898       0.13559 \n",
       "\n",
       "nr method\n",
       "1 iterations, 0h:0m:0s \n",
       "g'(-H)^-1g = 1E+10 \n",
       "last step couldn't find higher value \n",
       "\n",
       "Coefficients :\n",
       "         Estimate Std. Error z-value Pr(>|z|)\n",
       "length 0.0000e+00 6.5004e+14       0        1\n",
       "\n",
       "Log-Likelihood: -64.818"
      ]
     },
     "metadata": {},
     "output_type": "display_data"
    }
   ],
   "source": [
    "m3 = mlogit(food ~ length | 0, data = longGators)\n",
    "summary(m3)"
   ]
  },
  {
   "cell_type": "code",
   "execution_count": 11,
   "id": "4bd41b89-4e19-4e9c-bc78-17ee8e1337ae",
   "metadata": {},
   "outputs": [
    {
     "name": "stdout",
     "output_type": "stream",
     "text": [
      "~~~~~~~\n",
      " first 10 observations out of 15 \n",
      "~~~~~~~\n",
      "   length  food chid           alt    idx\n",
      "1    1.78 FALSE    1          Fish 1:Fish\n",
      "2    1.78  TRUE    1 Invertebrates 1:ates\n",
      "3    1.78 FALSE    1         Other 1:ther\n",
      "4    1.90 FALSE    2          Fish 2:Fish\n",
      "5    1.90  TRUE    2 Invertebrates 2:ates\n",
      "6    1.90 FALSE    2         Other 2:ther\n",
      "7    2.35  TRUE    3          Fish 3:Fish\n",
      "8    2.35 FALSE    3 Invertebrates 3:ates\n",
      "9    2.35 FALSE    3         Other 3:ther\n",
      "10   2.78  TRUE    4          Fish 4:Fish\n",
      "\n",
      "~~~ indexes ~~~~\n",
      "   chid           alt\n",
      "1     1          Fish\n",
      "2     1 Invertebrates\n",
      "3     1         Other\n",
      "4     2          Fish\n",
      "5     2 Invertebrates\n",
      "6     2         Other\n",
      "7     3          Fish\n",
      "8     3 Invertebrates\n",
      "9     3         Other\n",
      "10    4          Fish\n",
      "indexes:  1, 2 \n"
     ]
    }
   ],
   "source": [
    "predictFood <- data.frame(\n",
    "    length = c(1.78, 1.9, 2.35, 2.78, 3.68),\n",
    "    food = c(\"Invertebrates\", \"Invertebrates\", \"Fish\", \"Fish\", \"Other\")\n",
    ")\n",
    "\n",
    "#predictFood\n",
    "gatorPredict = mlogit.data(predictFood, shape=\"wide\", choice = \"food\")\n",
    "head(gatorPredict)"
   ]
  },
  {
   "cell_type": "code",
   "execution_count": 12,
   "id": "0cf2c584-2cff-4db5-b87c-8df5cf67f991",
   "metadata": {},
   "outputs": [
    {
     "data": {
      "text/html": [
       "<table class=\"dataframe\">\n",
       "<caption>A matrix: 5 × 3 of type dbl</caption>\n",
       "<thead>\n",
       "\t<tr><th></th><th scope=col>Fish</th><th scope=col>Invertebrates</th><th scope=col>Other</th></tr>\n",
       "</thead>\n",
       "<tbody>\n",
       "\t<tr><th scope=row>1</th><td>0.4684641</td><td>0.41849806</td><td>0.1130378</td></tr>\n",
       "\t<tr><th scope=row>2</th><td>0.5214048</td><td>0.35110976</td><td>0.1274855</td></tr>\n",
       "\t<tr><th scope=row>3</th><td>0.6710295</td><td>0.15656694</td><td>0.1724035</td></tr>\n",
       "\t<tr><th scope=row>4</th><td>0.7384844</td><td>0.06258187</td><td>0.1989337</td></tr>\n",
       "\t<tr><th scope=row>5</th><td>0.7647495</td><td>0.00778050</td><td>0.2274700</td></tr>\n",
       "</tbody>\n",
       "</table>\n"
      ],
      "text/latex": [
       "A matrix: 5 × 3 of type dbl\n",
       "\\begin{tabular}{r|lll}\n",
       "  & Fish & Invertebrates & Other\\\\\n",
       "\\hline\n",
       "\t1 & 0.4684641 & 0.41849806 & 0.1130378\\\\\n",
       "\t2 & 0.5214048 & 0.35110976 & 0.1274855\\\\\n",
       "\t3 & 0.6710295 & 0.15656694 & 0.1724035\\\\\n",
       "\t4 & 0.7384844 & 0.06258187 & 0.1989337\\\\\n",
       "\t5 & 0.7647495 & 0.00778050 & 0.2274700\\\\\n",
       "\\end{tabular}\n"
      ],
      "text/markdown": [
       "\n",
       "A matrix: 5 × 3 of type dbl\n",
       "\n",
       "| <!--/--> | Fish | Invertebrates | Other |\n",
       "|---|---|---|---|\n",
       "| 1 | 0.4684641 | 0.41849806 | 0.1130378 |\n",
       "| 2 | 0.5214048 | 0.35110976 | 0.1274855 |\n",
       "| 3 | 0.6710295 | 0.15656694 | 0.1724035 |\n",
       "| 4 | 0.7384844 | 0.06258187 | 0.1989337 |\n",
       "| 5 | 0.7647495 | 0.00778050 | 0.2274700 |\n",
       "\n"
      ],
      "text/plain": [
       "  Fish      Invertebrates Other    \n",
       "1 0.4684641 0.41849806    0.1130378\n",
       "2 0.5214048 0.35110976    0.1274855\n",
       "3 0.6710295 0.15656694    0.1724035\n",
       "4 0.7384844 0.06258187    0.1989337\n",
       "5 0.7647495 0.00778050    0.2274700"
      ]
     },
     "metadata": {},
     "output_type": "display_data"
    }
   ],
   "source": [
    "prediction <- predict(m2, gatorPredict)\n",
    "prediction"
   ]
  },
  {
   "cell_type": "code",
   "execution_count": 13,
   "id": "2dd5d8b7-2723-42fc-8b7f-8623706e4445",
   "metadata": {},
   "outputs": [
    {
     "data": {
      "text/plain": [
       "      Fish        Invertebrates          Other        \n",
       " Min.   :0.2265   Min.   :0.004734   Min.   :0.05151  \n",
       " 1st Qu.:0.3726   1st Qu.:0.127685   1st Qu.:0.08792  \n",
       " Median :0.4998   Median :0.378641   Median :0.12154  \n",
       " Mean   :0.5254   Mean   :0.338983   Mean   :0.13559  \n",
       " 3rd Qu.:0.6924   3rd Qu.:0.539445   3rd Qu.:0.17987  \n",
       " Max.   :0.7651   Max.   :0.721964   Max.   :0.23226  "
      ]
     },
     "metadata": {},
     "output_type": "display_data"
    }
   ],
   "source": [
    "prediction2 <- predict(m2, longGators)\n",
    "summary(prediction2)"
   ]
  },
  {
   "cell_type": "code",
   "execution_count": 15,
   "id": "77a93f19-18bd-43ac-bd3f-80a136d6216e",
   "metadata": {},
   "outputs": [
    {
     "data": {
      "text/html": [
       "<table class=\"dataframe\">\n",
       "<caption>A data.frame: 6 × 9</caption>\n",
       "<thead>\n",
       "\t<tr><th></th><th scope=col>individual</th><th scope=col>mode</th><th scope=col>choice</th><th scope=col>wait</th><th scope=col>vcost</th><th scope=col>travel</th><th scope=col>gcost</th><th scope=col>income</th><th scope=col>size</th></tr>\n",
       "\t<tr><th></th><th scope=col>&lt;fct&gt;</th><th scope=col>&lt;fct&gt;</th><th scope=col>&lt;fct&gt;</th><th scope=col>&lt;int&gt;</th><th scope=col>&lt;int&gt;</th><th scope=col>&lt;int&gt;</th><th scope=col>&lt;int&gt;</th><th scope=col>&lt;int&gt;</th><th scope=col>&lt;int&gt;</th></tr>\n",
       "</thead>\n",
       "<tbody>\n",
       "\t<tr><th scope=row>1</th><td>1</td><td>air  </td><td>no </td><td>69</td><td>59</td><td>100</td><td>70</td><td>35</td><td>1</td></tr>\n",
       "\t<tr><th scope=row>2</th><td>1</td><td>train</td><td>no </td><td>34</td><td>31</td><td>372</td><td>71</td><td>35</td><td>1</td></tr>\n",
       "\t<tr><th scope=row>3</th><td>1</td><td>bus  </td><td>no </td><td>35</td><td>25</td><td>417</td><td>70</td><td>35</td><td>1</td></tr>\n",
       "\t<tr><th scope=row>4</th><td>1</td><td>car  </td><td>yes</td><td> 0</td><td>10</td><td>180</td><td>30</td><td>35</td><td>1</td></tr>\n",
       "\t<tr><th scope=row>5</th><td>2</td><td>air  </td><td>no </td><td>64</td><td>58</td><td> 68</td><td>68</td><td>30</td><td>2</td></tr>\n",
       "\t<tr><th scope=row>6</th><td>2</td><td>train</td><td>no </td><td>44</td><td>31</td><td>354</td><td>84</td><td>30</td><td>2</td></tr>\n",
       "</tbody>\n",
       "</table>\n"
      ],
      "text/latex": [
       "A data.frame: 6 × 9\n",
       "\\begin{tabular}{r|lllllllll}\n",
       "  & individual & mode & choice & wait & vcost & travel & gcost & income & size\\\\\n",
       "  & <fct> & <fct> & <fct> & <int> & <int> & <int> & <int> & <int> & <int>\\\\\n",
       "\\hline\n",
       "\t1 & 1 & air   & no  & 69 & 59 & 100 & 70 & 35 & 1\\\\\n",
       "\t2 & 1 & train & no  & 34 & 31 & 372 & 71 & 35 & 1\\\\\n",
       "\t3 & 1 & bus   & no  & 35 & 25 & 417 & 70 & 35 & 1\\\\\n",
       "\t4 & 1 & car   & yes &  0 & 10 & 180 & 30 & 35 & 1\\\\\n",
       "\t5 & 2 & air   & no  & 64 & 58 &  68 & 68 & 30 & 2\\\\\n",
       "\t6 & 2 & train & no  & 44 & 31 & 354 & 84 & 30 & 2\\\\\n",
       "\\end{tabular}\n"
      ],
      "text/markdown": [
       "\n",
       "A data.frame: 6 × 9\n",
       "\n",
       "| <!--/--> | individual &lt;fct&gt; | mode &lt;fct&gt; | choice &lt;fct&gt; | wait &lt;int&gt; | vcost &lt;int&gt; | travel &lt;int&gt; | gcost &lt;int&gt; | income &lt;int&gt; | size &lt;int&gt; |\n",
       "|---|---|---|---|---|---|---|---|---|---|\n",
       "| 1 | 1 | air   | no  | 69 | 59 | 100 | 70 | 35 | 1 |\n",
       "| 2 | 1 | train | no  | 34 | 31 | 372 | 71 | 35 | 1 |\n",
       "| 3 | 1 | bus   | no  | 35 | 25 | 417 | 70 | 35 | 1 |\n",
       "| 4 | 1 | car   | yes |  0 | 10 | 180 | 30 | 35 | 1 |\n",
       "| 5 | 2 | air   | no  | 64 | 58 |  68 | 68 | 30 | 2 |\n",
       "| 6 | 2 | train | no  | 44 | 31 | 354 | 84 | 30 | 2 |\n",
       "\n"
      ],
      "text/plain": [
       "  individual mode  choice wait vcost travel gcost income size\n",
       "1 1          air   no     69   59    100    70    35     1   \n",
       "2 1          train no     34   31    372    71    35     1   \n",
       "3 1          bus   no     35   25    417    70    35     1   \n",
       "4 1          car   yes     0   10    180    30    35     1   \n",
       "5 2          air   no     64   58     68    68    30     2   \n",
       "6 2          train no     44   31    354    84    30     2   "
      ]
     },
     "metadata": {},
     "output_type": "display_data"
    },
    {
     "data": {
      "text/plain": [
       "\n",
       "      air     train       bus       car \n",
       "0.2761905 0.3000000 0.1428571 0.2809524 "
      ]
     },
     "metadata": {},
     "output_type": "display_data"
    },
    {
     "data": {
      "text/plain": [
       "\n",
       "Call:\n",
       "mlogit(formula = choice ~ gcost + wait + incair, data = TravelMode, \n",
       "    reflevel = \"car\", shape = \"long\", alt.var = \"mode\", method = \"nr\")\n",
       "\n",
       "Frequencies of alternatives:choice\n",
       "    car     air   train     bus \n",
       "0.28095 0.27619 0.30000 0.14286 \n",
       "\n",
       "nr method\n",
       "5 iterations, 0h:0m:0s \n",
       "g'(-H)^-1g = 0.000234 \n",
       "successive function values within tolerance limits \n",
       "\n",
       "Coefficients :\n",
       "                   Estimate Std. Error z-value  Pr(>|z|)    \n",
       "(Intercept):air    5.207433   0.779055  6.6843 2.320e-11 ***\n",
       "(Intercept):train  3.869036   0.443127  8.7312 < 2.2e-16 ***\n",
       "(Intercept):bus    3.163190   0.450266  7.0252 2.138e-12 ***\n",
       "gcost             -0.015501   0.004408 -3.5167  0.000437 ***\n",
       "wait              -0.096125   0.010440 -9.2075 < 2.2e-16 ***\n",
       "incair             0.013287   0.010262  1.2947  0.195414    \n",
       "---\n",
       "Signif. codes:  0 ‘***’ 0.001 ‘**’ 0.01 ‘*’ 0.05 ‘.’ 0.1 ‘ ’ 1\n",
       "\n",
       "Log-Likelihood: -199.13\n",
       "McFadden R^2:  0.29825 \n",
       "Likelihood ratio test : chisq = 169.26 (p.value = < 2.22e-16)"
      ]
     },
     "metadata": {},
     "output_type": "display_data"
    },
    {
     "data": {
      "image/png": "[encoded data removed]",
      "text/plain": [
       "plot without title"
      ]
     },
     "metadata": {
      "image/png": {
       "height": 420,
       "width": 420
      }
     },
     "output_type": "display_data"
    }
   ],
   "source": [
    "data(\"TravelMode\", package = \"AER\")\n",
    "\n",
    "head(TravelMode)\n",
    "\n",
    "## overall proportions for chosen mode\n",
    "with(TravelMode, prop.table(table(mode[choice == \"yes\"])))\n",
    "\n",
    "## travel vs. waiting time for different travel modes\n",
    "library(\"lattice\")\n",
    "xyplot(travel ~ wait | mode, data = TravelMode)\n",
    "\n",
    "## Greene (2003), Table 21.11, conditional logit model\n",
    "if(require(\"mlogit\")) {\n",
    "TravelMode$incair <- with(TravelMode, income * (mode == \"air\"))\n",
    "tm_cl <- mlogit(choice ~ gcost + wait + incair, data = TravelMode,\n",
    "  shape = \"long\", alt.var = \"mode\", reflevel = \"car\")\n",
    "summary(tm_cl)\n",
    "}"
   ]
  },
  {
   "cell_type": "code",
   "execution_count": 17,
   "id": "5b9821a4-d004-4061-a004-dd43e34b62ca",
   "metadata": {},
   "outputs": [
    {
     "ename": "ERROR",
     "evalue": "Error in waldtest.mlogit(tm_cl, heterosc = FALSE): object 'su' not found\n",
     "output_type": "error",
     "traceback": [
      "Error in waldtest.mlogit(tm_cl, heterosc = FALSE): object 'su' not found\nTraceback:\n",
      "1. waldtest(tm_cl, heterosc = FALSE)",
      "2. waldtest.mlogit(tm_cl, heterosc = FALSE)"
     ]
    }
   ],
   "source": [
    "wd.test <- waldtest(tm_cl, heterosc = FALSE)\n",
    "wd.test"
   ]
  },
  {
   "cell_type": "code",
   "execution_count": 18,
   "id": "199340e3-cde6-4831-bfb4-8d0dae223a8f",
   "metadata": {},
   "outputs": [
    {
     "data": {
      "text/plain": [
       "\n",
       "Call:\n",
       "mlogit(formula = choice ~ gcost + wait + incair, data = TravelMode, \n",
       "    reflevel = \"car\", heterosc = TRUE, shape = \"long\", alt.var = \"mode\")\n",
       "\n",
       "Frequencies of alternatives:choice\n",
       "    car     air   train     bus \n",
       "0.28095 0.27619 0.30000 0.14286 \n",
       "\n",
       "bfgs method\n",
       "43 iterations, 0h:0m:1s \n",
       "g'(-H)^-1g = 3.77E-07 \n",
       "gradient close to zero \n",
       "\n",
       "Coefficients :\n",
       "                   Estimate Std. Error z-value Pr(>|z|)\n",
       "(Intercept):air    7.832450  10.950706  0.7152   0.4745\n",
       "(Intercept):train  7.171867   9.135295  0.7851   0.4324\n",
       "(Intercept):bus    6.865775   8.829608  0.7776   0.4368\n",
       "gcost             -0.051562   0.069444 -0.7425   0.4578\n",
       "wait              -0.196843   0.288274 -0.6828   0.4947\n",
       "incair             0.040253   0.060680  0.6634   0.5071\n",
       "sp.air             4.024020   5.977821  0.6732   0.5008\n",
       "sp.train           3.854208   6.220456  0.6196   0.5355\n",
       "sp.bus             1.648749   2.826916  0.5832   0.5597\n",
       "\n",
       "Log-Likelihood: -195.66\n",
       "McFadden R^2:  0.31047 \n",
       "Likelihood ratio test : chisq = 176.2 (p.value = < 2.22e-16)"
      ]
     },
     "metadata": {},
     "output_type": "display_data"
    }
   ],
   "source": [
    "tm_cl2 <- mlogit(choice ~ gcost + wait + incair, data = TravelMode,\n",
    "  shape = \"long\", alt.var = \"mode\", reflevel = \"car\", heterosc = TRUE)\n",
    "\n",
    "summary(tm_cl2)"
   ]
  },
  {
   "cell_type": "code",
   "execution_count": 22,
   "id": "039e7754-797c-43d6-b3d8-c578c6533adf",
   "metadata": {},
   "outputs": [
    {
     "data": {
      "text/plain": [
       "\n",
       "\tWald test\n",
       "\n",
       "data:  homoscedasticity\n",
       "chisq = 3.6356, df = 3, p-value = 0.3036\n"
      ]
     },
     "metadata": {},
     "output_type": "display_data"
    }
   ],
   "source": [
    "waldtest(tm_cl2, heterosc = TRUE)"
   ]
  },
  {
   "cell_type": "code",
   "execution_count": 19,
   "id": "c315338a-9c5a-42f2-9c9d-ccfd9b29ddb9",
   "metadata": {},
   "outputs": [
    {
     "data": {
      "text/html": [
       "<table class=\"dataframe\">\n",
       "<caption>A anova: 2 × 5</caption>\n",
       "<thead>\n",
       "\t<tr><th></th><th scope=col>#Df</th><th scope=col>LogLik</th><th scope=col>Df</th><th scope=col>Chisq</th><th scope=col>Pr(&gt;Chisq)</th></tr>\n",
       "\t<tr><th></th><th scope=col>&lt;dbl&gt;</th><th scope=col>&lt;dbl&gt;</th><th scope=col>&lt;dbl&gt;</th><th scope=col>&lt;dbl&gt;</th><th scope=col>&lt;dbl&gt;</th></tr>\n",
       "</thead>\n",
       "<tbody>\n",
       "\t<tr><th scope=row>1</th><td>6</td><td>-199.1284</td><td>NA</td><td>      NA</td><td>        NA</td></tr>\n",
       "\t<tr><th scope=row>2</th><td>9</td><td>-195.6605</td><td> 3</td><td>6.935712</td><td>0.07397531</td></tr>\n",
       "</tbody>\n",
       "</table>\n"
      ],
      "text/latex": [
       "A anova: 2 × 5\n",
       "\\begin{tabular}{r|lllll}\n",
       "  & \\#Df & LogLik & Df & Chisq & Pr(>Chisq)\\\\\n",
       "  & <dbl> & <dbl> & <dbl> & <dbl> & <dbl>\\\\\n",
       "\\hline\n",
       "\t1 & 6 & -199.1284 & NA &       NA &         NA\\\\\n",
       "\t2 & 9 & -195.6605 &  3 & 6.935712 & 0.07397531\\\\\n",
       "\\end{tabular}\n"
      ],
      "text/markdown": [
       "\n",
       "A anova: 2 × 5\n",
       "\n",
       "| <!--/--> | #Df &lt;dbl&gt; | LogLik &lt;dbl&gt; | Df &lt;dbl&gt; | Chisq &lt;dbl&gt; | Pr(&gt;Chisq) &lt;dbl&gt; |\n",
       "|---|---|---|---|---|---|\n",
       "| 1 | 6 | -199.1284 | NA |       NA |         NA |\n",
       "| 2 | 9 | -195.6605 |  3 | 6.935712 | 0.07397531 |\n",
       "\n"
      ],
      "text/plain": [
       "  #Df LogLik    Df Chisq    Pr(>Chisq)\n",
       "1 6   -199.1284 NA       NA         NA\n",
       "2 9   -195.6605  3 6.935712 0.07397531"
      ]
     },
     "metadata": {},
     "output_type": "display_data"
    }
   ],
   "source": [
    "lrtest(tm_cl, tm_cl2)"
   ]
  },
  {
   "cell_type": "code",
   "execution_count": 20,
   "id": "f0e545db-2165-4e7f-8404-3bb8bb08b61f",
   "metadata": {},
   "outputs": [
    {
     "data": {
      "text/html": [
       "<table class=\"dataframe\">\n",
       "<caption>A anova: 2 × 5</caption>\n",
       "<thead>\n",
       "\t<tr><th></th><th scope=col>#Df</th><th scope=col>LogLik</th><th scope=col>Df</th><th scope=col>Chisq</th><th scope=col>Pr(&gt;Chisq)</th></tr>\n",
       "\t<tr><th></th><th scope=col>&lt;dbl&gt;</th><th scope=col>&lt;dbl&gt;</th><th scope=col>&lt;dbl&gt;</th><th scope=col>&lt;dbl&gt;</th><th scope=col>&lt;dbl&gt;</th></tr>\n",
       "</thead>\n",
       "<tbody>\n",
       "\t<tr><th scope=row>1</th><td>9</td><td>-195.6605</td><td>NA</td><td>      NA</td><td>        NA</td></tr>\n",
       "\t<tr><th scope=row>2</th><td>6</td><td>-199.1284</td><td>-3</td><td>6.935712</td><td>0.07397531</td></tr>\n",
       "</tbody>\n",
       "</table>\n"
      ],
      "text/latex": [
       "A anova: 2 × 5\n",
       "\\begin{tabular}{r|lllll}\n",
       "  & \\#Df & LogLik & Df & Chisq & Pr(>Chisq)\\\\\n",
       "  & <dbl> & <dbl> & <dbl> & <dbl> & <dbl>\\\\\n",
       "\\hline\n",
       "\t1 & 9 & -195.6605 & NA &       NA &         NA\\\\\n",
       "\t2 & 6 & -199.1284 & -3 & 6.935712 & 0.07397531\\\\\n",
       "\\end{tabular}\n"
      ],
      "text/markdown": [
       "\n",
       "A anova: 2 × 5\n",
       "\n",
       "| <!--/--> | #Df &lt;dbl&gt; | LogLik &lt;dbl&gt; | Df &lt;dbl&gt; | Chisq &lt;dbl&gt; | Pr(&gt;Chisq) &lt;dbl&gt; |\n",
       "|---|---|---|---|---|---|\n",
       "| 1 | 9 | -195.6605 | NA |       NA |         NA |\n",
       "| 2 | 6 | -199.1284 | -3 | 6.935712 | 0.07397531 |\n",
       "\n"
      ],
      "text/plain": [
       "  #Df LogLik    Df Chisq    Pr(>Chisq)\n",
       "1 9   -195.6605 NA       NA         NA\n",
       "2 6   -199.1284 -3 6.935712 0.07397531"
      ]
     },
     "metadata": {},
     "output_type": "display_data"
    }
   ],
   "source": [
    "lrtest(tm_cl2, tm_cl)"
   ]
  }
 ],
 "metadata": {
  "kernelspec": {
   "display_name": "R",
   "language": "R",
   "name": "ir"
  },
  "language_info": {
   "codemirror_mode": "r",
   "file_extension": ".r",
   "mimetype": "text/x-r-source",
   "name": "R",
   "pygments_lexer": "r",
   "version": "4.3.1"
  }
 },
 "nbformat": 4,
 "nbformat_minor": 5
}
