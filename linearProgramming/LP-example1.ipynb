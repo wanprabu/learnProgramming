{
 "cells": [
  {
   "cell_type": "markdown",
   "id": "878f9744-8f78-4667-9e29-c5a6f284ae3c",
   "metadata": {},
   "source": [
    "# Introduction\n",
    "\n",
    "This notebook is intended to learn linear programming by solving several problems using Python solver. Herein, the [PuLP](https://coin-or.github.io/pulp/) library is chosen as a solver packages. \n",
    "\n",
    "Linear programming often involves maximising or minimising an objective function which subject to several constraints. To solve optimization problems, the following steps are generally carried out:\n",
    "1. Clearly make the problem description\n",
    "2. Formulate the problem into mathematical formulation\n",
    "3. Solve the mathematical program\n",
    "4. Perform post-optimal analysis\n",
    "5. Present the solution and analysis\n",
    "\n",
    "The problem used in this notebook will be varied ranging from text book, online source, and real problems. \n",
    "\n",
    "# Problem definition\n",
    "The problems from online source were taken from:\n",
    "* https://github.com/tstran155/Linear-Programming-Optimization-With-Python.syntax\n",
    "* https://github.com/Gurobi\n",
    "\n",
    "The problems from text book were taken from:\n",
    "* Applied Mathematical Programming\n",
    "* Supply Chain Management: Strategy, Planning, and Operation"
   ]
  },
  {
   "cell_type": "markdown",
   "id": "08d604ca-1eef-4edf-b759-3017ea1bb589",
   "metadata": {},
   "source": [
    "## Problem 1\n",
    "A company can produce 4 types of products **H1, H2, H3, and H4** using 2 types of raw materials **N1** and **N2**. The maximum amount of raw materials that the company can have is 600kg and 800kg, respectively. The consumption rate of each type of raw material for each type of product and the profit earned for each unit of product are given as follows:\n",
    "\n",
    "| Raw Material | H1 | H2 | H3 | H4 |\n",
    "| -- | -- | -- | -- | -- |\n",
    "| N1 | 0.5 | 0.2 | 0.3 | 0.6 |\n",
    "| N2 | 0.1 | 0.4 | 0.2 | 0.5 |\n",
    "\n",
    "|  | H1 | H2 | H3 | H4 |\n",
    "| -- | -- | -- | -- | -- |\n",
    "| Profit (thousand USD) | 0.8 | 0.3 | 0.38 | 0.4 |\n",
    "\n",
    "a. Find the optimal production plan for the company to achieve the maximum profit\n",
    "\n",
    "b. Additional constraints that the solution must satisfy:\n",
    "\n",
    "- The total number of products H1 and H2 is not less than 1000\n",
    "- The profit for one unit of product H3 is 0.5\n",
    "- With the requirement in a) find the optimal production plan for the company\n"
   ]
  },
  {
   "cell_type": "markdown",
   "id": "51aeb2c7-db3d-42f2-a634-3ec832ee041e",
   "metadata": {},
   "source": [
    "### Mathematical formulation\n",
    "\n",
    "#### Objective Function\n",
    "\\begin{equation}\n",
    "\\text{Maximize} \\quad Z = 0.8H_1 + 0.3H_2 + 0.38H_3 + 0.4H_4\n",
    "\\end{equation}\n",
    "\n",
    "#### Constraints\n",
    "$$ 0.5H_1 + 0.2H_2 + 0.3H_3 + 0.6H_4 <= 600 $$\n",
    "$$ 0.1H_1 + 0.4H_2 + 0.2H_3 + 0.5H_4 <= 800 $$\n",
    "$$ H_1 + H_2 >= 1000 $$\n",
    "\n",
    "#### Solution"
   ]
  },
  {
   "cell_type": "code",
   "execution_count": 1,
   "id": "5ba539c0-42f8-45e7-8f9c-1f88a8115c3c",
   "metadata": {},
   "outputs": [
    {
     "name": "stdout",
     "output_type": "stream",
     "text": [
      "Defaulting to user installation because normal site-packages is not writeable\n",
      "Requirement already satisfied: pulp in /azhome/wapra1274@ad.uit.no/.local/lib/python3.9/site-packages (2.7.0)\n",
      "Note: you may need to restart the kernel to use updated packages.\n"
     ]
    }
   ],
   "source": [
    "pip install pulp"
   ]
  },
  {
   "cell_type": "code",
   "execution_count": 2,
   "id": "529087bd-9780-4ab5-98cc-0db456aaec8a",
   "metadata": {},
   "outputs": [
    {
     "data": {
      "text/plain": [
       "['GLPK_CMD',\n",
       " 'PYGLPK',\n",
       " 'CPLEX_CMD',\n",
       " 'CPLEX_PY',\n",
       " 'GUROBI',\n",
       " 'GUROBI_CMD',\n",
       " 'MOSEK',\n",
       " 'XPRESS',\n",
       " 'XPRESS',\n",
       " 'XPRESS_PY',\n",
       " 'PULP_CBC_CMD',\n",
       " 'COIN_CMD',\n",
       " 'COINMP_DLL',\n",
       " 'CHOCO_CMD',\n",
       " 'MIPCL_CMD',\n",
       " 'SCIP_CMD',\n",
       " 'HiGHS_CMD']"
      ]
     },
     "execution_count": 2,
     "metadata": {},
     "output_type": "execute_result"
    }
   ],
   "source": [
    "import pulp\n",
    "pulp.listSolvers()"
   ]
  },
  {
   "cell_type": "code",
   "execution_count": 3,
   "id": "13f4f1c5-c3e7-43ed-aab3-aadf971d4c94",
   "metadata": {},
   "outputs": [
    {
     "data": {
      "text/plain": [
       "['GLPK_CMD', 'PULP_CBC_CMD']"
      ]
     },
     "execution_count": 3,
     "metadata": {},
     "output_type": "execute_result"
    }
   ],
   "source": [
    "solver_list = pulp.listSolvers(onlyAvailable=True)\n",
    "solver_list"
   ]
  },
  {
   "cell_type": "code",
   "execution_count": 4,
   "id": "299a5752-f4d4-42c1-a544-b4a29762278a",
   "metadata": {},
   "outputs": [
    {
     "data": {
      "text/plain": [
       "['GLPK_CMD', 'PULP_CBC_CMD']"
      ]
     },
     "execution_count": 4,
     "metadata": {},
     "output_type": "execute_result"
    }
   ],
   "source": [
    "# add other solver\n",
    "pulp.getSolver(\"CPLEX_CMD\")\n",
    "solver_list = pulp.listSolvers(onlyAvailable=True)\n",
    "solver_list"
   ]
  },
  {
   "cell_type": "code",
   "execution_count": 13,
   "id": "8ba3f400-5078-4480-b519-e0ae050e05d2",
   "metadata": {},
   "outputs": [
    {
     "name": "stdout",
     "output_type": "stream",
     "text": [
      "Welcome to the CBC MILP Solver \n",
      "Version: 2.10.3 \n",
      "Build Date: Dec 15 2019 \n",
      "\n",
      "command line - /azhome/wapra1274@ad.uit.no/.local/lib/python3.9/site-packages/pulp/solverdir/cbc/linux/64/cbc /tmp/955fe856bb2a4449b2df22463c221ea2-pulp.mps max timeMode elapsed branch printingOptions all solution /tmp/955fe856bb2a4449b2df22463c221ea2-pulp.sol (default strategy 1)\n",
      "At line 2 NAME          MODEL\n",
      "At line 3 ROWS\n",
      "At line 7 COLUMNS\n",
      "At line 20 RHS\n",
      "At line 23 BOUNDS\n",
      "At line 24 ENDATA\n",
      "Problem MODEL has 2 rows, 4 columns and 8 elements\n",
      "Coin0008I MODEL read with 0 errors\n",
      "Option for timeMode changed from cpu to elapsed\n",
      "Presolve 2 (0) rows, 4 (0) columns and 8 (0) elements\n",
      "0  Obj -0 Dual inf 2.4949996 (4)\n",
      "0  Obj -0 Dual inf 2.4949996 (4)\n",
      "1  Obj 960\n",
      "Optimal - objective value 960\n",
      "Optimal objective 960 - 1 iterations time 0.002\n",
      "Option for printingOptions changed from normal to all\n",
      "Total time (CPU seconds):       0.00   (Wallclock seconds):       0.00\n",
      "\n",
      "Status: Optimal\n",
      "Product_1 = 1200.0\n",
      "Product_2 = 0.0\n",
      "Product_3 = 0.0\n",
      "Product_4 = 0.0\n",
      "Total profit =  960.0\n"
     ]
    }
   ],
   "source": [
    "# 1st alternative\n",
    "# create a model\n",
    "from pulp import *\n",
    "model = LpProblem(\"Problem 1\", LpMaximize)\n",
    "\n",
    "# create variables\n",
    "h1 = LpVariable(\"Product 1\", lowBound =0)\n",
    "h2 = LpVariable(\"Product 2\", lowBound =0)\n",
    "h3 = LpVariable(\"Product 3\", lowBound =0)\n",
    "h4 = LpVariable(\"Product 4\", lowBound =0)\n",
    "\n",
    "# Objective function\n",
    "model += 0.8*h1 + 0.3*h2 + 0.38*h3 + 0.4*h4\n",
    "\n",
    "# constraints\n",
    "#model += h1 + h2 >= 1000\n",
    "model += 0.5*h1 + 0.2*h2 + 0.3*h3 + 0.6*h4 <= 600\n",
    "model += 0.1*h1 + 0.4*h2 + 0.2*h3 + 0.5*h4 <= 800\n",
    "\n",
    "# Run the solver\n",
    "model.writeLP(\"models/LP1-prob1-model1.lp\")\n",
    "model.solve()\n",
    "\n",
    "print(\"Status:\", LpStatus[model.status])\n",
    "for v in model.variables():\n",
    "    print(v.name, \"=\", v.varValue)\n",
    "\n",
    "print(\"Total profit = \", value(model.objective))"
   ]
  },
  {
   "cell_type": "code",
   "execution_count": 12,
   "id": "d999e126-9149-4ed6-bccc-f2b8e761517e",
   "metadata": {},
   "outputs": [
    {
     "name": "stdout",
     "output_type": "stream",
     "text": [
      "Welcome to the CBC MILP Solver \n",
      "Version: 2.10.3 \n",
      "Build Date: Dec 15 2019 \n",
      "\n",
      "command line - /azhome/wapra1274@ad.uit.no/.local/lib/python3.9/site-packages/pulp/solverdir/cbc/linux/64/cbc /tmp/4e2f2d76a6c943f0adc962db2acaed0c-pulp.mps max timeMode elapsed branch printingOptions all solution /tmp/4e2f2d76a6c943f0adc962db2acaed0c-pulp.sol (default strategy 1)\n",
      "At line 2 NAME          MODEL\n",
      "At line 3 ROWS\n",
      "At line 7 COLUMNS\n",
      "At line 20 RHS\n",
      "At line 23 BOUNDS\n",
      "At line 24 ENDATA\n",
      "Problem MODEL has 2 rows, 4 columns and 8 elements\n",
      "Coin0008I MODEL read with 0 errors\n",
      "Option for timeMode changed from cpu to elapsed\n",
      "Presolve 2 (0) rows, 4 (0) columns and 8 (0) elements\n",
      "0  Obj -0 Dual inf 2.4949996 (4)\n",
      "0  Obj -0 Dual inf 2.4949996 (4)\n",
      "1  Obj 960\n",
      "Optimal - objective value 960\n",
      "Optimal objective 960 - 1 iterations time 0.002\n",
      "Option for printingOptions changed from normal to all\n",
      "Total time (CPU seconds):       0.00   (Wallclock seconds):       0.00\n",
      "\n",
      "Status: Optimal\n",
      "H_Product_1 = 1200.0\n",
      "H_Product_2 = 0.0\n",
      "H_Product_3 = 0.0\n",
      "H_Product_4 = 0.0\n",
      "Total profit =  960.0\n"
     ]
    }
   ],
   "source": [
    "# 2nd alternative\n",
    "# create a model\n",
    "from pulp import *\n",
    "model = LpProblem(\"Problem 1\", LpMaximize)\n",
    "\n",
    "# create variables\n",
    "products = [\"Product 1\", \"Product 2\", \"Product 3\", \"Product 4\"]\n",
    "\n",
    "profits = {\n",
    "    \"Product 1\": 0.8,\n",
    "    \"Product 2\": 0.3,\n",
    "    \"Product 3\": 0.38,\n",
    "    \"Product 4\": 0.4,\n",
    "}\n",
    "\n",
    "materialN1 = {\n",
    "    \"Product 1\": 0.5,\n",
    "    \"Product 2\": 0.2,\n",
    "    \"Product 3\": 0.3,\n",
    "    \"Product 4\": 0.6,\n",
    "}\n",
    "\n",
    "materialN2 = {\n",
    "    \"Product 1\": 0.1,\n",
    "    \"Product 2\": 0.4,\n",
    "    \"Product 3\": 0.2,\n",
    "    \"Product 4\": 0.5,\n",
    "}\n",
    "\n",
    "# define lower bound for variables\n",
    "product_vars = LpVariable.dict(\"H\", products, 0)\n",
    "\n",
    "# Objective function\n",
    "model += (\n",
    "    lpSum([profits[i] * product_vars[i] for i in products]),\n",
    "    \"Total profit\"\n",
    ")\n",
    "\n",
    "# constraints\n",
    "#model += h1 + h2 >= 1000\n",
    "model += (\n",
    "    lpSum([materialN1[i] * product_vars[i] for i in products]) <= 600,\n",
    "    \"Material N1 Requirement\"\n",
    ")\n",
    "\n",
    "model += (\n",
    "    lpSum([materialN2[i] * product_vars[i] for i in products]) <= 800,\n",
    "    \"Material N2 Requirement\"\n",
    ")\n",
    "\n",
    "# Run the solver\n",
    "model.writeLP(\"models/LP1-prob1-model2.lp\")\n",
    "model.solve()\n",
    "\n",
    "print(\"Status:\", LpStatus[model.status])\n",
    "\n",
    "for v in model.variables():\n",
    "    print(v.name, \"=\", v.varValue)\n",
    "\n",
    "print(\"Total profit = \", value(model.objective))"
   ]
  },
  {
   "cell_type": "markdown",
   "id": "4778658b-3f5a-475c-9186-b98812371103",
   "metadata": {},
   "source": [
    "## Problem 2\n",
    "_This problem is taken from book Applied Mathematical Programming_\n",
    "\n",
    "An iron foundry has a firm order to produce 1000 pounds of castings containing at least 0.45 percent manganese and between 3.25 percent and 5.50 percent silicon. As these particular casting are a special order, there are no suitable castings on hand. The castings sell for $0.45 per pound. The foundry has three types of pig iron available in essentially unlimited amounts, with the following propeties\n",
    "\n",
    "| | A | B | C |\n",
    "| -- | -- | -- | -- |\n",
    "| Silicon | 4% | 1% | 0.6% |\n",
    "| Manganese | 0.45% | 0.5% | 0.4% |\n",
    "\n",
    "Further, the production process is such that pure manganese can also be added directly to the melt. The costs of the various possible inputs are:\n",
    "\n",
    "* Pig A $\\$$21/thousand pounds \n",
    "* Pig B $\\$$25/thousand pounds\n",
    "* Pig C $\\$$15/thousand pounds\n",
    "* Manganese $\\$$8/pound\n",
    "\n",
    "It costs 0.5 cents to melt down a pound of pig iron. Out of what inputs should the foundry produce the castings in order to maximize profit?"
   ]
  },
  {
   "cell_type": "markdown",
   "id": "e84b93c9-8b3c-4192-9f25-21c079d22f8f",
   "metadata": {},
   "source": [
    "### Mathematical formulation\n",
    "\n",
    "The following variables denote the corresponding number of pounds of pig A, B, C, and pure mangenese, respectively.\n",
    "\n",
    "\\begin{gather*}\n",
    "x1 = \\text{Thousands of pounds of pig iron A} \\\\\n",
    "x2 = \\text{Thousands of pounds of pig iron B} \\\\\n",
    "x3 = \\text{Thousands of pounds of pig iron C} \\\\\n",
    "x4 = \\text{Pounds of pure manganese}\n",
    "\\end{gather*}\n",
    "\n",
    "As the castings profit per pound is $\\$$0.45 and the producing quantity is fix to 1000 pounds, the total income will be as follows:\n",
    "\n",
    "Total income = 0.45 x 1000 = 450\n",
    "\n",
    "The total cost incurred in the production of the alloy, we should add the melting cost 0.5 cent or $\\$$0.005/pound to the corresponding cost of each type of pig iron used. Thus, melting cost per thousand pounds will be 0.005 multiply to 1000 equal to $\\$$5 per thousand pounds. Accordingly the unit cost of each pig iron are:\n",
    "\n",
    "* Pig iron A   21 + 5 = 26\n",
    "* Pig iron B   25 + 5 = 30\n",
    "* Pig iron C   15 + 5 = 20\n",
    "\n",
    "Therefore, the total cost becomes:\n",
    "\n",
    "\\begin{equation}\n",
    "\\text{Total cost} = 26x1 + 30x2 + 20x3 + 8x4,\n",
    "\\end{equation}\n",
    "\n",
    "and the total profit will be:\n",
    "\n",
    "\\begin{gather*}\n",
    "\\text{Total profit} = \\text{Total income} - \\text{Total cost} \\\\\n",
    "\\text{Total profit} = 450 - 26x1 - 30x2 - 20x3 - 8x4 \\\\\n",
    "\\end{gather*}\n",
    "\n"
   ]
  },
  {
   "cell_type": "markdown",
   "id": "dc398c21-dec7-4aae-9b5a-5a7a7f8361da",
   "metadata": {},
   "source": [
    "#### Objective Function\n",
    "Because the total production was fixed, maximization of the total profit is completely equivalent to the minimization of the total cost.\n",
    "\n",
    "$$ \\text{Minimize} \\quad Z = 26x1 + 30x2 + 20x3 + 8x4 $$\n",
    "\n",
    "#### Constraints\n",
    "The following constraint ensure that the total amount of produced castings is exactly equal to 1000 pounds.\n",
    "$$ 1000x1 + 1000x2 + 1000x3 + x4 = 1000 $$\n",
    "\n",
    "The next constraint will ensure that the castings contain at least 0.45 percent of manganese which equal to 4.5 pounds in the 1000 pounds of produced castings. The constraint can be expressed as follows:\n",
    "$$ 4.5x1 + 5x2 + 4x3 + x4 >= 4.5 $$\n",
    "\n",
    "Similarly, the restriction regarding the silicon content, which should be in a range of 3.25 to 5.5 percent, can be represented by the following inequalities:\n",
    "$$ 40x1 + 10x2 + 6x3 >= 32.5 $$\n",
    "$$ 40x1 + 10x2 + 6x3 <= 55 $$\n",
    "\n",
    "#### Solution"
   ]
  },
  {
   "cell_type": "code",
   "execution_count": 11,
   "id": "11208723-7d05-446a-ab78-5a7c8da0688f",
   "metadata": {},
   "outputs": [
    {
     "name": "stdout",
     "output_type": "stream",
     "text": [
      "Welcome to the CBC MILP Solver \n",
      "Version: 2.10.3 \n",
      "Build Date: Dec 15 2019 \n",
      "\n",
      "command line - /azhome/wapra1274@ad.uit.no/.local/lib/python3.9/site-packages/pulp/solverdir/cbc/linux/64/cbc /tmp/a1f1c9b618454252bab323880d7ee336-pulp.mps timeMode elapsed branch printingOptions all solution /tmp/a1f1c9b618454252bab323880d7ee336-pulp.sol (default strategy 1)\n",
      "At line 2 NAME          MODEL\n",
      "At line 3 ROWS\n",
      "At line 9 COLUMNS\n",
      "At line 28 RHS\n",
      "At line 33 BOUNDS\n",
      "At line 34 ENDATA\n",
      "Problem MODEL has 4 rows, 4 columns and 14 elements\n",
      "Coin0008I MODEL read with 0 errors\n",
      "Option for timeMode changed from cpu to elapsed\n",
      "Presolve 4 (0) rows, 4 (0) columns and 14 (0) elements\n",
      "0  Obj 0 Primal inf 33.551268 (3)\n",
      "3  Obj 25.560191\n",
      "Optimal - objective value 25.560191\n",
      "Optimal objective 25.56019134 - 3 iterations time 0.002\n",
      "Option for printingOptions changed from normal to all\n",
      "Total time (CPU seconds):       0.00   (Wallclock seconds):       0.00\n",
      "\n",
      "Status: Optimal\n",
      "Manganese = 0.11072726\n",
      "Pig_A = 0.7794313\n",
      "Pig_B = 0.0\n",
      "Pig_C = 0.22045797\n",
      "Total cost =  25.56019128\n"
     ]
    }
   ],
   "source": [
    "# 1st alternative\n",
    "# create a model\n",
    "from pulp import *\n",
    "model = LpProblem(\"Problem 2\", LpMinimize)\n",
    "\n",
    "# create variables\n",
    "x1 = LpVariable(\"Pig A\", lowBound =0)\n",
    "x2 = LpVariable(\"Pig B\", lowBound =0)\n",
    "x3 = LpVariable(\"Pig C\", lowBound =0)\n",
    "x4 = LpVariable(\"Manganese\", lowBound =0)\n",
    "\n",
    "# Objective function\n",
    "model += 26*x1 + 30*x2 + 20*x3 + 8*x4\n",
    "\n",
    "# constraints\n",
    "#model += h1 + h2 >= 1000\n",
    "model += 1000*x1 + 1000*x2 + 1000*x3 + x4 == 1000\n",
    "model += 4.5*x1 + 5*x2 + 4*x3 + x4 >= 4.5\n",
    "model += 40*x1 + 10*x2 + 6*x3 >= 32.5\n",
    "model += 40*x1 + 10*x2 + 6*x3 <= 55\n",
    "\n",
    "# Run the solver\n",
    "model.writeLP(\"models/LP1-prob2-model1.lp\")\n",
    "model.solve()\n",
    "\n",
    "print(\"Status:\", LpStatus[model.status])\n",
    "for v in model.variables():\n",
    "    print(v.name, \"=\", v.varValue)\n",
    "\n",
    "print(\"Total cost = \", value(model.objective))"
   ]
  }
 ],
 "metadata": {
  "kernelspec": {
   "display_name": "Python 3 (ipykernel)",
   "language": "python",
   "name": "python3"
  },
  "language_info": {
   "codemirror_mode": {
    "name": "ipython",
    "version": 3
   },
   "file_extension": ".py",
   "mimetype": "text/x-python",
   "name": "python",
   "nbconvert_exporter": "python",
   "pygments_lexer": "ipython3",
   "version": "3.9.16"
  }
 },
 "nbformat": 4,
 "nbformat_minor": 5
}
