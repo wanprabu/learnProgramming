{
 "cells": [
  {
   "cell_type": "code",
   "execution_count": 1,
   "id": "986e7a94-554a-4461-9bc1-d1225f092215",
   "metadata": {},
   "outputs": [],
   "source": [
    "import numpy as np\n",
    "import pandas as pd\n",
    "\n",
    "import gurobipy as gp\n",
    "from gurobipy import GRB"
   ]
  },
  {
   "cell_type": "code",
   "execution_count": 3,
   "id": "abf9796f-bc95-452f-b286-11b3b088e223",
   "metadata": {},
   "outputs": [],
   "source": [
    "# Parameters\n",
    "\n",
    "months = [\"Jan\", \"Feb\", \"Mar\", \"Apr\", \"May\", \"Jun\"]\n",
    "\n",
    "oils = [\"VEG1\", \"VEG2\", \"OIL1\", \"OIL2\", \"OIL3\"]\n",
    "\n",
    "cost = {\n",
    "    ('Jan', 'VEG1'): 110,\n",
    "    ('Jan', 'VEG2'): 120,\n",
    "    ('Jan', 'OIL1'): 130,\n",
    "    ('Jan', 'OIL2'): 110,\n",
    "    ('Jan', 'OIL3'): 115,\n",
    "    ('Feb', 'VEG1'): 130,\n",
    "    ('Feb', 'VEG2'): 130,\n",
    "    ('Feb', 'OIL1'): 110,\n",
    "    ('Feb', 'OIL2'): 90,\n",
    "    ('Feb', 'OIL3'): 115,\n",
    "    ('Mar', 'VEG1'): 110,\n",
    "    ('Mar', 'VEG2'): 140,\n",
    "    ('Mar', 'OIL1'): 130,\n",
    "    ('Mar', 'OIL2'): 100,\n",
    "    ('Mar', 'OIL3'): 95,\n",
    "    ('Apr', 'VEG1'): 120,\n",
    "    ('Apr', 'VEG2'): 110,\n",
    "    ('Apr', 'OIL1'): 120,\n",
    "    ('Apr', 'OIL2'): 120,\n",
    "    ('Apr', 'OIL3'): 125,\n",
    "    ('May', 'VEG1'): 100,\n",
    "    ('May', 'VEG2'): 120,\n",
    "    ('May', 'OIL1'): 150,\n",
    "    ('May', 'OIL2'): 110,\n",
    "    ('May', 'OIL3'): 105,\n",
    "    ('Jun', 'VEG1'): 90,\n",
    "    ('Jun', 'VEG2'): 100,\n",
    "    ('Jun', 'OIL1'): 140,\n",
    "    ('Jun', 'OIL2'): 80,\n",
    "    ('Jun', 'OIL3'): 135\n",
    "}\n",
    "\n",
    "hardness = {\"VEG1\": 8.8, \"VEG2\": 6.1, \"OIL1\": 2.0, \"OIL2\": 4.2, \"OIL3\": 5.0}\n",
    "\n",
    "price = 150\n",
    "init_store = 500\n",
    "target_store = 500\n",
    "veg_cap = 200\n",
    "oil_cap = 250\n",
    "\n",
    "min_hardness = 3\n",
    "max_hardness = 6\n",
    "holding_cost = 5"
   ]
  },
  {
   "cell_type": "code",
   "execution_count": 6,
   "id": "37f25a22-feab-4405-ab4a-fd243c6707fc",
   "metadata": {},
   "outputs": [],
   "source": [
    "food = gp.Model('Food Manufacture I')\n",
    "# Quantity of food produced in each period\n",
    "produce = food.addVars(months, name=\"Produce\")\n",
    "# Quantity bought of each product in each period\n",
    "buy = food.addVars(months, oils, name = \"Buy\")\n",
    "# Quantity used of each product  in each period\n",
    "consume = food.addVars(months, oils, name = \"Use\")\n",
    "# Quantity stored of each product  in each period\n",
    "store = food.addVars(months, oils, name = \"Store\")"
   ]
  },
  {
   "cell_type": "code",
   "execution_count": 7,
   "id": "bdf4d46f-72c0-4575-9715-e520476eef39",
   "metadata": {},
   "outputs": [
    {
     "name": "stdout",
     "output_type": "stream",
     "text": [
      "<gurobi.Var *Awaiting Model Update*>\n",
      "<gurobi.Var *Awaiting Model Update*>\n",
      "<gurobi.Var *Awaiting Model Update*>\n",
      "<gurobi.Var *Awaiting Model Update*>\n",
      "<gurobi.Var *Awaiting Model Update*>\n",
      "<gurobi.Var *Awaiting Model Update*>\n"
     ]
    }
   ],
   "source": [
    "for month in produce.keys():\n",
    "    print(produce[month])"
   ]
  },
  {
   "cell_type": "code",
   "execution_count": 10,
   "id": "01f11d80-b1ab-4f51-a401-8db9f92852d9",
   "metadata": {},
   "outputs": [],
   "source": [
    "#1. Initial Balance\n",
    "Balance0 = food.addConstrs((init_store + buy[months[0], oil]\n",
    "                 == consume[months[0], oil] + store[months[0], oil]\n",
    "                 for oil in oils), \"Initial_Balance\")\n",
    "\n",
    "#2. Balance\n",
    "Balance = food.addConstrs((store[months[months.index(month)-1], oil] + buy[month, oil]\n",
    "                 == consume[month, oil] + store[month, oil]\n",
    "                 for oil in oils for month in months if month != month[0]), \"Balance\")"
   ]
  },
  {
   "cell_type": "code",
   "execution_count": 11,
   "id": "d246a1e4-cecd-492e-98a2-ad4964d1da96",
   "metadata": {},
   "outputs": [],
   "source": [
    "#3. Inventory Target\n",
    "TargetInv = food.addConstrs((store[months[-1], oil] == target_store for oil in oils),\"End_Balance\")"
   ]
  },
  {
   "cell_type": "code",
   "execution_count": 12,
   "id": "ee42fdc6-aee4-4d9e-8a8c-bbb3be4b2ded",
   "metadata": {},
   "outputs": [],
   "source": [
    "#4.1 Vegetable Oil Capacity\n",
    "VegCapacity = food.addConstrs((gp.quicksum(consume[month, oil] for oil in oils if \"VEG\" in oil)\n",
    "                 <= veg_cap for month in months), \"Capacity_Veg\")\n",
    "\n",
    "#4.2 Non-vegetable Oil Capacity\n",
    "NonVegCapacity = food.addConstrs((gp.quicksum(consume[month, oil] for oil in oils if \"OIL\" in oil)\n",
    "                 <= oil_cap for month in months), \"Capacity_Oil\")"
   ]
  },
  {
   "cell_type": "code",
   "execution_count": 13,
   "id": "bdf58f70-fd17-49c9-ba3e-3b40c7348e1c",
   "metadata": {},
   "outputs": [],
   "source": [
    "#5. Hardness\n",
    "HardnessMin = food.addConstrs((gp.quicksum(hardness[oil]*consume[month, oil] for oil in oils)\n",
    "                 >= min_hardness*produce[month] for month in months), \"Hardness_lower\")\n",
    "HardnessMax = food.addConstrs((gp.quicksum(hardness[oil]*consume[month, oil] for oil in oils)\n",
    "                 <= max_hardness*produce[month] for month in months), \"Hardness_upper\")"
   ]
  },
  {
   "cell_type": "code",
   "execution_count": 19,
   "id": "eee9e228-9b7c-4dde-9429-837af4c177de",
   "metadata": {},
   "outputs": [
    {
     "name": "stdout",
     "output_type": "stream",
     "text": [
      "{'Jan': <gurobi.Constr *Awaiting Model Update*>, 'Feb': <gurobi.Constr *Awaiting Model Update*>, 'Mar': <gurobi.Constr *Awaiting Model Update*>, 'Apr': <gurobi.Constr *Awaiting Model Update*>, 'May': <gurobi.Constr *Awaiting Model Update*>, 'Jun': <gurobi.Constr *Awaiting Model Update*>}\n"
     ]
    }
   ],
   "source": [
    "print(HardnessMin)"
   ]
  },
  {
   "cell_type": "code",
   "execution_count": 14,
   "id": "103e879a-c822-4e6d-b8c8-1ad3f7360f33",
   "metadata": {},
   "outputs": [],
   "source": [
    "#6. Mass Conservation\n",
    "MassConservation = food.addConstrs((consume.sum(month) == produce[month] for month in months), \"Mass_conservation\")"
   ]
  },
  {
   "cell_type": "code",
   "execution_count": 15,
   "id": "ff131340-022e-4ad2-86aa-8c7a802bdd33",
   "metadata": {},
   "outputs": [],
   "source": [
    "#0. Objective Function\n",
    "obj = price*produce.sum() - buy.prod(cost) - holding_cost*store.sum()\n",
    "food.setObjective(obj, GRB.MAXIMIZE) # maximize profit"
   ]
  },
  {
   "cell_type": "code",
   "execution_count": 16,
   "id": "deb3e7f3-5ea5-427d-b251-4056bb50566f",
   "metadata": {},
   "outputs": [
    {
     "name": "stdout",
     "output_type": "stream",
     "text": [
      "150.0 <gurobi.Var *Awaiting Model Update*> + 150.0 <gurobi.Var *Awaiting Model Update*> + 150.0 <gurobi.Var *Awaiting Model Update*> + 150.0 <gurobi.Var *Awaiting Model Update*> + 150.0 <gurobi.Var *Awaiting Model Update*> + 150.0 <gurobi.Var *Awaiting Model Update*> + -110.0 <gurobi.Var *Awaiting Model Update*> + -120.0 <gurobi.Var *Awaiting Model Update*> + -130.0 <gurobi.Var *Awaiting Model Update*> + -110.0 <gurobi.Var *Awaiting Model Update*> + -115.0 <gurobi.Var *Awaiting Model Update*> + -130.0 <gurobi.Var *Awaiting Model Update*> + -130.0 <gurobi.Var *Awaiting Model Update*> + -110.0 <gurobi.Var *Awaiting Model Update*> + -90.0 <gurobi.Var *Awaiting Model Update*> + -115.0 <gurobi.Var *Awaiting Model Update*> + -110.0 <gurobi.Var *Awaiting Model Update*> + -140.0 <gurobi.Var *Awaiting Model Update*> + -130.0 <gurobi.Var *Awaiting Model Update*> + -100.0 <gurobi.Var *Awaiting Model Update*> + -95.0 <gurobi.Var *Awaiting Model Update*> + -120.0 <gurobi.Var *Awaiting Model Update*> + -110.0 <gurobi.Var *Awaiting Model Update*> + -120.0 <gurobi.Var *Awaiting Model Update*> + -120.0 <gurobi.Var *Awaiting Model Update*> + -125.0 <gurobi.Var *Awaiting Model Update*> + -100.0 <gurobi.Var *Awaiting Model Update*> + -120.0 <gurobi.Var *Awaiting Model Update*> + -150.0 <gurobi.Var *Awaiting Model Update*> + -110.0 <gurobi.Var *Awaiting Model Update*> + -105.0 <gurobi.Var *Awaiting Model Update*> + -90.0 <gurobi.Var *Awaiting Model Update*> + -100.0 <gurobi.Var *Awaiting Model Update*> + -140.0 <gurobi.Var *Awaiting Model Update*> + -80.0 <gurobi.Var *Awaiting Model Update*> + -135.0 <gurobi.Var *Awaiting Model Update*> + -5.0 <gurobi.Var *Awaiting Model Update*> + -5.0 <gurobi.Var *Awaiting Model Update*> + -5.0 <gurobi.Var *Awaiting Model Update*> + -5.0 <gurobi.Var *Awaiting Model Update*> + -5.0 <gurobi.Var *Awaiting Model Update*> + -5.0 <gurobi.Var *Awaiting Model Update*> + -5.0 <gurobi.Var *Awaiting Model Update*> + -5.0 <gurobi.Var *Awaiting Model Update*> + -5.0 <gurobi.Var *Awaiting Model Update*> + -5.0 <gurobi.Var *Awaiting Model Update*> + -5.0 <gurobi.Var *Awaiting Model Update*> + -5.0 <gurobi.Var *Awaiting Model Update*> + -5.0 <gurobi.Var *Awaiting Model Update*> + -5.0 <gurobi.Var *Awaiting Model Update*> + -5.0 <gurobi.Var *Awaiting Model Update*> + -5.0 <gurobi.Var *Awaiting Model Update*> + -5.0 <gurobi.Var *Awaiting Model Update*> + -5.0 <gurobi.Var *Awaiting Model Update*> + -5.0 <gurobi.Var *Awaiting Model Update*> + -5.0 <gurobi.Var *Awaiting Model Update*> + -5.0 <gurobi.Var *Awaiting Model Update*> + -5.0 <gurobi.Var *Awaiting Model Update*> + -5.0 <gurobi.Var *Awaiting Model Update*> + -5.0 <gurobi.Var *Awaiting Model Update*> + -5.0 <gurobi.Var *Awaiting Model Update*> + -5.0 <gurobi.Var *Awaiting Model Update*> + -5.0 <gurobi.Var *Awaiting Model Update*> + -5.0 <gurobi.Var *Awaiting Model Update*> + -5.0 <gurobi.Var *Awaiting Model Update*> + -5.0 <gurobi.Var *Awaiting Model Update*>\n"
     ]
    }
   ],
   "source": [
    "print(obj)"
   ]
  },
  {
   "cell_type": "code",
   "execution_count": 20,
   "id": "3cb50d8b-a773-4534-912e-52e00a8f30e1",
   "metadata": {},
   "outputs": [
    {
     "name": "stdout",
     "output_type": "stream",
     "text": [
      "Gurobi Optimizer version 11.0.2 build v11.0.2rc0 (linux64 - \"Rocky Linux 9.4 (Blue Onyx)\")\n",
      "\n",
      "CPU model: Intel(R) Xeon(R) Platinum 8171M CPU @ 2.60GHz, instruction set [SSE2|AVX|AVX2|AVX512]\n",
      "Thread count: 4 physical cores, 4 logical processors, using up to 4 threads\n",
      "\n",
      "Optimize a model with 105 rows, 96 columns and 413 nonzeros\n",
      "Model fingerprint: 0xb7b95fb4\n",
      "Coefficient statistics:\n",
      "  Matrix range     [1e+00, 9e+00]\n",
      "  Objective range  [5e+00, 2e+02]\n",
      "  Bounds range     [0e+00, 0e+00]\n",
      "  RHS range        [2e+02, 5e+02]\n",
      "Presolve removed 58 rows and 35 columns\n",
      "Presolve time: 0.01s\n",
      "Presolved: 47 rows, 61 columns, 169 nonzeros\n",
      "\n",
      "Iteration    Objective       Primal Inf.    Dual Inf.      Time\n",
      "       0    3.7375752e+05   1.924875e+03   0.000000e+00      0s\n",
      "      41    1.0784259e+05   0.000000e+00   0.000000e+00      0s\n",
      "\n",
      "Solved in 41 iterations and 0.01 seconds (0.00 work units)\n",
      "Optimal objective  1.078425926e+05\n"
     ]
    }
   ],
   "source": [
    "food.optimize()"
   ]
  },
  {
   "cell_type": "code",
   "execution_count": 21,
   "id": "5c646a9b-da48-40f6-85e7-77a5ce79d633",
   "metadata": {},
   "outputs": [
    {
     "data": {
      "text/html": [
       "<div>\n",
       "<style scoped>\n",
       "    .dataframe tbody tr th:only-of-type {\n",
       "        vertical-align: middle;\n",
       "    }\n",
       "\n",
       "    .dataframe tbody tr th {\n",
       "        vertical-align: top;\n",
       "    }\n",
       "\n",
       "    .dataframe thead th {\n",
       "        text-align: right;\n",
       "    }\n",
       "</style>\n",
       "<table border=\"1\" class=\"dataframe\">\n",
       "  <thead>\n",
       "    <tr style=\"text-align: right;\">\n",
       "      <th></th>\n",
       "      <th>VEG1</th>\n",
       "      <th>VEG2</th>\n",
       "      <th>OIL1</th>\n",
       "      <th>OIL2</th>\n",
       "      <th>OIL3</th>\n",
       "    </tr>\n",
       "  </thead>\n",
       "  <tbody>\n",
       "    <tr>\n",
       "      <th>Jan</th>\n",
       "      <td>0.0</td>\n",
       "      <td>0.0</td>\n",
       "      <td>0.0</td>\n",
       "      <td>0.0</td>\n",
       "      <td>0.0</td>\n",
       "    </tr>\n",
       "    <tr>\n",
       "      <th>Feb</th>\n",
       "      <td>0.0</td>\n",
       "      <td>0.0</td>\n",
       "      <td>0.0</td>\n",
       "      <td>500.0</td>\n",
       "      <td>0.0</td>\n",
       "    </tr>\n",
       "    <tr>\n",
       "      <th>Mar</th>\n",
       "      <td>0.0</td>\n",
       "      <td>0.0</td>\n",
       "      <td>0.0</td>\n",
       "      <td>0.0</td>\n",
       "      <td>0.0</td>\n",
       "    </tr>\n",
       "    <tr>\n",
       "      <th>Apr</th>\n",
       "      <td>0.0</td>\n",
       "      <td>0.0</td>\n",
       "      <td>0.0</td>\n",
       "      <td>0.0</td>\n",
       "      <td>0.0</td>\n",
       "    </tr>\n",
       "    <tr>\n",
       "      <th>May</th>\n",
       "      <td>0.0</td>\n",
       "      <td>0.0</td>\n",
       "      <td>0.0</td>\n",
       "      <td>0.0</td>\n",
       "      <td>250.0</td>\n",
       "    </tr>\n",
       "    <tr>\n",
       "      <th>Jun</th>\n",
       "      <td>659.3</td>\n",
       "      <td>540.7</td>\n",
       "      <td>0.0</td>\n",
       "      <td>750.0</td>\n",
       "      <td>0.0</td>\n",
       "    </tr>\n",
       "  </tbody>\n",
       "</table>\n",
       "</div>"
      ],
      "text/plain": [
       "      VEG1   VEG2  OIL1   OIL2   OIL3\n",
       "Jan    0.0    0.0   0.0    0.0    0.0\n",
       "Feb    0.0    0.0   0.0  500.0    0.0\n",
       "Mar    0.0    0.0   0.0    0.0    0.0\n",
       "Apr    0.0    0.0   0.0    0.0    0.0\n",
       "May    0.0    0.0   0.0    0.0  250.0\n",
       "Jun  659.3  540.7   0.0  750.0    0.0"
      ]
     },
     "execution_count": 21,
     "metadata": {},
     "output_type": "execute_result"
    }
   ],
   "source": [
    "rows = months.copy()\n",
    "columns = oils.copy()\n",
    "purchase_plan = pd.DataFrame(columns=columns, index=rows, data=0.0)\n",
    "\n",
    "for month, oil in buy.keys():\n",
    "    if (abs(buy[month, oil].x) > 1e-6):\n",
    "        purchase_plan.loc[month, oil] = np.round(buy[month, oil].x, 1)\n",
    "purchase_plan"
   ]
  },
  {
   "cell_type": "code",
   "execution_count": 22,
   "id": "d3643bdd-e34c-4c6f-ad5a-832463f90bdd",
   "metadata": {},
   "outputs": [
    {
     "name": "stdout",
     "output_type": "stream",
     "text": [
      "{('Jan', 'VEG1'): <gurobi.Var Buy[Jan,VEG1] (value 0.0)>, ('Jan', 'VEG2'): <gurobi.Var Buy[Jan,VEG2] (value 0.0)>, ('Jan', 'OIL1'): <gurobi.Var Buy[Jan,OIL1] (value 0.0)>, ('Jan', 'OIL2'): <gurobi.Var Buy[Jan,OIL2] (value 0.0)>, ('Jan', 'OIL3'): <gurobi.Var Buy[Jan,OIL3] (value 0.0)>, ('Feb', 'VEG1'): <gurobi.Var Buy[Feb,VEG1] (value 0.0)>, ('Feb', 'VEG2'): <gurobi.Var Buy[Feb,VEG2] (value 0.0)>, ('Feb', 'OIL1'): <gurobi.Var Buy[Feb,OIL1] (value 0.0)>, ('Feb', 'OIL2'): <gurobi.Var Buy[Feb,OIL2] (value 500.0)>, ('Feb', 'OIL3'): <gurobi.Var Buy[Feb,OIL3] (value 0.0)>, ('Mar', 'VEG1'): <gurobi.Var Buy[Mar,VEG1] (value 0.0)>, ('Mar', 'VEG2'): <gurobi.Var Buy[Mar,VEG2] (value 0.0)>, ('Mar', 'OIL1'): <gurobi.Var Buy[Mar,OIL1] (value 0.0)>, ('Mar', 'OIL2'): <gurobi.Var Buy[Mar,OIL2] (value 0.0)>, ('Mar', 'OIL3'): <gurobi.Var Buy[Mar,OIL3] (value 0.0)>, ('Apr', 'VEG1'): <gurobi.Var Buy[Apr,VEG1] (value 0.0)>, ('Apr', 'VEG2'): <gurobi.Var Buy[Apr,VEG2] (value 0.0)>, ('Apr', 'OIL1'): <gurobi.Var Buy[Apr,OIL1] (value 0.0)>, ('Apr', 'OIL2'): <gurobi.Var Buy[Apr,OIL2] (value 0.0)>, ('Apr', 'OIL3'): <gurobi.Var Buy[Apr,OIL3] (value 0.0)>, ('May', 'VEG1'): <gurobi.Var Buy[May,VEG1] (value 0.0)>, ('May', 'VEG2'): <gurobi.Var Buy[May,VEG2] (value 0.0)>, ('May', 'OIL1'): <gurobi.Var Buy[May,OIL1] (value 0.0)>, ('May', 'OIL2'): <gurobi.Var Buy[May,OIL2] (value 0.0)>, ('May', 'OIL3'): <gurobi.Var Buy[May,OIL3] (value 250.0)>, ('Jun', 'VEG1'): <gurobi.Var Buy[Jun,VEG1] (value 659.2592592592592)>, ('Jun', 'VEG2'): <gurobi.Var Buy[Jun,VEG2] (value 540.7407407407408)>, ('Jun', 'OIL1'): <gurobi.Var Buy[Jun,OIL1] (value 0.0)>, ('Jun', 'OIL2'): <gurobi.Var Buy[Jun,OIL2] (value 750.0)>, ('Jun', 'OIL3'): <gurobi.Var Buy[Jun,OIL3] (value 0.0)>}\n"
     ]
    }
   ],
   "source": [
    "print(buy)"
   ]
  },
  {
   "cell_type": "code",
   "execution_count": 25,
   "id": "e99a7bb3-ec78-4eed-a62c-54cc1ea1d59b",
   "metadata": {},
   "outputs": [
    {
     "name": "stdout",
     "output_type": "stream",
     "text": [
      "0.0\n",
      "0.0\n",
      "0.0\n",
      "0.0\n",
      "0.0\n",
      "0.0\n",
      "0.0\n",
      "0.0\n",
      "500.0\n",
      "0.0\n",
      "0.0\n",
      "0.0\n",
      "0.0\n",
      "0.0\n",
      "0.0\n",
      "0.0\n",
      "0.0\n",
      "0.0\n",
      "0.0\n",
      "0.0\n",
      "0.0\n",
      "0.0\n",
      "0.0\n",
      "0.0\n",
      "250.0\n",
      "659.2592592592592\n",
      "540.7407407407408\n",
      "0.0\n",
      "750.0\n",
      "0.0\n"
     ]
    }
   ],
   "source": [
    "for b in buy:\n",
    "    print(buy[b].x)"
   ]
  }
 ],
 "metadata": {
  "kernelspec": {
   "display_name": "Python 3 (ipykernel)",
   "language": "python",
   "name": "python3"
  },
  "language_info": {
   "codemirror_mode": {
    "name": "ipython",
    "version": 3
   },
   "file_extension": ".py",
   "mimetype": "text/x-python",
   "name": "python",
   "nbconvert_exporter": "python",
   "pygments_lexer": "ipython3",
   "version": "3.9.18"
  }
 },
 "nbformat": 4,
 "nbformat_minor": 5
}
