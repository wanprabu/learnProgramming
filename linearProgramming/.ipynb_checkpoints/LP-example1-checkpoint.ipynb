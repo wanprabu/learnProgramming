{
 "cells": [
  {
   "cell_type": "markdown",
   "id": "878f9744-8f78-4667-9e29-c5a6f284ae3c",
   "metadata": {},
   "source": [
    "# Introduction\n",
    "\n",
    "This notebook is intended to learn linear programming by solving several problems using Python solver. Herein, the [PuLP](https://coin-or.github.io/pulp/) library is chosen as a solver packages. \n",
    "\n",
    "Linear programming often involves maximising or minimising an objective function which subject to several constraints. To solve optimization problems, the following steps are generally carried out:\n",
    "1. Clearly make the problem description\n",
    "2. Formulate the problem into mathematical formulation\n",
    "3. Solve the mathematical program\n",
    "4. Perform post-optimal analysis\n",
    "5. Present the solution and analysis\n",
    "\n",
    "The problem used in this notebook will be varied ranging from text book, online source, and real problems. \n",
    "\n",
    "# Problem definition\n",
    "The problems from online source were taken from:\n",
    "* https://github.com/tstran155/Linear-Programming-Optimization-With-Python.syntax\n",
    "* https://github.com/Gurobi\n",
    "\n",
    "The problems from text book were taken from:\n",
    "* Applied Mathematical Programming\n",
    "* Supply Chain Management: Strategy, Planning, and Operation"
   ]
  },
  {
   "cell_type": "markdown",
   "id": "08d604ca-1eef-4edf-b759-3017ea1bb589",
   "metadata": {},
   "source": [
    "## Problem 1\n",
    "A company can produce 4 types of products **H1, H2, H3, and H4** using 2 types of raw materials **N1** and **N2**. The maximum amount of raw materials that the company can have is 600kg and 800kg, respectively. The consumption rate of each type of raw material for each type of product and the profit earned for each unit of product are given as follows:\n",
    "\n",
    "| Raw Material | H1 | H2 | H3 | H4 |\n",
    "| -- | -- | -- | -- | -- |\n",
    "| N1 | 0.5 | 0.2 | 0.3 | 0.6 |\n",
    "| N2 | 0.1 | 0.4 | 0.2 | 0.5 |\n",
    "\n",
    "|  | H1 | H2 | H3 | H4 |\n",
    "| -- | -- | -- | -- | -- |\n",
    "| Profit (thousand USD) | 0.8 | 0.3 | 0.38 | 0.4 |\n",
    "\n",
    "a. Find the optimal production plan for the company to achieve the maximum profit\n",
    "\n",
    "b. Additional constraints that the solution must satisfy:\n",
    "\n",
    "- The total number of products H1 and H2 is not less than 1000\n",
    "- The profit for one unit of product H3 is 0.5\n",
    "- With the requirement in a) find the optimal production plan for the company\n"
   ]
  },
  {
   "cell_type": "markdown",
   "id": "51aeb2c7-db3d-42f2-a634-3ec832ee041e",
   "metadata": {},
   "source": [
    "### Mathematical formulation\n",
    "\n",
    "#### Objective Function\n",
    "\\begin{equation}\n",
    "\\text{Maximize} \\quad Z = 0.8H_1 + 0.3H_2 + 0.38H_3 + 0.4H_4\n",
    "\\end{equation}\n",
    "\n",
    "#### Constraints\n",
    "$$ 0.5H_1 + 0.2H_2 + 0.3H_3 + 0.6H_4 <= 600 $$\n",
    "$$ 0.1H_1 + 0.4H_2 + 0.2H_3 + 0.5H_4 <= 800 $$\n",
    "$$ H_1 + H_2 >= 1000 $$\n"
   ]
  },
  {
   "cell_type": "markdown",
   "id": "89511f43-5002-49c2-aca3-396aa82a2892",
   "metadata": {},
   "source": [
    "#### Solution 1\n",
    "The following code used pulp library and CPLEX solver to solve the mathematical model"
   ]
  },
  {
   "cell_type": "code",
   "execution_count": 1,
   "id": "5ba539c0-42f8-45e7-8f9c-1f88a8115c3c",
   "metadata": {},
   "outputs": [
    {
     "name": "stdout",
     "output_type": "stream",
     "text": [
      "Defaulting to user installation because normal site-packages is not writeable\n",
      "Requirement already satisfied: pulp in /azhome/wapra1274@ad.uit.no/.local/lib/python3.9/site-packages (2.7.0)\n",
      "Note: you may need to restart the kernel to use updated packages.\n"
     ]
    }
   ],
   "source": [
    "pip install pulp"
   ]
  },
  {
   "cell_type": "code",
   "execution_count": 2,
   "id": "529087bd-9780-4ab5-98cc-0db456aaec8a",
   "metadata": {},
   "outputs": [
    {
     "data": {
      "text/plain": [
       "['GLPK_CMD',\n",
       " 'PYGLPK',\n",
       " 'CPLEX_CMD',\n",
       " 'CPLEX_PY',\n",
       " 'GUROBI',\n",
       " 'GUROBI_CMD',\n",
       " 'MOSEK',\n",
       " 'XPRESS',\n",
       " 'XPRESS',\n",
       " 'XPRESS_PY',\n",
       " 'PULP_CBC_CMD',\n",
       " 'COIN_CMD',\n",
       " 'COINMP_DLL',\n",
       " 'CHOCO_CMD',\n",
       " 'MIPCL_CMD',\n",
       " 'SCIP_CMD',\n",
       " 'HiGHS_CMD']"
      ]
     },
     "execution_count": 2,
     "metadata": {},
     "output_type": "execute_result"
    }
   ],
   "source": [
    "import pulp\n",
    "pulp.listSolvers()"
   ]
  },
  {
   "cell_type": "code",
   "execution_count": 3,
   "id": "13f4f1c5-c3e7-43ed-aab3-aadf971d4c94",
   "metadata": {},
   "outputs": [
    {
     "data": {
      "text/plain": [
       "['GLPK_CMD', 'PULP_CBC_CMD']"
      ]
     },
     "execution_count": 3,
     "metadata": {},
     "output_type": "execute_result"
    }
   ],
   "source": [
    "solver_list = pulp.listSolvers(onlyAvailable=True)\n",
    "solver_list"
   ]
  },
  {
   "cell_type": "code",
   "execution_count": 4,
   "id": "299a5752-f4d4-42c1-a544-b4a29762278a",
   "metadata": {},
   "outputs": [
    {
     "data": {
      "text/plain": [
       "['GLPK_CMD', 'PULP_CBC_CMD']"
      ]
     },
     "execution_count": 4,
     "metadata": {},
     "output_type": "execute_result"
    }
   ],
   "source": [
    "# add other solver\n",
    "pulp.getSolver(\"CPLEX_CMD\")\n",
    "solver_list = pulp.listSolvers(onlyAvailable=True)\n",
    "solver_list"
   ]
  },
  {
   "cell_type": "code",
   "execution_count": 13,
   "id": "8ba3f400-5078-4480-b519-e0ae050e05d2",
   "metadata": {},
   "outputs": [
    {
     "name": "stdout",
     "output_type": "stream",
     "text": [
      "Welcome to the CBC MILP Solver \n",
      "Version: 2.10.3 \n",
      "Build Date: Dec 15 2019 \n",
      "\n",
      "command line - /azhome/wapra1274@ad.uit.no/.local/lib/python3.9/site-packages/pulp/solverdir/cbc/linux/64/cbc /tmp/955fe856bb2a4449b2df22463c221ea2-pulp.mps max timeMode elapsed branch printingOptions all solution /tmp/955fe856bb2a4449b2df22463c221ea2-pulp.sol (default strategy 1)\n",
      "At line 2 NAME          MODEL\n",
      "At line 3 ROWS\n",
      "At line 7 COLUMNS\n",
      "At line 20 RHS\n",
      "At line 23 BOUNDS\n",
      "At line 24 ENDATA\n",
      "Problem MODEL has 2 rows, 4 columns and 8 elements\n",
      "Coin0008I MODEL read with 0 errors\n",
      "Option for timeMode changed from cpu to elapsed\n",
      "Presolve 2 (0) rows, 4 (0) columns and 8 (0) elements\n",
      "0  Obj -0 Dual inf 2.4949996 (4)\n",
      "0  Obj -0 Dual inf 2.4949996 (4)\n",
      "1  Obj 960\n",
      "Optimal - objective value 960\n",
      "Optimal objective 960 - 1 iterations time 0.002\n",
      "Option for printingOptions changed from normal to all\n",
      "Total time (CPU seconds):       0.00   (Wallclock seconds):       0.00\n",
      "\n",
      "Status: Optimal\n",
      "Product_1 = 1200.0\n",
      "Product_2 = 0.0\n",
      "Product_3 = 0.0\n",
      "Product_4 = 0.0\n",
      "Total profit =  960.0\n"
     ]
    }
   ],
   "source": [
    "# 1st alternative\n",
    "# create a model\n",
    "from pulp import *\n",
    "model = LpProblem(\"Problem 1\", LpMaximize)\n",
    "\n",
    "# create variables\n",
    "h1 = LpVariable(\"Product 1\", lowBound =0)\n",
    "h2 = LpVariable(\"Product 2\", lowBound =0)\n",
    "h3 = LpVariable(\"Product 3\", lowBound =0)\n",
    "h4 = LpVariable(\"Product 4\", lowBound =0)\n",
    "\n",
    "# Objective function\n",
    "model += 0.8*h1 + 0.3*h2 + 0.38*h3 + 0.4*h4\n",
    "\n",
    "# constraints\n",
    "#model += h1 + h2 >= 1000\n",
    "model += 0.5*h1 + 0.2*h2 + 0.3*h3 + 0.6*h4 <= 600\n",
    "model += 0.1*h1 + 0.4*h2 + 0.2*h3 + 0.5*h4 <= 800\n",
    "\n",
    "# Run the solver\n",
    "model.writeLP(\"models/LP1-prob1-model1.lp\")\n",
    "model.solve()\n",
    "\n",
    "print(\"Status:\", LpStatus[model.status])\n",
    "for v in model.variables():\n",
    "    print(v.name, \"=\", v.varValue)\n",
    "\n",
    "print(\"Total profit = \", value(model.objective))"
   ]
  },
  {
   "cell_type": "markdown",
   "id": "24c032dd-fff3-436d-bfa4-430e1be33b3b",
   "metadata": {},
   "source": [
    "#### Solution 2\n",
    "The following code is another alternative to implementing the mathematical model into code"
   ]
  },
  {
   "cell_type": "code",
   "execution_count": 12,
   "id": "d999e126-9149-4ed6-bccc-f2b8e761517e",
   "metadata": {
    "scrolled": true
   },
   "outputs": [
    {
     "name": "stdout",
     "output_type": "stream",
     "text": [
      "Welcome to the CBC MILP Solver \n",
      "Version: 2.10.3 \n",
      "Build Date: Dec 15 2019 \n",
      "\n",
      "command line - /azhome/wapra1274@ad.uit.no/.local/lib/python3.9/site-packages/pulp/solverdir/cbc/linux/64/cbc /tmp/4e2f2d76a6c943f0adc962db2acaed0c-pulp.mps max timeMode elapsed branch printingOptions all solution /tmp/4e2f2d76a6c943f0adc962db2acaed0c-pulp.sol (default strategy 1)\n",
      "At line 2 NAME          MODEL\n",
      "At line 3 ROWS\n",
      "At line 7 COLUMNS\n",
      "At line 20 RHS\n",
      "At line 23 BOUNDS\n",
      "At line 24 ENDATA\n",
      "Problem MODEL has 2 rows, 4 columns and 8 elements\n",
      "Coin0008I MODEL read with 0 errors\n",
      "Option for timeMode changed from cpu to elapsed\n",
      "Presolve 2 (0) rows, 4 (0) columns and 8 (0) elements\n",
      "0  Obj -0 Dual inf 2.4949996 (4)\n",
      "0  Obj -0 Dual inf 2.4949996 (4)\n",
      "1  Obj 960\n",
      "Optimal - objective value 960\n",
      "Optimal objective 960 - 1 iterations time 0.002\n",
      "Option for printingOptions changed from normal to all\n",
      "Total time (CPU seconds):       0.00   (Wallclock seconds):       0.00\n",
      "\n",
      "Status: Optimal\n",
      "H_Product_1 = 1200.0\n",
      "H_Product_2 = 0.0\n",
      "H_Product_3 = 0.0\n",
      "H_Product_4 = 0.0\n",
      "Total profit =  960.0\n"
     ]
    }
   ],
   "source": [
    "# 2nd alternative\n",
    "# create a model\n",
    "from pulp import *\n",
    "model = LpProblem(\"Problem 1\", LpMaximize)\n",
    "\n",
    "# create variables\n",
    "products = [\"Product 1\", \"Product 2\", \"Product 3\", \"Product 4\"]\n",
    "\n",
    "profits = {\n",
    "    \"Product 1\": 0.8,\n",
    "    \"Product 2\": 0.3,\n",
    "    \"Product 3\": 0.38,\n",
    "    \"Product 4\": 0.4,\n",
    "}\n",
    "\n",
    "materialN1 = {\n",
    "    \"Product 1\": 0.5,\n",
    "    \"Product 2\": 0.2,\n",
    "    \"Product 3\": 0.3,\n",
    "    \"Product 4\": 0.6,\n",
    "}\n",
    "\n",
    "materialN2 = {\n",
    "    \"Product 1\": 0.1,\n",
    "    \"Product 2\": 0.4,\n",
    "    \"Product 3\": 0.2,\n",
    "    \"Product 4\": 0.5,\n",
    "}\n",
    "\n",
    "# define lower bound for variables\n",
    "product_vars = LpVariable.dict(\"H\", products, 0)\n",
    "\n",
    "# Objective function\n",
    "model += (\n",
    "    lpSum([profits[i] * product_vars[i] for i in products]),\n",
    "    \"Total profit\"\n",
    ")\n",
    "\n",
    "# constraints\n",
    "#model += h1 + h2 >= 1000\n",
    "model += (\n",
    "    lpSum([materialN1[i] * product_vars[i] for i in products]) <= 600,\n",
    "    \"Material N1 Requirement\"\n",
    ")\n",
    "\n",
    "model += (\n",
    "    lpSum([materialN2[i] * product_vars[i] for i in products]) <= 800,\n",
    "    \"Material N2 Requirement\"\n",
    ")\n",
    "\n",
    "# Run the solver\n",
    "model.writeLP(\"models/LP1-prob1-model2.lp\")\n",
    "model.solve()\n",
    "\n",
    "print(\"Status:\", LpStatus[model.status])\n",
    "\n",
    "for v in model.variables():\n",
    "    print(v.name, \"=\", v.varValue)\n",
    "\n",
    "print(\"Total profit = \", value(model.objective))"
   ]
  },
  {
   "cell_type": "markdown",
   "id": "b89b5078-55c3-448f-b8a5-e7bba95ad800",
   "metadata": {},
   "source": [
    "#### Solution 3\n",
    "The following code use gurobi as a solver library."
   ]
  },
  {
   "cell_type": "code",
   "execution_count": 1,
   "id": "2a385978-e6be-4dee-bd19-b7603d6c0601",
   "metadata": {},
   "outputs": [
    {
     "name": "stdout",
     "output_type": "stream",
     "text": [
      "Defaulting to user installation because normal site-packages is not writeable\n",
      "Collecting gurobipy\n",
      "  Downloading gurobipy-11.0.2-cp39-cp39-manylinux2014_x86_64.manylinux_2_17_x86_64.whl.metadata (15 kB)\n",
      "Downloading gurobipy-11.0.2-cp39-cp39-manylinux2014_x86_64.manylinux_2_17_x86_64.whl (13.4 MB)\n",
      "\u001b[2K   \u001b[90m━━━━━━━━━━━━━━━━━━━━━━━━━━━━━━━━━━━━━━━━\u001b[0m \u001b[32m13.4/13.4 MB\u001b[0m \u001b[31m8.9 MB/s\u001b[0m eta \u001b[36m0:00:00\u001b[0m0:00:01\u001b[0m00:01\u001b[0m\n",
      "\u001b[?25hInstalling collected packages: gurobipy\n",
      "Successfully installed gurobipy-11.0.2\n",
      "Note: you may need to restart the kernel to use updated packages.\n"
     ]
    }
   ],
   "source": [
    "%pip install gurobipy"
   ]
  },
  {
   "cell_type": "code",
   "execution_count": 1,
   "id": "32bb517e-422f-47bc-b1a7-14f143d2e599",
   "metadata": {},
   "outputs": [],
   "source": [
    "import numpy as np\n",
    "import pandas as pd\n",
    "\n",
    "import gurobipy as gp\n",
    "from gurobipy import GRB"
   ]
  },
  {
   "cell_type": "code",
   "execution_count": 101,
   "id": "cc480ed6-1144-41f1-9d36-da796c7ef7bb",
   "metadata": {},
   "outputs": [],
   "source": [
    "# product types\n",
    "products = [\"Product1\", \"Product2\", \"Product3\", \"Product4\"]\n",
    "\n",
    "# material types\n",
    "materials = [\"N1\", \"N2\"]\n",
    "\n",
    "# material requirements of each product\n",
    "material_req = {\n",
    "    \"N1\": {\"Product1\" : 0.5, \"Product2\" : 0.2, \n",
    "           \"Product3\" : 0.3, \"Product4\" : 0.6,}, \n",
    "    \"N2\": {\"Product1\" : 0.1, \"Product2\" : 0.4,\n",
    "           \"Product3\" : 0.2, \"Product4\" : 0.5}\n",
    "}\n",
    "\n",
    "# profit earned of each product types\n",
    "profits = {\n",
    "    \"Product1\": 0.8,\n",
    "    \"Product2\": 0.3,\n",
    "    \"Product3\": 0.38,\n",
    "    \"Product4\": 0.4,\n",
    "}\n",
    "\n",
    "max_n1 = 600\n",
    "max_n2 = 800\n"
   ]
  },
  {
   "cell_type": "code",
   "execution_count": 102,
   "id": "c357250e-5033-4c97-97a6-b57d405e169c",
   "metadata": {},
   "outputs": [],
   "source": [
    "# create model\n",
    "manufacture = gp.Model(\"Product Manufaturer\")\n",
    "\n",
    "# Quantity of each product produced\n",
    "produce = manufacture.addVars(products, name=\"Produce\")"
   ]
  },
  {
   "cell_type": "code",
   "execution_count": 103,
   "id": "903f9d91-dfe2-4b34-98bb-4abb90ed61d2",
   "metadata": {},
   "outputs": [],
   "source": [
    "# add constraints of material N1\n",
    "const_n1 = manufacture.addConstrs((\n",
    "    gp.quicksum(material_req[material][product] * produce[product] \n",
    "                for product in material_req[material]) <= max_n1 \n",
    "    for material in materials if \"N1\" in material), \"Constraint material N1\")\n"
   ]
  },
  {
   "cell_type": "code",
   "execution_count": 104,
   "id": "f8f236ac-61c6-48ed-826a-9d4e41cf9a6b",
   "metadata": {},
   "outputs": [],
   "source": [
    "# add constraints of material N2\n",
    "const_n2 = manufacture.addConstrs((\n",
    "    gp.quicksum(material_req[material][product] * produce[product] \n",
    "                for product in material_req[material]) <= max_n2 \n",
    "    for material in materials if \"N2\" in material), \"Constraint material N2\")\n"
   ]
  },
  {
   "cell_type": "code",
   "execution_count": 105,
   "id": "7516c51e-29dd-422c-ab9f-7611126785c9",
   "metadata": {},
   "outputs": [],
   "source": [
    "# objective function for maximising profit\n",
    "obj = gp.quicksum(profits[product] * produce[product] for product in products)\n",
    "manufacture.setObjective(obj, GRB.MAXIMIZE)"
   ]
  },
  {
   "cell_type": "code",
   "execution_count": 106,
   "id": "7d5e0556-cb14-4380-be8e-1eb877673607",
   "metadata": {},
   "outputs": [
    {
     "name": "stdout",
     "output_type": "stream",
     "text": [
      "Gurobi Optimizer version 11.0.2 build v11.0.2rc0 (linux64 - \"Rocky Linux 9.4 (Blue Onyx)\")\n",
      "\n",
      "CPU model: Intel(R) Xeon(R) Platinum 8171M CPU @ 2.60GHz, instruction set [SSE2|AVX|AVX2|AVX512]\n",
      "Thread count: 4 physical cores, 4 logical processors, using up to 4 threads\n",
      "\n",
      "Optimize a model with 2 rows, 4 columns and 8 nonzeros\n",
      "Model fingerprint: 0x5075280a\n",
      "Coefficient statistics:\n",
      "  Matrix range     [1e-01, 6e-01]\n",
      "  Objective range  [3e-01, 8e-01]\n",
      "  Bounds range     [0e+00, 0e+00]\n",
      "  RHS range        [6e+02, 8e+02]\n",
      "Presolve time: 0.00s\n",
      "Presolved: 2 rows, 4 columns, 8 nonzeros\n",
      "\n",
      "Iteration    Objective       Primal Inf.    Dual Inf.      Time\n",
      "       0    3.0600000e+30   5.400000e+30   3.060000e+00      0s\n",
      "       2    9.6000000e+02   0.000000e+00   0.000000e+00      0s\n",
      "\n",
      "Solved in 2 iterations and 0.01 seconds (0.00 work units)\n",
      "Optimal objective  9.600000000e+02\n"
     ]
    }
   ],
   "source": [
    "# run optimization \n",
    "manufacture.optimize()"
   ]
  },
  {
   "cell_type": "code",
   "execution_count": 107,
   "id": "33cb7eed-e926-46e9-8fbc-840d444e1be4",
   "metadata": {},
   "outputs": [
    {
     "name": "stdout",
     "output_type": "stream",
     "text": [
      "\n",
      "Statistics for model Product Manufaturer:\n",
      "  Linear constraint matrix    : 2 Constrs, 4 Vars, 8 NZs\n",
      "  Matrix coefficient range    : [ 0.1, 0.6 ]\n",
      "  Objective coefficient range : [ 0.3, 0.8 ]\n",
      "  Variable bound range        : [ 0, 0 ]\n",
      "  RHS coefficient range       : [ 600, 800 ]\n",
      "None\n"
     ]
    }
   ],
   "source": [
    "print(manufacture.printStats())"
   ]
  },
  {
   "cell_type": "code",
   "execution_count": 108,
   "id": "b059673f-ed66-44d0-8d90-d8d9af09fd8d",
   "metadata": {},
   "outputs": [
    {
     "data": {
      "text/plain": [
       "960.0"
      ]
     },
     "execution_count": 108,
     "metadata": {},
     "output_type": "execute_result"
    }
   ],
   "source": [
    "# objective value of maximum profit\n",
    "manufacture.objVal"
   ]
  },
  {
   "cell_type": "code",
   "execution_count": 109,
   "id": "31660b21-621a-46eb-b36c-f1b987c5f159",
   "metadata": {},
   "outputs": [
    {
     "name": "stdout",
     "output_type": "stream",
     "text": [
      "Product1 : 1200.0\n",
      "Product2 : 0.0\n",
      "Product3 : 0.0\n",
      "Product4 : 0.0\n"
     ]
    }
   ],
   "source": [
    "# production quantity of each product\n",
    "for product in produce:\n",
    "    print(f\"{product} : {produce[product].x}\")"
   ]
  },
  {
   "cell_type": "code",
   "execution_count": 112,
   "id": "9255c7a7-4029-4bb3-819f-44882474e150",
   "metadata": {},
   "outputs": [
    {
     "name": "stdout",
     "output_type": "stream",
     "text": [
      "Warning: constraint name \"Constraint material N1[N1]\" has a space\n"
     ]
    }
   ],
   "source": [
    "manufacture.write(\"models/LP1-prob1-model3.lp\")\n",
    "manufacture.write(\"models/LP1-prob1-model3.sol\")"
   ]
  },
  {
   "cell_type": "markdown",
   "id": "4778658b-3f5a-475c-9186-b98812371103",
   "metadata": {},
   "source": [
    "## Problem 2\n",
    "_This problem is taken from book Applied Mathematical Programming_\n",
    "\n",
    "An iron foundry has a firm order to produce 1000 pounds of castings containing at least 0.45 percent manganese and between 3.25 percent and 5.50 percent silicon. As these particular casting are a special order, there are no suitable castings on hand. The castings sell for $0.45 per pound. The foundry has three types of pig iron available in essentially unlimited amounts, with the following propeties\n",
    "\n",
    "| | A | B | C |\n",
    "| -- | -- | -- | -- |\n",
    "| Silicon | 4% | 1% | 0.6% |\n",
    "| Manganese | 0.45% | 0.5% | 0.4% |\n",
    "\n",
    "Further, the production process is such that pure manganese can also be added directly to the melt. The costs of the various possible inputs are:\n",
    "\n",
    "* Pig A $\\$$21/thousand pounds \n",
    "* Pig B $\\$$25/thousand pounds\n",
    "* Pig C $\\$$15/thousand pounds\n",
    "* Manganese $\\$$8/pound\n",
    "\n",
    "It costs 0.5 cents to melt down a pound of pig iron. Out of what inputs should the foundry produce the castings in order to maximize profit?"
   ]
  },
  {
   "cell_type": "markdown",
   "id": "e84b93c9-8b3c-4192-9f25-21c079d22f8f",
   "metadata": {},
   "source": [
    "### Mathematical formulation\n",
    "\n",
    "The following variables denote the corresponding number of pounds of pig A, B, C, and pure mangenese, respectively.\n",
    "\n",
    "\\begin{gather*}\n",
    "x1 = \\text{Thousands of pounds of pig iron A} \\\\\n",
    "x2 = \\text{Thousands of pounds of pig iron B} \\\\\n",
    "x3 = \\text{Thousands of pounds of pig iron C} \\\\\n",
    "x4 = \\text{Pounds of pure manganese}\n",
    "\\end{gather*}\n",
    "\n",
    "As the castings profit per pound is $\\$$0.45 and the producing quantity is fix to 1000 pounds, the total income will be as follows:\n",
    "\n",
    "$Total income = 0.45 x 1000 = 450$\n",
    "\n",
    "The total cost incurred in the production of the alloy, we should add the melting cost 0.5 cent or $\\$$0.005/pound to the corresponding cost of each type of pig iron used. Thus, melting cost per thousand pounds will be 0.005 multiply to 1000 equal to $\\$$5 per thousand pounds. Accordingly the unit cost of each pig iron are:\n",
    "\n",
    "* Pig iron A   21 + 5 = 26\n",
    "* Pig iron B   25 + 5 = 30\n",
    "* Pig iron C   15 + 5 = 20\n",
    "\n",
    "Therefore, the total cost becomes:\n",
    "\n",
    "\\begin{equation}\n",
    "\\text{Total cost} = 26x1 + 30x2 + 20x3 + 8x4,\n",
    "\\end{equation}\n",
    "\n",
    "and the total profit will be:\n",
    "\n",
    "\\begin{gather*}\n",
    "\\text{Total profit} = \\text{Total income} - \\text{Total cost} \\\\\n",
    "\\text{Total profit} = 450 - 26x1 - 30x2 - 20x3 - 8x4 \\\\\n",
    "\\end{gather*}\n",
    "\n"
   ]
  },
  {
   "cell_type": "markdown",
   "id": "dc398c21-dec7-4aae-9b5a-5a7a7f8361da",
   "metadata": {
    "editable": true,
    "slideshow": {
     "slide_type": ""
    },
    "tags": []
   },
   "source": [
    "#### Objective Function\n",
    "Because the total production was fixed, maximization of the total profit is completely equivalent to the minimization of the total cost.\n",
    "\n",
    "$$ \\text{Minimize} \\quad Z = 26x1 + 30x2 + 20x3 + 8x4 $$\n",
    "\n",
    "#### Constraints\n",
    "The following constraint ensure that the total amount of produced castings is exactly equal to 1000 pounds.\n",
    "$$ 1000x1 + 1000x2 + 1000x3 + x4 = 1000 $$ \\labe\n",
    "\n",
    "The next constraint will ensure that the castings contain at least 0.45 percent of manganese which equal to 4.5 pounds in the 1000 pounds of produced castings. The constraint can be expressed as follows:\n",
    "$$ 4.5x1 + 5x2 + 4x3 + x4 >= 4.5 $$\n",
    "\n",
    "Similarly, the restriction regarding the silicon content, which should be in a range of 3.25 to 5.5 percent, can be represented by the following inequalities:\n",
    "$$ 40x1 + 10x2 + 6x3 >= 32.5 $$\n",
    "$$ 40x1 + 10x2 + 6x3 <= 55 $$\n",
    "\n",
    "$$\r\n",
    "\\begin{equation}\r\n",
    "2(x+5)-7 = 3(x-2)\r\n",
    "\\end{equatio$$\n",
    "```"
   ]
  },
  {
   "cell_type": "markdown",
   "id": "f1e16b11-ef74-4c6f-a42d-bf8952d7d0b8",
   "metadata": {},
   "source": [
    "#### Solution 1\n",
    "The following code used pulp library and CPLEX solver to solve the mathematical model"
   ]
  },
  {
   "cell_type": "code",
   "execution_count": 113,
   "id": "11208723-7d05-446a-ab78-5a7c8da0688f",
   "metadata": {},
   "outputs": [
    {
     "name": "stderr",
     "output_type": "stream",
     "text": [
      "/azhome/wapra1274@ad.uit.no/.local/lib/python3.9/site-packages/pulp/pulp.py:1352: UserWarning: Spaces are not permitted in the name. Converted to '_'\n",
      "  warnings.warn(\"Spaces are not permitted in the name. Converted to '_'\")\n"
     ]
    },
    {
     "name": "stdout",
     "output_type": "stream",
     "text": [
      "Welcome to the CBC MILP Solver \n",
      "Version: 2.10.3 \n",
      "Build Date: Dec 15 2019 \n",
      "\n",
      "command line - /azhome/wapra1274@ad.uit.no/.local/lib/python3.9/site-packages/pulp/solverdir/cbc/linux/64/cbc /tmp/e62de92a4a3b44a08dce4db1e0e7ff85-pulp.mps timeMode elapsed branch printingOptions all solution /tmp/e62de92a4a3b44a08dce4db1e0e7ff85-pulp.sol (default strategy 1)\n",
      "At line 2 NAME          MODEL\n",
      "At line 3 ROWS\n",
      "At line 9 COLUMNS\n",
      "At line 28 RHS\n",
      "At line 33 BOUNDS\n",
      "At line 34 ENDATA\n",
      "Problem MODEL has 4 rows, 4 columns and 14 elements\n",
      "Coin0008I MODEL read with 0 errors\n",
      "Option for timeMode changed from cpu to elapsed\n",
      "Presolve 4 (0) rows, 4 (0) columns and 14 (0) elements\n",
      "0  Obj 0 Primal inf 33.551268 (3)\n",
      "3  Obj 25.560191\n",
      "Optimal - objective value 25.560191\n",
      "Optimal objective 25.56019134 - 3 iterations time 0.002\n",
      "Option for printingOptions changed from normal to all\n",
      "Total time (CPU seconds):       0.00   (Wallclock seconds):       0.00\n",
      "\n",
      "Status: Optimal\n",
      "Manganese = 0.11072726\n",
      "Pig_A = 0.7794313\n",
      "Pig_B = 0.0\n",
      "Pig_C = 0.22045797\n",
      "Total cost =  25.56019128\n"
     ]
    }
   ],
   "source": [
    "# 1st alternative\n",
    "# create a model\n",
    "from pulp import *\n",
    "model = LpProblem(\"Problem 2\", LpMinimize)\n",
    "\n",
    "# create variables\n",
    "x1 = LpVariable(\"Pig A\", lowBound =0)\n",
    "x2 = LpVariable(\"Pig B\", lowBound =0)\n",
    "x3 = LpVariable(\"Pig C\", lowBound =0)\n",
    "x4 = LpVariable(\"Manganese\", lowBound =0)\n",
    "\n",
    "# Objective function\n",
    "model += 26*x1 + 30*x2 + 20*x3 + 8*x4\n",
    "\n",
    "# constraints\n",
    "#model += h1 + h2 >= 1000\n",
    "model += 1000*x1 + 1000*x2 + 1000*x3 + x4 == 1000\n",
    "model += 4.5*x1 + 5*x2 + 4*x3 + x4 >= 4.5\n",
    "model += 40*x1 + 10*x2 + 6*x3 >= 32.5\n",
    "model += 40*x1 + 10*x2 + 6*x3 <= 55\n",
    "\n",
    "# Run the solver\n",
    "model.writeLP(\"models/LP1-prob2-model1.lp\")\n",
    "model.solve()\n",
    "\n",
    "print(\"Status:\", LpStatus[model.status])\n",
    "for v in model.variables():\n",
    "    print(v.name, \"=\", v.varValue)\n",
    "\n",
    "print(\"Total cost = \", value(model.objective))"
   ]
  },
  {
   "cell_type": "markdown",
   "id": "e9b03056-ff1f-49a9-80d4-b5035ed4e097",
   "metadata": {},
   "source": [
    "#### Solution 2\n",
    "The following code is another alternative to implementing the mathematical model into code"
   ]
  },
  {
   "cell_type": "code",
   "execution_count": 139,
   "id": "bb6812bb-24a2-432b-97d8-a4e0f188c61d",
   "metadata": {},
   "outputs": [
    {
     "name": "stdout",
     "output_type": "stream",
     "text": [
      "Welcome to the CBC MILP Solver \n",
      "Version: 2.10.3 \n",
      "Build Date: Dec 15 2019 \n",
      "\n",
      "command line - /azhome/wapra1274@ad.uit.no/.local/lib/python3.9/site-packages/pulp/solverdir/cbc/linux/64/cbc /tmp/b6155f19ce4d45d59e51302785ab0272-pulp.mps timeMode elapsed branch printingOptions all solution /tmp/b6155f19ce4d45d59e51302785ab0272-pulp.sol (default strategy 1)\n",
      "At line 2 NAME          MODEL\n",
      "At line 3 ROWS\n",
      "At line 9 COLUMNS\n",
      "At line 28 RHS\n",
      "At line 33 BOUNDS\n",
      "At line 34 ENDATA\n",
      "Problem MODEL has 4 rows, 4 columns and 14 elements\n",
      "Coin0008I MODEL read with 0 errors\n",
      "Option for timeMode changed from cpu to elapsed\n",
      "Presolve 4 (0) rows, 4 (0) columns and 14 (0) elements\n",
      "0  Obj 0 Primal inf 33.551268 (3)\n",
      "3  Obj 25.560191\n",
      "Optimal - objective value 25.560191\n",
      "Optimal objective 25.56019134 - 3 iterations time 0.002\n",
      "Option for printingOptions changed from normal to all\n",
      "Total time (CPU seconds):       0.00   (Wallclock seconds):       0.00\n",
      "\n",
      "Status: Optimal\n",
      "Optimal Total Cost: $ 25.56019128\n",
      "Pig A (pounds): 0.7794313\n",
      "Pig B (pounds): 0.0\n",
      "Pig C (pounds): 0.22045797\n",
      "Manganese (pounds): 0.11072726\n"
     ]
    }
   ],
   "source": [
    "# second alternative\n",
    "import pulp\n",
    "\n",
    "# Create a LP problem\n",
    "problem = pulp.LpProblem(\"IronFoundry\", pulp.LpMinimize)\n",
    "\n",
    "# Define decision variables\n",
    "xA = pulp.LpVariable(\"Pig_A\", lowBound=0, cat=\"Continuous\")\n",
    "xB = pulp.LpVariable(\"Pig_B\", lowBound=0, cat=\"Continuous\")\n",
    "xC = pulp.LpVariable(\"Pig_C\", lowBound=0, cat=\"Continuous\")\n",
    "xM = pulp.LpVariable(\"Manganese\", lowBound=0, cat=\"Continuous\")\n",
    "\n",
    "# Define the objective function to minimize total cost\n",
    "cost_pig_A = 26\n",
    "cost_pig_B = 30\n",
    "cost_pig_C = 20\n",
    "cost_manganese = 8\n",
    "melting_cost_per_pound = 0.005\n",
    "\n",
    "problem += (cost_pig_A * xA + cost_pig_B * xB + cost_pig_C * xC + cost_manganese * xM\n",
    "            ), \"Total_Cost\"\n",
    "\n",
    "# Define constraints\n",
    "problem += (xA + xB + xC + 0.001* xM == 1), \"Total_Weight_Constraint\"\n",
    "problem += (4.5 * xA + 5 * xB + 4 * xC + xM >= 4.5), \"Manganese_Constraint\"\n",
    "problem += (40 * xA + 10 * xB + 6 * xC >= 32.5), \"Silicon_Lower_Constraint\"\n",
    "problem += (40 * xA + 10 * xB + 6 * xC <= 55), \"Silicon_Upper_Constraint\"\n",
    "\n",
    "# Solve the problem\n",
    "problem.solve()\n",
    "\n",
    "# Print the results\n",
    "print(\"Status:\", pulp.LpStatus[problem.status])\n",
    "print(\"Optimal Total Cost: $\", pulp.value(problem.objective))\n",
    "print(\"Pig A (pounds):\", pulp.value(xA))\n",
    "print(\"Pig B (pounds):\", pulp.value(xB))\n",
    "print(\"Pig C (pounds):\", pulp.value(xC))\n",
    "print(\"Manganese (pounds):\", pulp.value(xM))\n",
    "\n",
    "# save the model\n",
    "problem.writeLP(\"models/LP1-prob2-model2.lp\")\n",
    "problem.toJson(\"models/LP1-prob2-model2.sol\")\n"
   ]
  },
  {
   "cell_type": "markdown",
   "id": "65f4ef87-4fe7-4ce5-b0a4-21c68cde618b",
   "metadata": {},
   "source": [
    "#### Solution 3\n",
    "The following code is another alternative to solving the mathematical model using gurobi"
   ]
  },
  {
   "cell_type": "code",
   "execution_count": 141,
   "id": "a73eed1d-30b8-4599-81c8-2a72f7f729f2",
   "metadata": {},
   "outputs": [],
   "source": [
    "import numpy as np\n",
    "import pandas as pd\n",
    "\n",
    "import gurobipy as gp\n",
    "from gurobipy import GRB"
   ]
  },
  {
   "cell_type": "code",
   "execution_count": 179,
   "id": "d6a4a8a4-bf35-45b9-9f85-849a82256117",
   "metadata": {},
   "outputs": [],
   "source": [
    "# product types\n",
    "irons = [\"PigA\", \"PigB\", \"PigC\", \"Manganese\"]\n",
    "\n",
    "# material types\n",
    "materials = [\"silicon\", \"manganese\"]\n",
    "\n",
    "# material compounds of each product\n",
    "material_comp = {\n",
    "    \"silicon\": {\"PigA\" : 40, \"PigB\" : 10, \"PigC\" : 6, \"Manganese\": 0}, \n",
    "    \"manganese\": {\"PigA\" : 4.5, \"PigB\" : 5, \"PigC\" : 4, \"Manganese\": 1}\n",
    "}\n",
    "\n",
    "# profit earned of each product types\n",
    "costs = {\n",
    "    \"PigA\": 26,\n",
    "    \"PigB\": 30,\n",
    "    \"PigC\": 20,\n",
    "    \"Manganese\": 8,\n",
    "}\n",
    "\n",
    "max_product = 1000\n",
    "min_manganese = 4.5\n",
    "min_silicon = 32.5\n",
    "max_silicon = 55\n"
   ]
  },
  {
   "cell_type": "code",
   "execution_count": 180,
   "id": "aab850d9-ba85-4880-a8b4-29b44de3d495",
   "metadata": {},
   "outputs": [],
   "source": [
    "# create model\n",
    "factory = gp.Model(\"Iron Factory\")\n",
    "\n",
    "# Quantity of each product produced\n",
    "produce_iron = factory.addVars(irons, name=\"Produce\")"
   ]
  },
  {
   "cell_type": "code",
   "execution_count": 181,
   "id": "402b32fa-cc1b-48b9-aac5-742aa083d868",
   "metadata": {},
   "outputs": [],
   "source": [
    "# add constraints of maximum production\n",
    "const_max_production = factory.addConstr((\n",
    "    gp.quicksum(1000 * produce_iron[product] \n",
    "                for product in irons if product not in \"Manganese\") \n",
    "    + produce_iron[\"Manganese\"] <= max_product), \"Constraint maximum production\")"
   ]
  },
  {
   "cell_type": "code",
   "execution_count": 182,
   "id": "be8566ac-de9d-4f1f-bbe9-fca6b2b7e6df",
   "metadata": {},
   "outputs": [],
   "source": [
    "# add constraints of min manganese compounds\n",
    "const_manganese = factory.addConstr((\n",
    "    gp.quicksum(material_comp[\"manganese\"][product] * produce_iron[product] \n",
    "                for product in irons) >= min_manganese), \"Constraint min manganese\")"
   ]
  },
  {
   "cell_type": "code",
   "execution_count": 183,
   "id": "a44f630b-7f54-43b5-9035-afd080575850",
   "metadata": {},
   "outputs": [],
   "source": [
    "# add constraints of min silicon compounds\n",
    "const_manganese = factory.addConstr((\n",
    "    gp.quicksum(material_comp[\"silicon\"][product] * produce_iron[product] \n",
    "                for product in irons) >= min_silicon), \"Constraint min silicon\")"
   ]
  },
  {
   "cell_type": "code",
   "execution_count": 184,
   "id": "2ef6c039-c0f5-4f1b-a2a2-d897023d522b",
   "metadata": {},
   "outputs": [],
   "source": [
    "# add constraints of max silicon compounds\n",
    "const_manganese = factory.addConstr((\n",
    "    gp.quicksum(material_comp[\"silicon\"][product] * produce_iron[product] \n",
    "                for product in irons) <= max_silicon), \"Constraint max silicon\")"
   ]
  },
  {
   "cell_type": "code",
   "execution_count": 185,
   "id": "75fc9839-383a-4632-979b-76d8cefbdd4b",
   "metadata": {},
   "outputs": [],
   "source": [
    "# objective function for maximising profit\n",
    "obj = gp.quicksum(costs[product] * produce_iron[product] for product in irons)\n",
    "factory.setObjective(obj, GRB.MINIMIZE)"
   ]
  },
  {
   "cell_type": "code",
   "execution_count": 186,
   "id": "d09aa9b4-cb19-4a6f-b04e-90d19aebb1cc",
   "metadata": {},
   "outputs": [
    {
     "name": "stdout",
     "output_type": "stream",
     "text": [
      "Gurobi Optimizer version 11.0.2 build v11.0.2rc0 (linux64 - \"Rocky Linux 9.4 (Blue Onyx)\")\n",
      "\n",
      "CPU model: Intel(R) Xeon(R) Platinum 8171M CPU @ 2.60GHz, instruction set [SSE2|AVX|AVX2|AVX512]\n",
      "Thread count: 4 physical cores, 4 logical processors, using up to 4 threads\n",
      "\n",
      "Optimize a model with 4 rows, 4 columns and 14 nonzeros\n",
      "Model fingerprint: 0x5209d78a\n",
      "Coefficient statistics:\n",
      "  Matrix range     [1e+00, 1e+03]\n",
      "  Objective range  [8e+00, 3e+01]\n",
      "  Bounds range     [0e+00, 0e+00]\n",
      "  RHS range        [4e+00, 1e+03]\n",
      "Presolve removed 1 rows and 0 columns\n",
      "Presolve time: 0.01s\n",
      "Presolved: 3 rows, 5 columns, 12 nonzeros\n",
      "\n",
      "Iteration    Objective       Primal Inf.    Dual Inf.      Time\n",
      "       0    2.3938806e+01   3.810607e+00   0.000000e+00      0s\n",
      "       2    2.5560191e+01   0.000000e+00   0.000000e+00      0s\n",
      "\n",
      "Solved in 2 iterations and 0.01 seconds (0.00 work units)\n",
      "Optimal objective  2.556019134e+01\n"
     ]
    }
   ],
   "source": [
    "# run optimization \n",
    "factory.optimize()"
   ]
  },
  {
   "cell_type": "code",
   "execution_count": 187,
   "id": "fbd63aab-7ca6-49a2-ae27-ff1c9128980a",
   "metadata": {},
   "outputs": [
    {
     "data": {
      "text/plain": [
       "25.560191336699443"
      ]
     },
     "execution_count": 187,
     "metadata": {},
     "output_type": "execute_result"
    }
   ],
   "source": [
    "# objective value of maximum profit\n",
    "factory.objVal"
   ]
  },
  {
   "cell_type": "code",
   "execution_count": 190,
   "id": "26ccd4e2-f3e8-4812-9709-71256b492019",
   "metadata": {},
   "outputs": [
    {
     "name": "stdout",
     "output_type": "stream",
     "text": [
      "PigA : 0.779\n",
      "PigB : 0.0\n",
      "PigC : 0.22\n",
      "Manganese : 0.111\n"
     ]
    }
   ],
   "source": [
    "# production quantity of each product\n",
    "for product in produce_iron:\n",
    "    print(f\"{product} : {produce_iron[product].x:.3}\")"
   ]
  }
 ],
 "metadata": {
  "kernelspec": {
   "display_name": "Python 3 (ipykernel)",
   "language": "python",
   "name": "python3"
  },
  "language_info": {
   "codemirror_mode": {
    "name": "ipython",
    "version": 3
   },
   "file_extension": ".py",
   "mimetype": "text/x-python",
   "name": "python",
   "nbconvert_exporter": "python",
   "pygments_lexer": "ipython3",
   "version": "3.9.18"
  }
 },
 "nbformat": 4,
 "nbformat_minor": 5
}
